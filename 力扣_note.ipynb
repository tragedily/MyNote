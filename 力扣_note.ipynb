{
 "cells": [
  {
   "cell_type": "markdown",
   "id": "f3c752d4",
   "metadata": {},
   "source": [
    "### 1.两数之和"
   ]
  },
  {
   "cell_type": "markdown",
   "id": "723c929d",
   "metadata": {},
   "source": [
    "给定一个整数数组 nums 和一个整数目标值 target，请你在该数组中找出 和为目标值 target  的那 两个 整数，并返回它们的数组下标。\n",
    "\n",
    "你可以假设每种输入只会对应一个答案。但是，数组中同一个元素在答案里不能重复出现。\n",
    "\n",
    "你可以按任意顺序返回答案\n"
   ]
  },
  {
   "cell_type": "markdown",
   "id": "b1c30020",
   "metadata": {},
   "source": [
    "##### 1.暴力破解法"
   ]
  },
  {
   "cell_type": "code",
   "execution_count": 3,
   "id": "e6d9fdf2",
   "metadata": {},
   "outputs": [],
   "source": [
    "def twoSum(nums, target):\n",
    "    for i in range(len(nums)):\n",
    "        for j in range(i+1, len(nums)):#两个for循环暴力破解\n",
    "            if nums[i] == target - nums[j]:\n",
    "                return [i,j]\n",
    "    return []"
   ]
  },
  {
   "cell_type": "markdown",
   "id": "0b9a98a0",
   "metadata": {},
   "source": [
    "##### 2.哈希表法"
   ]
  },
  {
   "cell_type": "code",
   "execution_count": 4,
   "id": "517ee4e1",
   "metadata": {},
   "outputs": [],
   "source": [
    "def twoSum(nums, target):\n",
    "    hashmap = {}#建立哈希表\n",
    "    for index, value in enumerate(nums):\n",
    "        anotherValue = target - value\n",
    "        if anotherValue in hashmap:\n",
    "            return [hashmap[anotherValue], index]#如果匹配,返回两个值的索引\n",
    "        hashmap[value] = index#如果anotherValue不存在于哈希表中,则将该value的索引录入哈希表\n",
    "    return None"
   ]
  },
  {
   "cell_type": "markdown",
   "id": "74155727",
   "metadata": {},
   "source": [
    "### 2.两数相加"
   ]
  },
  {
   "cell_type": "markdown",
   "id": "67679f3e",
   "metadata": {},
   "source": [
    "给你两个 非空 的链表，表示两个非负的整数。它们每位数字都是按照 逆序 的方式存储的，并且每个节点只能存储 一位 数字。\n",
    "\n",
    "请你将两个数相加，并以相同形式返回一个表示和的链表。\n",
    "\n",
    "你可以假设除了数字 0 之外，这两个数都不会以 0 开头。"
   ]
  },
  {
   "cell_type": "markdown",
   "id": "104aad01",
   "metadata": {},
   "source": [
    "##### 1.模拟"
   ]
  },
  {
   "cell_type": "code",
   "execution_count": null,
   "id": "d5c698e6",
   "metadata": {},
   "outputs": [],
   "source": [
    "class ListNode:\n",
    "    def __init__(self, val=0, next=None):\n",
    "        self.val = val\n",
    "        self.next = next\n",
    "class Solution:\n",
    "    def addTwoNumbers(self, l1: ListNode, l2: ListNode) -> ListNode:\n",
    "        #dummy虚拟指针,curr遍历指针\n",
    "        dummy = curr = ListNode(None)\n",
    "        carry = 0\n",
    "\n",
    "        while l1 or l2 or carry != 0:\n",
    "            carry += (l1.val if l1 else 0) + (l2.val if l2 else 0)\n",
    "            curr.next = ListNode(carry % 10)\n",
    "            curr = curr.next\n",
    "            if l1: l1 = l1.next\n",
    "            if l2: l2 = l2.next\n",
    "            carry = carry // 10\n",
    "\n",
    "        return dummy.next"
   ]
  },
  {
   "cell_type": "markdown",
   "id": "23a76fad",
   "metadata": {},
   "source": [
    "### 3.无重复字符的最长子串"
   ]
  },
  {
   "cell_type": "markdown",
   "id": "9c6d22f7",
   "metadata": {},
   "source": [
    "给定一个字符串 s ，请你找出其中不含有重复字符的 最长子串 的长度。"
   ]
  },
  {
   "cell_type": "markdown",
   "id": "8a0d430e",
   "metadata": {},
   "source": [
    "##### 1.滑动窗口法"
   ]
  },
  {
   "cell_type": "code",
   "execution_count": null,
   "id": "31ce8c18",
   "metadata": {},
   "outputs": [],
   "source": [
    "def lengthOfLongestSubstring(s: str) -> int:\n",
    "    # 哈希集合，记录每个字符是否出现过\n",
    "    occ = set()\n",
    "    n = len(s)\n",
    "    # 右指针，初始值为 -1，相当于我们在字符串的左边界的左侧，还没有开始移动\n",
    "    rk, ans = -1, 0\n",
    "    for i in range(n):\n",
    "        if i != 0:\n",
    "            # 左指针向右移动一格，移除一个字符\n",
    "            occ.remove(s[i - 1])\n",
    "        while rk + 1 < n and s[rk + 1] not in occ:\n",
    "            # 不断地移动右指针\n",
    "            occ.add(s[rk + 1])\n",
    "            rk += 1\n",
    "        # 第 i 到 rk 个字符是一个极长的无重复字符子串\n",
    "        ans = max(ans, rk - i + 1)\n",
    "    return ans"
   ]
  },
  {
   "cell_type": "markdown",
   "id": "2c3caa43",
   "metadata": {},
   "source": [
    "### 5.最长回文子串"
   ]
  },
  {
   "cell_type": "markdown",
   "id": "c5e72d93",
   "metadata": {},
   "source": [
    "给你一个字符串 s，找到 s 中最长的回文子串。"
   ]
  },
  {
   "cell_type": "markdown",
   "id": "f295c614",
   "metadata": {},
   "source": [
    "##### 1.列举法"
   ]
  },
  {
   "cell_type": "code",
   "execution_count": 1,
   "id": "dba35bdc",
   "metadata": {},
   "outputs": [],
   "source": [
    "#时间复杂度高\n",
    "def longestPalindrome(s):\n",
    "    def CheckString(string):\n",
    "        a = ''\n",
    "        for i in reversed(string):\n",
    "            a += str(i)\n",
    "        if a == string:\n",
    "            return True\n",
    "        else:\n",
    "            return False\n",
    "    \n",
    "    l = len(s)\n",
    "    check = 0#检查是否找到回文子串\n",
    "    b = 1#子串个数\n",
    "    while check != 1:\n",
    "        c = l+1-b#子串长度\n",
    "        for i in range(b):\n",
    "            s1 = s[i:i+c]\n",
    "            if CheckString(s1) == True:\n",
    "                return s1\n",
    "                check = 1\n",
    "        b += 1"
   ]
  },
  {
   "cell_type": "markdown",
   "id": "d13e787d",
   "metadata": {},
   "source": [
    "##### 2.动态规划"
   ]
  },
  {
   "cell_type": "code",
   "execution_count": 4,
   "id": "1341c029",
   "metadata": {},
   "outputs": [],
   "source": [
    "def longestPalindrome(s: str) -> str:\n",
    "    n = len(s)\n",
    "    if n < 2:\n",
    "        return s\n",
    "\n",
    "    max_len = 1\n",
    "    begin = 0\n",
    "    # dp[i][j] 表示 s[i..j] 是否是回文串\n",
    "    dp = [[False] * n for _ in range(n)]\n",
    "    for i in range(n):\n",
    "        dp[i][i] = True\n",
    "\n",
    "    # 递推开始\n",
    "    # 先枚举子串长度\n",
    "    for L in range(2, n + 1):\n",
    "        # 枚举左边界，左边界的上限设置可以宽松一些\n",
    "        for i in range(n):\n",
    "            # 由 L 和 i 可以确定右边界，即 j - i + 1 = L 得\n",
    "            j = L + i - 1\n",
    "            # 如果右边界越界，就可以退出当前循环\n",
    "            if j >= n:\n",
    "                break\n",
    "\n",
    "            if s[i] != s[j]:\n",
    "                dp[i][j] = False \n",
    "            else:\n",
    "                if j - i < 3:\n",
    "                    dp[i][j] = True\n",
    "                else:\n",
    "                    dp[i][j] = dp[i + 1][j - 1]\n",
    "\n",
    "            # 只要 dp[i][L] == true 成立，就表示子串 s[i..L] 是回文，此时记录回文长度和起始位置\n",
    "            if dp[i][j] and j - i + 1 > max_len:\n",
    "                max_len = j - i + 1\n",
    "                begin = i\n",
    "    return s[begin:begin + max_len]\n"
   ]
  },
  {
   "cell_type": "markdown",
   "id": "02f10e16",
   "metadata": {},
   "source": [
    "##### 3.中心扩展算法"
   ]
  },
  {
   "cell_type": "code",
   "execution_count": 23,
   "id": "680834e3",
   "metadata": {},
   "outputs": [],
   "source": [
    "def expandAroundCenter(s, left, right):\n",
    "    while left >= 0 and right < len(s) and s[left] == s[right]:\n",
    "        left -= 1\n",
    "        right += 1\n",
    "    return left + 1, right - 1\n",
    "\n",
    "def longestPalindrome(s: str) -> str:\n",
    "    start, end = 0, 0\n",
    "    for i in range(len(s)):\n",
    "        left1, right1 = expandAroundCenter(s, i, i)\n",
    "        left2, right2 = expandAroundCenter(s, i, i + 1)\n",
    "        if right1 - left1 > end - start:\n",
    "            start, end = left1, right1\n",
    "        if right2 - left2 > end - start:\n",
    "            start, end = left2, right2\n",
    "    return s[start: end + 1]"
   ]
  },
  {
   "cell_type": "markdown",
   "id": "ce17fa9c",
   "metadata": {},
   "source": [
    "### 7.整数反转"
   ]
  },
  {
   "cell_type": "markdown",
   "id": "225c4eeb",
   "metadata": {},
   "source": [
    "给你一个 32 位的有符号整数 x ，返回将 x 中的数字部分反转后的结果。\n",
    "\n",
    "如果反转后整数超过 32 位的有符号整数的范围 [−231,  231 − 1] ，就返回 0。\n"
   ]
  },
  {
   "cell_type": "markdown",
   "id": "a5348419",
   "metadata": {},
   "source": [
    "##### 1.反转字符串"
   ]
  },
  {
   "cell_type": "code",
   "execution_count": 5,
   "id": "d7441d7e",
   "metadata": {},
   "outputs": [],
   "source": [
    "def reverse(x):\n",
    "    a = ''\n",
    "    if x > 0:\n",
    "        for i in str(x):\n",
    "            a = i + a\n",
    "    if x < 0:\n",
    "        for i in str(-x):\n",
    "            a = i + a\n",
    "        a = '-' + a\n",
    "    if x == 0:\n",
    "        a = 0\n",
    "    return int(a)"
   ]
  },
  {
   "cell_type": "markdown",
   "id": "332c9c98",
   "metadata": {},
   "source": [
    "##### 2.取余反转"
   ]
  },
  {
   "cell_type": "code",
   "execution_count": 6,
   "id": "45819225",
   "metadata": {},
   "outputs": [],
   "source": [
    "def reverse(x: int) -> int:\n",
    "    y, res = abs(x), 0\n",
    "    # 则其数值范围为 [−2^31,  2^31 − 1]\n",
    "    boundry = (1<<31) -1 if x>0 else 1<<31\n",
    "    while y != 0:\n",
    "        res = res*10 + y%10\n",
    "        if res > boundry :\n",
    "            return 0\n",
    "        y //= 10\n",
    "    return res if x >0 else -res"
   ]
  },
  {
   "cell_type": "markdown",
   "id": "ebcfb9a6",
   "metadata": {},
   "source": [
    "### 8. 字符串转换整数 (atoi)"
   ]
  },
  {
   "cell_type": "markdown",
   "id": "7b6b8e1c",
   "metadata": {},
   "source": [
    "请你来实现一个 myAtoi(string s) 函数，使其能将字符串转换成一个 32 位有符号整数（类似 C/C++ 中的 atoi 函数）。\n",
    "\n",
    "函数 myAtoi(string s) 的算法如下：\n",
    "\n",
    "读入字符串并丢弃无用的前导空格\n",
    "检查下一个字符（假设还未到字符末尾）为正还是负号，读取该字符（如果有）。 确定最终结果是负数还是正数。 如果两者都不存在，则假定结果为正。\n",
    "读入下一个字符，直到到达下一个非数字字符或到达输入的结尾。字符串的其余部分将被忽略。\n",
    "将前面步骤读入的这些数字转换为整数（即，\"123\" -> 123， \"0032\" -> 32）。如果没有读入数字，则整数为 0 。必要时更改符号（从步骤 2 开始）。\n",
    "如果整数数超过 32 位有符号整数范围 [−231,  231 − 1] ，需要截断这个整数，使其保持在这个范围内。具体来说，小于 −231 的整数应该被固定为 −231 ，大于 231 − 1 的整数应该被固定为 231 − 1 。\n",
    "返回整数作为最终结果。\n",
    "注意：\n",
    "\n",
    "本题中的空白字符只包括空格字符 ' ' 。\n",
    "除前导空格或数字后的其余字符串外，请勿忽略 任何其他字符。"
   ]
  },
  {
   "cell_type": "markdown",
   "id": "2c72d365",
   "metadata": {},
   "source": [
    "##### 1.有限状态机"
   ]
  },
  {
   "cell_type": "code",
   "execution_count": null,
   "id": "87b1d0ae",
   "metadata": {},
   "outputs": [],
   "source": [
    "class Solution:\n",
    "    def strToInt(self, str: str) -> int:\n",
    "        str = str.strip()                      # 删除首尾空格\n",
    "        if not str: return 0                   # 字符串为空则直接返回\n",
    "        res, i, sign = 0, 1, 1\n",
    "        int_max, int_min, bndry = 2 ** 31 - 1, -2 ** 31, 2 ** 31 // 10\n",
    "        if str[0] == '-': sign = -1            # 保存负号\n",
    "        elif str[0] != '+': i = 0              # 若无符号位，则需从 i = 0 开始数字拼接\n",
    "        for c in str[i:]:\n",
    "            if not '0' <= c <= '9' : break     # 遇到非数字的字符则跳出\n",
    "            if res > bndry or res == bndry and c > '7': return int_max if sign == 1 else int_min # 数字越界处理\n",
    "            res = 10 * res + ord(c) - ord('0') # 数字拼接\n",
    "        return sign * res"
   ]
  },
  {
   "cell_type": "markdown",
   "id": "6872928e",
   "metadata": {},
   "source": [
    "### 9.回文数"
   ]
  },
  {
   "cell_type": "markdown",
   "id": "77b40ac2",
   "metadata": {},
   "source": [
    "给你一个整数 x ，如果 x 是一个回文整数，返回 true ；否则，返回 false 。\n",
    "\n",
    "回文数是指正序（从左向右）和倒序（从右向左）读都是一样的整数。例如，121 是回文，而 123 不是。\n"
   ]
  },
  {
   "cell_type": "markdown",
   "id": "8d5bb655",
   "metadata": {},
   "source": [
    "##### 1.反转一半数字"
   ]
  },
  {
   "cell_type": "code",
   "execution_count": 8,
   "id": "f8d91390",
   "metadata": {},
   "outputs": [],
   "source": [
    "def isPalindrome(x):\n",
    "    if x<0 or (x%10==0 and x!=0):\n",
    "        return False\n",
    "    ans = 0\n",
    "    while x>ans:\n",
    "        ans = ans*10 + x%10\n",
    "        x //= 10\n",
    "    return x==ans or x==(ans//10)"
   ]
  },
  {
   "cell_type": "markdown",
   "id": "bacd4bba",
   "metadata": {},
   "source": [
    "##### 2.取模运算"
   ]
  },
  {
   "cell_type": "code",
   "execution_count": 9,
   "id": "162ce298",
   "metadata": {},
   "outputs": [],
   "source": [
    "def isPalindrome(x):\n",
    "    if x<0:\n",
    "        return False\n",
    "    ans = 0\n",
    "    old = x\n",
    "    while x>0:\n",
    "        tmp = x%10\n",
    "        ans = ans*10 + tmp\n",
    "        x //= 10\n",
    "    return ans==old"
   ]
  },
  {
   "cell_type": "markdown",
   "id": "4c9b92bf",
   "metadata": {},
   "source": [
    "##### 3.利用字符串做反转"
   ]
  },
  {
   "cell_type": "code",
   "execution_count": 10,
   "id": "700195c1",
   "metadata": {},
   "outputs": [],
   "source": [
    "def isPalindrome(x):\n",
    "    return str(x)==str(x)[::-1]"
   ]
  },
  {
   "cell_type": "markdown",
   "id": "357c4ec6",
   "metadata": {},
   "source": [
    "### 11.盛最多水的容器"
   ]
  },
  {
   "cell_type": "markdown",
   "id": "bc5a91b3",
   "metadata": {},
   "source": [
    "给你 n 个非负整数 a1，a2，...，an，每个数代表坐标中的一个点 (i, ai) 。\n",
    "在坐标内画 n 条垂直线，垂直线 i 的两个端点分别为 (i, ai) 和 (i, 0) 。\n",
    "找出其中的两条线，使得它们与 x 轴共同构成的容器可以容纳最多的水。\n",
    "\n",
    "说明：你不能倾斜容器。"
   ]
  },
  {
   "cell_type": "markdown",
   "id": "e82b76a5",
   "metadata": {},
   "source": [
    "##### 1.双指针法"
   ]
  },
  {
   "cell_type": "code",
   "execution_count": null,
   "id": "910a3264",
   "metadata": {},
   "outputs": [],
   "source": [
    "def maxArea(self, height: List[int]) -> int:\n",
    "    l, r = 0, len(height) - 1\n",
    "    ans = 0\n",
    "    while l < r:\n",
    "        area = min(height[l], height[r]) * (r - l)\n",
    "        ans = max(ans, area)\n",
    "        if height[l] <= height[r]:\n",
    "            l += 1\n",
    "        else:\n",
    "            r -= 1\n",
    "    return ans"
   ]
  },
  {
   "cell_type": "markdown",
   "id": "c1f5ecbb",
   "metadata": {},
   "source": [
    "### 12.整数转罗马数字"
   ]
  },
  {
   "cell_type": "markdown",
   "id": "8a75d181",
   "metadata": {},
   "source": [
    "罗马数字包含以下七种字符： I， V， X， L，C，D 和 M。\n",
    "\n",
    "|字符|数值|\n",
    "|--|--|\n",
    "|I|1|\n",
    "|V|5|\n",
    "|X|10|\n",
    "|L|50|\n",
    "|C|100|\n",
    "|D|500|\n",
    "|M|1000|\n",
    "\n",
    "例如， 罗马数字 2 写做 II ，即为两个并列的 1。12 写做 XII ，即为 X + II 。 27 写做  XXVII, 即为 XX + V + II 。\n",
    "\n",
    "通常情况下，罗马数字中小的数字在大的数字的右边。但也存在特例，例如 4 不写做 IIII，而是 IV。数字 1 在数字 5 的左边，所表示的数等于大数 5 减小数 1 得到的数值 4 。同样地，数字 9 表示为 IX。这个特殊的规则只适用于以下六种情况：\n",
    "\n",
    "I 可以放在 V (5) 和 X (10) 的左边，来表示 4 和 9。\n",
    "X 可以放在 L (50) 和 C (100) 的左边，来表示 40 和 90。 \n",
    "C 可以放在 D (500) 和 M (1000) 的左边，来表示 400 和 900。\n",
    "给你一个整数，将其转为罗马数字。"
   ]
  },
  {
   "cell_type": "markdown",
   "id": "6d8ee601",
   "metadata": {},
   "source": [
    "##### 1.模拟"
   ]
  },
  {
   "cell_type": "code",
   "execution_count": null,
   "id": "a9f10e93",
   "metadata": {},
   "outputs": [],
   "source": [
    "VALUE_SYMBOLS = [\n",
    "    (1000, \"M\"),\n",
    "    (900, \"CM\"),\n",
    "    (500, \"D\"),\n",
    "    (400, \"CD\"),\n",
    "    (100, \"C\"),\n",
    "    (90, \"XC\"),\n",
    "    (50, \"L\"),\n",
    "    (40, \"XL\"),\n",
    "    (10, \"X\"),\n",
    "    (9, \"IX\"),\n",
    "    (5, \"V\"),\n",
    "    (4, \"IV\"),\n",
    "    (1, \"I\"),\n",
    "]\n",
    "\n",
    "def intToRoman(num: int) -> str:\n",
    "    roman = list()\n",
    "    for value, symbol in VALUE_SYMBOLS:\n",
    "        while num >= value:\n",
    "            num -= value\n",
    "            roman.append(symbol)\n",
    "        if num == 0:\n",
    "            break\n",
    "    return \"\".join(roman)"
   ]
  },
  {
   "cell_type": "markdown",
   "id": "15a660bb",
   "metadata": {},
   "source": [
    "##### 2.硬编码数字"
   ]
  },
  {
   "cell_type": "code",
   "execution_count": 2,
   "id": "6ad48a69",
   "metadata": {},
   "outputs": [],
   "source": [
    "THOUSANDS = [\"\", \"M\", \"MM\", \"MMM\"]\n",
    "HUNDREDS = [\"\", \"C\", \"CC\", \"CCC\", \"CD\", \"D\", \"DC\", \"DCC\", \"DCCC\", \"CM\"]\n",
    "TENS = [\"\", \"X\", \"XX\", \"XXX\", \"XL\", \"L\", \"LX\", \"LXX\", \"LXXX\", \"XC\"]\n",
    "ONES = [\"\", \"I\", \"II\", \"III\", \"IV\", \"V\", \"VI\", \"VII\", \"VIII\", \"IX\"]\n",
    "\n",
    "def intToRoman(num: int) -> str:\n",
    "    return THOUSANDS[num // 1000] + HUNDREDS[num % 1000 // 100] + \\\n",
    "            TENS[num % 100 // 10] + ONES[num % 10]"
   ]
  },
  {
   "cell_type": "markdown",
   "id": "65a8ea6c",
   "metadata": {},
   "source": [
    "### 13.罗马数字转整数"
   ]
  },
  {
   "cell_type": "markdown",
   "id": "6285b5a4",
   "metadata": {},
   "source": [
    "罗马数字包含以下七种字符: I， V， X， L，C，D 和 M。\n",
    "\n",
    "|字符|数值|\n",
    "|--|--|\n",
    "|I|1|\n",
    "|V|5|\n",
    "|X|10|\n",
    "|L|50|\n",
    "|C|100|\n",
    "|D|500|\n",
    "|M|1000|\n",
    "\n",
    "例如， 罗马数字 2 写做 II ，即为两个并列的 1。12 写做 XII ，即为 X + II 。 27 写做  XXVII, 即为 XX + V + II 。\n",
    "\n",
    "通常情况下，罗马数字中小的数字在大的数字的右边。但也存在特例，例如 4 不写做 IIII，而是 IV。数字 1 在数字 5 的左边，所表示的数等于大数 5 减小数 1 得到的数值 4 。同样地，数字 9 表示为 IX。这个特殊的规则只适用于以下六种情况：\n",
    "\n",
    "I 可以放在 V (5) 和 X (10) 的左边，来表示 4 和 9。\n",
    "X 可以放在 L (50) 和 C (100) 的左边，来表示 40 和 90。 \n",
    "C 可以放在 D (500) 和 M (1000) 的左边，来表示 400 和 900。\n",
    "给定一个罗马数字，将其转换成整数。输入确保在 1 到 3999 的范围内。"
   ]
  },
  {
   "cell_type": "markdown",
   "id": "1dfc622c",
   "metadata": {},
   "source": [
    "##### 1.模拟"
   ]
  },
  {
   "cell_type": "markdown",
   "id": "33103d08",
   "metadata": {},
   "source": [
    "通常情况下，罗马数字中小的数字在大的数字的右边。若输入的字符串满足该情况，那么可以将每个字符视作一个单独的值，累加每个字符对应的数值即可。\n",
    "\n",
    "若存在小的数字在大的数字的左边的情况，根据规则需要减去小的数字。对于这种情况，我们也可以将每个字符视作一个单独的值，若一个数字右侧的数字比它大，则将该数字的符号取反。"
   ]
  },
  {
   "cell_type": "code",
   "execution_count": 1,
   "id": "582fe366",
   "metadata": {},
   "outputs": [],
   "source": [
    "SYMBOL_VALUES = {\n",
    "    'I': 1,\n",
    "    'V': 5,\n",
    "    'X': 10,\n",
    "    'L': 50,\n",
    "    'C': 100,\n",
    "    'D': 500,\n",
    "    'M': 1000,\n",
    "}\n",
    "\n",
    "def romanToInt(s: str) -> int:\n",
    "    ans = 0\n",
    "    n = len(s)\n",
    "    for i, ch in enumerate(s):\n",
    "        value = SYMBOL_VALUES[ch]\n",
    "        if i < n - 1 and value < SYMBOL_VALUES[s[i + 1]]:\n",
    "            ans -= value\n",
    "        else:\n",
    "            ans += value\n",
    "    return ans"
   ]
  },
  {
   "cell_type": "markdown",
   "id": "4259a383",
   "metadata": {},
   "source": [
    "### 14. 最长公共前缀"
   ]
  },
  {
   "cell_type": "markdown",
   "id": "eb0f0ead",
   "metadata": {},
   "source": [
    "编写一个函数来查找字符串数组中的最长公共前缀。\n",
    "\n",
    "如果不存在公共前缀，返回空字符串 \"\""
   ]
  },
  {
   "cell_type": "markdown",
   "id": "b08d4182",
   "metadata": {},
   "source": [
    "##### 1.横向扫描"
   ]
  },
  {
   "cell_type": "code",
   "execution_count": null,
   "id": "7937ce31",
   "metadata": {},
   "outputs": [],
   "source": [
    "def lcp(str1, str2):\n",
    "    length, index = min(len(str1), len(str2)), 0\n",
    "    while index < length and str1[index] == str2[index]:\n",
    "        index += 1\n",
    "    return str1[:index]\n",
    "\n",
    "def longestCommonPrefix(strs) -> str:\n",
    "    if not strs:\n",
    "        return \"\"\n",
    "\n",
    "    prefix, count = strs[0], len(strs)\n",
    "    for i in range(1, count):\n",
    "        prefix = lcp(prefix, strs[i])\n",
    "        if not prefix:\n",
    "            break\n",
    "\n",
    "    return prefix"
   ]
  },
  {
   "cell_type": "markdown",
   "id": "6e8157b6",
   "metadata": {},
   "source": [
    "##### 2.纵向扫描"
   ]
  },
  {
   "cell_type": "code",
   "execution_count": null,
   "id": "5be64819",
   "metadata": {},
   "outputs": [],
   "source": [
    "def longestCommonPrefix(strs) -> str:\n",
    "    if not strs:\n",
    "        return \"\"\n",
    "\n",
    "    length, count = len(strs[0]), len(strs)\n",
    "    for i in range(length):\n",
    "        c = strs[0][i]\n",
    "        if any(i == len(strs[j]) or strs[j][i] != c for j in range(1, count)):\n",
    "            return strs[0][:i]\n",
    "\n",
    "    return strs[0]"
   ]
  },
  {
   "cell_type": "markdown",
   "id": "4f83468b",
   "metadata": {},
   "source": [
    "##### 3.分治"
   ]
  },
  {
   "cell_type": "code",
   "execution_count": null,
   "id": "847c7dab",
   "metadata": {},
   "outputs": [],
   "source": [
    "def longestCommonPrefix(strs) -> str:\n",
    "    def lcp(start, end):\n",
    "        if start == end:\n",
    "            return strs[start]\n",
    "\n",
    "        mid = (start + end) // 2\n",
    "        lcpLeft, lcpRight = lcp(start, mid), lcp(mid + 1, end)\n",
    "        minLength = min(len(lcpLeft), len(lcpRight))\n",
    "        for i in range(minLength):\n",
    "            if lcpLeft[i] != lcpRight[i]:\n",
    "                return lcpLeft[:i]\n",
    "\n",
    "        return lcpLeft[:minLength]\n",
    "\n",
    "    return \"\" if not strs else lcp(0, len(strs) - 1)"
   ]
  },
  {
   "cell_type": "markdown",
   "id": "ab837d85",
   "metadata": {},
   "source": [
    "##### 4.二分查找"
   ]
  },
  {
   "cell_type": "code",
   "execution_count": 4,
   "id": "df9d4138",
   "metadata": {},
   "outputs": [],
   "source": [
    "def longestCommonPrefix(strs) -> str:\n",
    "    def isCommonPrefix(length):\n",
    "        str0, count = strs[0][:length], len(strs)\n",
    "        return all(strs[i][:length] == str0 for i in range(1, count))\n",
    "\n",
    "    if not strs:\n",
    "        return \"\"\n",
    "\n",
    "    minLength = min(len(s) for s in strs)\n",
    "    low, high = 0, minLength\n",
    "    while low < high:\n",
    "        mid = (high - low + 1) // 2 + low\n",
    "        if isCommonPrefix(mid):\n",
    "            low = mid\n",
    "        else:\n",
    "            high = mid - 1\n",
    "\n",
    "    return strs[0][:low]"
   ]
  },
  {
   "cell_type": "markdown",
   "id": "1dd827a0",
   "metadata": {},
   "source": [
    "### 15. 三数之和"
   ]
  },
  {
   "cell_type": "markdown",
   "id": "824e0795",
   "metadata": {},
   "source": [
    "给你一个包含 n 个整数的数组 nums，判断 nums 中是否存在三个元素 a，b，c ，使得 a + b + c = 0 ？请你找出所有和为 0 且不重复的三元组。\n",
    "\n",
    "注意：答案中不可以包含重复的三元组。"
   ]
  },
  {
   "cell_type": "markdown",
   "id": "1d48e5a7",
   "metadata": {},
   "source": [
    "##### 1.双重哈希表"
   ]
  },
  {
   "cell_type": "code",
   "execution_count": null,
   "id": "e6429517",
   "metadata": {},
   "outputs": [],
   "source": [
    "def threeSum(nums):\n",
    "    n = len(nums)\n",
    "    nums.sort()\n",
    "    hashmap = {}\n",
    "    target = 0\n",
    "    List = []\n",
    "    for i in range(n):\n",
    "        anothervalue = target - nums[i]\n",
    "        hashmap[nums[i]] = anothervalue\n",
    "        hashmap1 = {}\n",
    "        target1 = anothervalue\n",
    "        for j in range(i+1, n):\n",
    "            anothervalue1 = target1 - nums[j]\n",
    "            if anothervalue1 in hashmap1:\n",
    "                List1 = [nums[i], hashmap[nums[i]] - hashmap1[anothervalue1], hashmap1[anothervalue1]]\n",
    "                if List1 not in List:\n",
    "                    List.append(List1)\n",
    "            hashmap1[nums[j]] = anothervalue1\n",
    "    return List"
   ]
  },
  {
   "cell_type": "markdown",
   "id": "dae9cee0",
   "metadata": {},
   "source": [
    "##### 2.排序 + 双指针"
   ]
  },
  {
   "cell_type": "code",
   "execution_count": 6,
   "id": "b7dda418",
   "metadata": {},
   "outputs": [],
   "source": [
    "def threeSum(nums):\n",
    "    n = len(nums)\n",
    "    nums.sort()\n",
    "    ans = list()\n",
    "    # 枚举 a\n",
    "    for first in range(n):\n",
    "        # 需要和上一次枚举的数不相同\n",
    "        if first > 0 and nums[first] == nums[first - 1]:\n",
    "            continue\n",
    "        # c 对应的指针初始指向数组的最右端\n",
    "        third = n - 1\n",
    "        target = -nums[first]\n",
    "        # 枚举 b\n",
    "        for second in range(first + 1, n):\n",
    "            # 需要和上一次枚举的数不相同\n",
    "            if second > first + 1 and nums[second] == nums[second - 1]:\n",
    "                continue\n",
    "            # 需要保证 b 的指针在 c 的指针的左侧\n",
    "            while second < third and nums[second] + nums[third] > target:\n",
    "                third -= 1\n",
    "            # 如果指针重合，随着 b 后续的增加\n",
    "            # 就不会有满足 a+b+c=0 并且 b<c 的 c 了，可以退出循环\n",
    "            if second == third:\n",
    "                break\n",
    "            if nums[second] + nums[third] == target:\n",
    "                ans.append([nums[first], nums[second], nums[third]])\n",
    "    return ans"
   ]
  },
  {
   "cell_type": "markdown",
   "id": "2526f56c",
   "metadata": {},
   "source": [
    "### 16. 最接近的三数之和"
   ]
  },
  {
   "cell_type": "markdown",
   "id": "699ed2f5",
   "metadata": {},
   "source": [
    "给定一个包括 n 个整数的数组 nums 和 一个目标值 target。找出 nums 中的三个整数，使得它们的和与 target 最接近。返回这三个数的和。假定每组输入只存在唯一答案。"
   ]
  },
  {
   "cell_type": "markdown",
   "id": "55a7c13f",
   "metadata": {},
   "source": [
    "##### 1.双指针法"
   ]
  },
  {
   "cell_type": "code",
   "execution_count": null,
   "id": "b7258c66",
   "metadata": {},
   "outputs": [],
   "source": [
    "def threeSumClosest(nums, target):\n",
    "    n = len(nums)\n",
    "    nums.sort()\n",
    "    res = 0\n",
    "    ans = 0\n",
    "    min = abs(sum(nums[0:3]) - target)\n",
    "\n",
    "    for first in range(n):\n",
    "        # 枚举 a\n",
    "        if first > 0 and nums[first] == nums[first - 1]:\n",
    "            continue\n",
    "        # 枚举 b\n",
    "        for second in range(first + 1, n):\n",
    "            # c 对应的指针初始指向数组的最右端\n",
    "            third = n - 1\n",
    "            # 需要和上一次枚举的数不相同\n",
    "            if second > first + 1 and nums[second] == nums[second - 1]:\n",
    "                continue\n",
    "            # 需要保证 b 的指针在 c 的指针的左侧\n",
    "            while second < third:\n",
    "                res = nums[first] + nums[second] + nums[third]\n",
    "                if abs(res - target) <= min:\n",
    "                    min = abs(res - target)\n",
    "                    ans = res\n",
    "                third -= 1\n",
    "                if second == third:\n",
    "                    break\n",
    "\n",
    "    return ans"
   ]
  },
  {
   "cell_type": "code",
   "execution_count": null,
   "id": "4eba09e4",
   "metadata": {},
   "outputs": [],
   "source": [
    "#优化\n",
    "def threeSumClosest(nums, target) -> int:\n",
    "    nums.sort()\n",
    "    n = len(nums)\n",
    "    best = 10**7\n",
    "\n",
    "    # 根据差值的绝对值来更新答案\n",
    "    def update(cur):\n",
    "        nonlocal best\n",
    "        if abs(cur - target) < abs(best - target):\n",
    "            best = cur\n",
    "\n",
    "    # 枚举 a\n",
    "    for i in range(n):\n",
    "        # 保证和上一次枚举的元素不相等\n",
    "        if i > 0 and nums[i] == nums[i - 1]:\n",
    "            continue\n",
    "        # 使用双指针枚举 b 和 c\n",
    "        j, k = i + 1, n - 1\n",
    "        while j < k:\n",
    "            s = nums[i] + nums[j] + nums[k]\n",
    "            # 如果和为 target 直接返回答案\n",
    "            if s == target:\n",
    "                return target\n",
    "            update(s)\n",
    "            if s > target:\n",
    "                # 如果和大于 target，移动 c 对应的指针\n",
    "                k0 = k - 1\n",
    "                # 移动到下一个不相等的元素\n",
    "                while j < k0 and nums[k0] == nums[k]:\n",
    "                    k0 -= 1\n",
    "                k = k0\n",
    "            else:\n",
    "                # 如果和小于 target，移动 b 对应的指针\n",
    "                j0 = j + 1\n",
    "                # 移动到下一个不相等的元素\n",
    "                while j0 < k and nums[j0] == nums[j]:\n",
    "                    j0 += 1\n",
    "                j = j0\n",
    "\n",
    "    return best"
   ]
  },
  {
   "cell_type": "markdown",
   "id": "576103b4",
   "metadata": {},
   "source": [
    "### 17. 电话号码的字母组合"
   ]
  },
  {
   "cell_type": "markdown",
   "id": "12fac7bd",
   "metadata": {},
   "source": [
    "给定一个仅包含数字 2-9 的字符串，返回所有它能表示的字母组合。答案可以按 任意顺序 返回。\n",
    "\n",
    "给出数字到字母的映射如下（与电话按键相同）。注意 1 不对应任何字母。"
   ]
  },
  {
   "cell_type": "markdown",
   "id": "23d5ac46",
   "metadata": {},
   "source": [
    "##### 1.回溯"
   ]
  },
  {
   "cell_type": "code",
   "execution_count": 1,
   "id": "f1ec4008",
   "metadata": {},
   "outputs": [],
   "source": [
    "def letterCombinations(digits: str):\n",
    "    phoneMap = {\n",
    "        \"2\": \"abc\",\n",
    "        \"3\": \"def\",\n",
    "        \"4\": \"ghi\",\n",
    "        \"5\": \"jkl\",\n",
    "        \"6\": \"mno\",\n",
    "        \"7\": \"pqrs\",\n",
    "        \"8\": \"tuv\",\n",
    "        \"9\": \"wxyz\",\n",
    "    }\n",
    "    \n",
    "    if not digits:\n",
    "        return list()\n",
    "    \n",
    "    combination = list()\n",
    "    combinations = list()\n",
    "    \n",
    "    def backtrack(index: int):\n",
    "        if index == len(digits):\n",
    "            combinations.append(\"\".join(combination))\n",
    "        else:\n",
    "            digit = digits[index]\n",
    "            for letter in phoneMap[digit]:\n",
    "                combination.append(letter)\n",
    "                backtrack(index + 1)\n",
    "                combination.pop()\n",
    "\n",
    "    backtrack(0)\n",
    "    return combinations"
   ]
  },
  {
   "cell_type": "markdown",
   "id": "1667391b",
   "metadata": {},
   "source": [
    "### 18. 四数之和"
   ]
  },
  {
   "cell_type": "markdown",
   "id": "4e3b4df9",
   "metadata": {},
   "source": [
    "给你一个由 n 个整数组成的数组 nums ，和一个目标值 target 。请你找出并返回满足下述全部条件且不重复的四元组 [nums[a], nums[b], nums[c], nums[d]] ：\n",
    "\n",
    "0 <= a, b, c, d < n\n",
    "a、b、c 和 d 互不相同\n",
    "nums[a] + nums[b] + nums[c] + nums[d] == target\n",
    "你可以按 任意顺序 返回答案 。"
   ]
  },
  {
   "cell_type": "markdown",
   "id": "4e9db13f",
   "metadata": {},
   "source": [
    "##### 1.双指针法"
   ]
  },
  {
   "cell_type": "code",
   "execution_count": null,
   "id": "5ef71805",
   "metadata": {},
   "outputs": [],
   "source": [
    "def fourSum(nums, target):\n",
    "    nums.sort()\n",
    "    n = len(nums)\n",
    "    ans = list()\n",
    "    \n",
    "    #枚举第一个数first\n",
    "    for a in range(n):\n",
    "        #枚举过程要避免重复枚举\n",
    "        if a > 0 and nums[a] == nums[a-1]:\n",
    "            continue\n",
    "        #枚举第二个数second\n",
    "        for b in range(a+1, n):\n",
    "            if b > a+1 and nums[b] == nums[b-1]:\n",
    "                continue\n",
    "            #枚举第三个数third\n",
    "            for c in range(b+1, n):\n",
    "                d = n-1\n",
    "                if c > b+1 and nums[c] == nums[c-1]:\n",
    "                    continue\n",
    "                #枚举第四个数,当和大于目标数时,第四个数减小\n",
    "                while c < d and nums[a] + nums[b] + nums[c] + nums[d] > target:\n",
    "                    d -= 1\n",
    "                #指针重合时,跳出循环\n",
    "                if c == d:\n",
    "                    break\n",
    "                if nums[a] + nums[b] + nums[c] + nums[d] == target:\n",
    "                    ans.append([nums[a], nums[b], nums[c], nums[d]])\n",
    "    \n",
    "    return ans"
   ]
  },
  {
   "cell_type": "code",
   "execution_count": null,
   "id": "eee8dd54",
   "metadata": {},
   "outputs": [],
   "source": [
    "#优化\n",
    "def fourSum(nums, target: int):\n",
    "    quadruplets = list()\n",
    "    if not nums or len(nums) < 4:\n",
    "        return quadruplets\n",
    "\n",
    "    nums.sort()\n",
    "    length = len(nums)\n",
    "    for i in range(length - 3):\n",
    "        if i > 0 and nums[i] == nums[i - 1]:\n",
    "            continue\n",
    "        if nums[i] + nums[i + 1] + nums[i + 2] + nums[i + 3] > target:\n",
    "            break\n",
    "        if nums[i] + nums[length - 3] + nums[length - 2] + nums[length - 1] < target:\n",
    "            continue\n",
    "        for j in range(i + 1, length - 2):\n",
    "            if j > i + 1 and nums[j] == nums[j - 1]:\n",
    "                continue\n",
    "            if nums[i] + nums[j] + nums[j + 1] + nums[j + 2] > target:\n",
    "                break\n",
    "            if nums[i] + nums[j] + nums[length - 2] + nums[length - 1] < target:\n",
    "                continue\n",
    "            left, right = j + 1, length - 1\n",
    "            while left < right:\n",
    "                total = nums[i] + nums[j] + nums[left] + nums[right]\n",
    "                if total == target:\n",
    "                    quadruplets.append([nums[i], nums[j], nums[left], nums[right]])\n",
    "                    while left < right and nums[left] == nums[left + 1]:\n",
    "                        left += 1\n",
    "                    left += 1\n",
    "                    while left < right and nums[right] == nums[right - 1]:\n",
    "                        right -= 1\n",
    "                    right -= 1\n",
    "                elif total < target:\n",
    "                    left += 1\n",
    "                else:\n",
    "                    right -= 1\n",
    "\n",
    "    return quadruplets"
   ]
  },
  {
   "cell_type": "markdown",
   "id": "5f88ba08",
   "metadata": {},
   "source": [
    "### 19. 删除链表的倒数第 N 个结点"
   ]
  },
  {
   "cell_type": "markdown",
   "id": "ff1541ea",
   "metadata": {},
   "source": [
    "给你一个链表，删除链表的倒数第 n 个结点，并且返回链表的头结点。"
   ]
  },
  {
   "cell_type": "markdown",
   "id": "347ec2ed",
   "metadata": {},
   "source": [
    "##### 1.栈"
   ]
  },
  {
   "cell_type": "code",
   "execution_count": null,
   "id": "cecd6a8e",
   "metadata": {},
   "outputs": [],
   "source": [
    "class Solution:\n",
    "    def removeNthFromEnd(self, head: ListNode, n: int) -> ListNode:\n",
    "        dummy = ListNode(0, head)\n",
    "        stack = list()\n",
    "        cur = dummy\n",
    "        while cur:\n",
    "            stack.append(cur)\n",
    "            cur = cur.next\n",
    "        \n",
    "        for i in range(n):\n",
    "            stack.pop()\n",
    "\n",
    "        prev = stack[-1]\n",
    "        prev.next = prev.next.next\n",
    "        return dummy.next"
   ]
  },
  {
   "cell_type": "markdown",
   "id": "2d93e919",
   "metadata": {},
   "source": [
    "##### 2.双指针"
   ]
  },
  {
   "cell_type": "code",
   "execution_count": null,
   "id": "c62c45da",
   "metadata": {},
   "outputs": [],
   "source": [
    "class Solution:\n",
    "    def removeNthFromEnd(self, head: ListNode, n: int) -> ListNode:\n",
    "        dummy = ListNode(0, head)\n",
    "        first = head\n",
    "        second = dummy\n",
    "        for i in range(n):\n",
    "            first = first.next\n",
    "\n",
    "        while first:\n",
    "            first = first.next\n",
    "            second = second.next\n",
    "        \n",
    "        second.next = second.next.next\n",
    "        return dummy.next"
   ]
  },
  {
   "cell_type": "markdown",
   "id": "62b55add",
   "metadata": {},
   "source": [
    "### 20.有效的括号"
   ]
  },
  {
   "cell_type": "markdown",
   "id": "e9ede165",
   "metadata": {},
   "source": [
    "给定一个只包括 '('，')'，'{'，'}'，'['，']' 的字符串 s ，判断字符串是否有效。\n",
    "\n",
    "有效字符串需满足：\n",
    "\n",
    "左括号必须用相同类型的右括号闭合。\n",
    "左括号必须以正确的顺序闭合。"
   ]
  },
  {
   "cell_type": "markdown",
   "id": "46fc0274",
   "metadata": {},
   "source": [
    "##### 1.栈"
   ]
  },
  {
   "cell_type": "code",
   "execution_count": null,
   "id": "55c95666",
   "metadata": {},
   "outputs": [],
   "source": [
    "def isValid(s: str) -> bool:\n",
    "    if len(s) % 2 == 1:\n",
    "        return False\n",
    "\n",
    "    pairs = {\n",
    "        \")\": \"(\",\n",
    "        \"]\": \"[\",\n",
    "        \"}\": \"{\",\n",
    "    }\n",
    "    stack = list()\n",
    "    for ch in s:\n",
    "        if ch in pairs:\n",
    "            if not stack or stack[-1] != pairs[ch]:\n",
    "                return False\n",
    "            stack.pop()\n",
    "        else:\n",
    "            stack.append(ch)\n",
    "\n",
    "    return not stack"
   ]
  },
  {
   "cell_type": "markdown",
   "id": "cb9c553d",
   "metadata": {},
   "source": [
    "### 21.合并两个有序链表"
   ]
  },
  {
   "cell_type": "markdown",
   "id": "ff6fd271",
   "metadata": {},
   "source": [
    "将两个升序链表合并为一个新的 升序 链表并返回。新链表是通过拼接给定的两个链表的所有节点组成的。 "
   ]
  },
  {
   "cell_type": "markdown",
   "id": "6e4fdb25",
   "metadata": {},
   "source": [
    "##### 1.递归"
   ]
  },
  {
   "cell_type": "code",
   "execution_count": null,
   "id": "9113f44d",
   "metadata": {},
   "outputs": [],
   "source": [
    "def mergeTwoLists(l1: ListNode, l2: ListNode) -> ListNode:\n",
    "    if l1 is None:\n",
    "        return l2\n",
    "    elif l2 is None:\n",
    "        return l1\n",
    "    elif l1.val < l2.val:\n",
    "        l1.next = mergeTwoLists(l1.next, l2)\n",
    "        return l1\n",
    "    else:\n",
    "        l2.next = mergeTwoLists(l1, l2.next)\n",
    "        return l2"
   ]
  },
  {
   "cell_type": "markdown",
   "id": "6022635d",
   "metadata": {},
   "source": [
    "##### 2.迭代"
   ]
  },
  {
   "cell_type": "code",
   "execution_count": null,
   "id": "19563668",
   "metadata": {},
   "outputs": [],
   "source": [
    "def mergeTwoLists(l1: ListNode, l2: ListNode) -> ListNode:\n",
    "    prehead = ListNode(-1)\n",
    "\n",
    "    prev = prehead\n",
    "    while l1 and l2:\n",
    "        if l1.val <= l2.val:\n",
    "            prev.next = l1\n",
    "            l1 = l1.next\n",
    "        else:\n",
    "            prev.next = l2\n",
    "            l2 = l2.next            \n",
    "        prev = prev.next\n",
    "\n",
    "    # 合并后 l1 和 l2 最多只有一个还未被合并完，我们直接将链表末尾指向未合并完的链表即可\n",
    "    prev.next = l1 if l1 is not None else l2\n",
    "\n",
    "    return prehead.next"
   ]
  },
  {
   "cell_type": "markdown",
   "id": "6df13c06",
   "metadata": {},
   "source": [
    "### 22.括号生成"
   ]
  },
  {
   "cell_type": "markdown",
   "id": "53e140e6",
   "metadata": {},
   "source": [
    "数字 n 代表生成括号的对数，请你设计一个函数，用于能够生成所有可能的并且 有效的 括号组合。\n",
    "\n",
    "有效括号组合需满足：左括号必须以正确的顺序闭合。"
   ]
  },
  {
   "cell_type": "markdown",
   "id": "2b4b81d0",
   "metadata": {},
   "source": [
    "##### 1.暴力法"
   ]
  },
  {
   "cell_type": "code",
   "execution_count": null,
   "id": "2e83c344",
   "metadata": {},
   "outputs": [],
   "source": [
    "def generateParenthesis(n: int):\n",
    "    def generate(A):\n",
    "        if len(A) == 2*n:\n",
    "            if valid(A):\n",
    "                ans.append(\"\".join(A))\n",
    "        else:\n",
    "            A.append('(')\n",
    "            generate(A)\n",
    "            A.pop()\n",
    "            A.append(')')\n",
    "            generate(A)\n",
    "            A.pop()\n",
    "\n",
    "    def valid(A):\n",
    "        bal = 0\n",
    "        for c in A:\n",
    "            if c == '(': bal += 1\n",
    "            else: bal -= 1\n",
    "            if bal < 0: return False\n",
    "        return bal == 0\n",
    "\n",
    "    ans = []\n",
    "    generate([])\n",
    "    return ans"
   ]
  },
  {
   "cell_type": "markdown",
   "id": "ac861ab3",
   "metadata": {},
   "source": [
    "##### 2.回溯法"
   ]
  },
  {
   "cell_type": "code",
   "execution_count": null,
   "id": "8bc62dc5",
   "metadata": {},
   "outputs": [],
   "source": [
    "def generateParenthesis(n: int):\n",
    "    ans = []\n",
    "    def backtrack(S, left, right):\n",
    "        if len(S) == 2 * n:\n",
    "            ans.append(''.join(S))\n",
    "            return\n",
    "        if left < n:\n",
    "            S.append('(')\n",
    "            backtrack(S, left+1, right)\n",
    "            S.pop()\n",
    "        if right < left:\n",
    "            S.append(')')\n",
    "            backtrack(S, left, right+1)\n",
    "            S.pop()\n",
    "\n",
    "    backtrack([], 0, 0)\n",
    "    return ans"
   ]
  },
  {
   "cell_type": "markdown",
   "id": "b985527f",
   "metadata": {},
   "source": [
    "##### 3.按括号序列的长度递归"
   ]
  },
  {
   "cell_type": "code",
   "execution_count": null,
   "id": "8bdb4f47",
   "metadata": {},
   "outputs": [],
   "source": [
    "@lru_cache(None)\n",
    "def generateParenthesis(n: int):\n",
    "    if n == 0:\n",
    "        return ['']\n",
    "    ans = []\n",
    "    for c in range(n):\n",
    "        for left in generateParenthesis(c):\n",
    "            for right in generateParenthesis(n-1-c):\n",
    "                ans.append('({}){}'.format(left, right))\n",
    "    return ans"
   ]
  },
  {
   "cell_type": "markdown",
   "id": "b1375892",
   "metadata": {},
   "source": [
    "### 26.删除有序数组中的重复项"
   ]
  },
  {
   "cell_type": "markdown",
   "id": "3a2bc3a5",
   "metadata": {},
   "source": [
    "给你一个有序数组 nums ，请你 原地 删除重复出现的元素，使每个元素 只出现一次 ，返回删除后数组的新长度。\n",
    "\n",
    "不要使用额外的数组空间，你必须在 原地 修改输入数组 并在使用 O(1) 额外空间的条件下完成。"
   ]
  },
  {
   "cell_type": "markdown",
   "id": "9c5686db",
   "metadata": {},
   "source": [
    "##### 1.双指针"
   ]
  },
  {
   "cell_type": "code",
   "execution_count": 6,
   "id": "804a9908",
   "metadata": {},
   "outputs": [],
   "source": [
    "def removeDuplicates(nums) -> int:\n",
    "    if not nums:\n",
    "        return 0\n",
    "\n",
    "    n = len(nums)\n",
    "    fast = slow = 1\n",
    "    while fast < n:\n",
    "        if nums[fast] != nums[fast - 1]:\n",
    "            nums[slow] = nums[fast]\n",
    "            slow += 1\n",
    "        fast += 1\n",
    "    nums = nums[:slow+1]\n",
    "    \n",
    "    return slow"
   ]
  },
  {
   "cell_type": "markdown",
   "id": "0ca748ab",
   "metadata": {},
   "source": [
    "### 27. 移除元素"
   ]
  },
  {
   "cell_type": "markdown",
   "id": "764cd777",
   "metadata": {},
   "source": [
    "给你一个数组 nums 和一个值 val，你需要 原地 移除所有数值等于 val 的元素，并返回移除后数组的新长度。\n",
    "\n",
    "不要使用额外的数组空间，你必须仅使用 O(1) 额外空间并 原地 修改输入数组。\n",
    "\n",
    "元素的顺序可以改变。你不需要考虑数组中超出新长度后面的元素。"
   ]
  },
  {
   "cell_type": "markdown",
   "id": "70f2b916",
   "metadata": {},
   "source": [
    "##### 1.双指针法"
   ]
  },
  {
   "cell_type": "code",
   "execution_count": null,
   "id": "cea98001",
   "metadata": {},
   "outputs": [],
   "source": [
    "def removeElement(nums, val):\n",
    "    n = len(nums)\n",
    "    j = 0\n",
    "    for i in range(n):\n",
    "        if nums[i] != val:\n",
    "            nums[j] = nums[i]\n",
    "            j += 1\n",
    "            \n",
    "    return j"
   ]
  },
  {
   "cell_type": "markdown",
   "id": "044f7f5f",
   "metadata": {},
   "source": [
    "### 28. 实现 strStr()"
   ]
  },
  {
   "cell_type": "markdown",
   "id": "b8caae8f",
   "metadata": {},
   "source": [
    "实现 strStr() 函数。\n",
    "\n",
    "给你两个字符串 haystack 和 needle ，请你在 haystack 字符串中找出 needle 字符串出现的第一个位置（下标从 0 开始）。如果不存在，则返回  -1 。"
   ]
  },
  {
   "cell_type": "markdown",
   "id": "e38d4e69",
   "metadata": {},
   "source": [
    "##### 1.暴力匹配法"
   ]
  },
  {
   "cell_type": "code",
   "execution_count": 8,
   "id": "c0ed0725",
   "metadata": {},
   "outputs": [],
   "source": [
    "def strStr(haystack, needle):\n",
    "    n = len(haystack)\n",
    "    m = len(needle)\n",
    "    for i in range(n-m+1):\n",
    "        flag = True\n",
    "        for j in range(m):\n",
    "            if haystack[i + j] != needle[j]:\n",
    "                flag = False\n",
    "                break\n",
    "        if flag:\n",
    "            return i\n",
    "    return -1"
   ]
  },
  {
   "cell_type": "markdown",
   "id": "4df5b588",
   "metadata": {},
   "source": [
    "##### 2.KMP算法"
   ]
  },
  {
   "cell_type": "markdown",
   "id": "0653421a",
   "metadata": {},
   "source": [
    "Knuth-Morris-Pratt 算法的核心为前缀函数，记作π(i)，其定义如下：\n",
    "\n",
    "对于长度为 mm 的字符串 ss，其前缀函数π(i)(0≤i<m) 表示 s 的子串 s[0:i] 的最长的相等的真前缀与真后缀的长度。特别地，如果不存在符合条件的前后缀，那么 π(i) = 0 。其中真前缀与真后缀的定义为不等于自身的的前缀与后缀。\n",
    "\n",
    "如字符串 aabaaab 的前缀函数值依次为 0,1,0,1,2,2,3。\n",
    "\n",
    "求解π(i) 的方案：找到最大的 j，满足 s[0:j−1]=s[i−j:i−1]，且s[i]=s[j]（这样就有s[0:j]=s[i−j:i]，即 π(i)=j+1）"
   ]
  },
  {
   "cell_type": "code",
   "execution_count": 17,
   "id": "0f39739a",
   "metadata": {},
   "outputs": [],
   "source": [
    "class Solution:\n",
    "    def strStr(self, haystack: str, needle: str) -> int:\n",
    "    \n",
    "        # Func: 计算偏移表\n",
    "        def calShiftMat(st):\n",
    "            dic = {}\n",
    "            for i in range(len(st)-1,-1,-1):\n",
    "                if not dic.get(st[i]):\n",
    "                    dic[st[i]] = len(st)-i\n",
    "            dic[\"ot\"] = len(st)+1\n",
    "            return dic\n",
    "        \n",
    "        # 其他情况判断\n",
    "        if len(needle) > len(haystack):return -1\n",
    "        if needle==\"\": return 0\n",
    "       \n",
    "        # 偏移表预处理    \n",
    "        dic = calShiftMat(needle)\n",
    "        idx = 0\n",
    "    \n",
    "        while idx+len(needle) <= len(haystack):\n",
    "            \n",
    "            # 待匹配字符串\n",
    "            str_cut = haystack[idx:idx+len(needle)]\n",
    "            \n",
    "            # 判断是否匹配\n",
    "            if str_cut==needle:\n",
    "                return idx\n",
    "            else:\n",
    "                # 边界处理\n",
    "                if idx+len(needle) >= len(haystack):\n",
    "                    return -1\n",
    "                # 不匹配情况下，根据下一个字符的偏移，移动idx\n",
    "                cur_c = haystack[idx+len(needle)]\n",
    "                if dic.get(cur_c):\n",
    "                    idx += dic[cur_c]\n",
    "                else:\n",
    "                    idx += dic[\"ot\"]\n",
    "            \n",
    "        \n",
    "        return -1 if idx+len(needle) >= len(haystack) else idx"
   ]
  },
  {
   "cell_type": "markdown",
   "id": "a7017f70",
   "metadata": {},
   "source": [
    "##### 3.sunday算法"
   ]
  },
  {
   "cell_type": "markdown",
   "id": "bb6043fd",
   "metadata": {},
   "source": [
    "匹配机制：\n",
    "\n",
    "目标字符串String\n",
    "\n",
    "模式串 Pattern\n",
    "\n",
    "当前查询索引 idx （初始为0）\n",
    "\n",
    "待匹配字符串 str_cut : String [ idx : idx + len(Pattern) ]\n",
    "\n",
    "每次匹配都会从 目标字符串中 提取 待匹配字符串与 模式串 进行匹配：\n",
    "\n",
    "若匹配，则返回当前 idx\n",
    "\n",
    "不匹配，则查看 待匹配字符串 的后一位字符 c：\n",
    "\n",
    "若c存在于Pattern中，则 idx = idx + 偏移表[c]\n",
    "\n",
    "否则，idx = idx + len(pattern)\n",
    "\n",
    "Repeat Loop 直到 idx + len(pattern) > len(String)"
   ]
  },
  {
   "cell_type": "code",
   "execution_count": null,
   "id": "d8e872cd",
   "metadata": {},
   "outputs": [],
   "source": [
    "def strStr(haystack, needle):\n",
    "    if not needle: return 0\n",
    "    lnd = len(needle)\n",
    "    lnf = len(haystack)\n",
    "    if lnd > lnf: return -1\n",
    "\n",
    "    # 偏移表预处理    \n",
    "    dic ={v:lnd-k for k,v in enumerate(needle)}\n",
    "    idx = 0\n",
    "\n",
    "    while idx+lnd <= lnf:\n",
    "        # 待匹配字符串\n",
    "        str_cut = haystack[idx:idx+lnd]\n",
    "        # 判断是否匹配\n",
    "        if str_cut == needle:\n",
    "            return idx\n",
    "        elif idx+lnd == lnf:\n",
    "            return -1\n",
    "        else:\n",
    "            # 不匹配情况下，根据下一个字符的偏移，移动idx\n",
    "            nextc = haystack[idx+lnd]\n",
    "            idx += dic[nextc] if dic.get(nextc) else lnd+1\n",
    "    return -1"
   ]
  },
  {
   "cell_type": "markdown",
   "id": "3557b9bb",
   "metadata": {},
   "source": [
    "### 31. 下一个排列"
   ]
  },
  {
   "cell_type": "markdown",
   "id": "d201f4a1",
   "metadata": {},
   "source": [
    "实现获取 下一个排列 的函数，算法需要将给定数字序列重新排列成字典序中下一个更大的排列（即，组合出下一个更大的整数）。\n",
    "\n",
    "如果不存在下一个更大的排列，则将数字重新排列成最小的排列（即升序排列）。\n",
    "\n",
    "必须 原地 修改，只允许使用额外常数空间。"
   ]
  },
  {
   "cell_type": "markdown",
   "id": "6848e520",
   "metadata": {},
   "source": [
    "##### 1.两遍扫描"
   ]
  },
  {
   "cell_type": "code",
   "execution_count": 1,
   "id": "c7a26ef4",
   "metadata": {},
   "outputs": [],
   "source": [
    "def nextPermutation(nums) -> None:\n",
    "    i = len(nums) - 2\n",
    "    while i >= 0 and nums[i] >= nums[i + 1]:\n",
    "        i -= 1\n",
    "    if i >= 0:\n",
    "        j = len(nums) - 1\n",
    "        while j >= 0 and nums[i] >= nums[j]:\n",
    "            j -= 1\n",
    "        nums[i], nums[j] = nums[j], nums[i]\n",
    "\n",
    "    left, right = i + 1, len(nums) - 1\n",
    "    while left < right:\n",
    "        nums[left], nums[right] = nums[right], nums[left]\n",
    "        left += 1\n",
    "        right -= 1"
   ]
  },
  {
   "cell_type": "markdown",
   "id": "62f11c45",
   "metadata": {},
   "source": [
    "### 42. 连续子数组的最大和"
   ]
  },
  {
   "cell_type": "markdown",
   "id": "a577c94e",
   "metadata": {},
   "source": [
    "输入一个整型数组，数组中的一个或连续多个整数组成一个子数组。求所有子数组的和的最大值。\n",
    "\n",
    "要求时间复杂度为O(n)。"
   ]
  },
  {
   "cell_type": "markdown",
   "id": "a2f2860f",
   "metadata": {},
   "source": [
    "##### 1.动态规划"
   ]
  },
  {
   "cell_type": "code",
   "execution_count": null,
   "id": "70f51b23",
   "metadata": {},
   "outputs": [],
   "source": [
    "class Solution:\n",
    "    def maxSubArray(self, nums: List[int]) -> int:\n",
    "        for i in range(1, len(nums)):\n",
    "            nums[i] += max(nums[i - 1], 0)\n",
    "        return max(nums)"
   ]
  },
  {
   "cell_type": "markdown",
   "id": "5665e0fb",
   "metadata": {},
   "source": [
    "### 16. 数值的整数次方"
   ]
  },
  {
   "cell_type": "markdown",
   "id": "3cb85c5e",
   "metadata": {},
   "source": [
    "实现 pow(x, n) ，即计算 x 的 n 次幂函数（即，xn）。不得使用库函数，同时不需要考虑大数问题。"
   ]
  },
  {
   "cell_type": "markdown",
   "id": "93458395",
   "metadata": {},
   "source": [
    "##### 1.快速幂"
   ]
  },
  {
   "cell_type": "code",
   "execution_count": null,
   "id": "af30825e",
   "metadata": {},
   "outputs": [],
   "source": [
    "def myPow(x, n):\n",
    "    if x == 0: return 0\n",
    "    res = 1\n",
    "    if n < 0: x, n = 1 / x, -n\n",
    "        while n:\n",
    "            if n & 1: res *= x\n",
    "            x *= x\n",
    "            n >>= 1\n",
    "        return res"
   ]
  },
  {
   "cell_type": "markdown",
   "id": "660a806a",
   "metadata": {},
   "source": [
    "### 36. 有效的数独"
   ]
  },
  {
   "cell_type": "markdown",
   "id": "db1601f0",
   "metadata": {},
   "source": [
    "请你判断一个 9 x 9 的数独是否有效。只需要 根据以下规则 ，验证已经填入的数字是否有效即可。\n",
    "\n",
    "数字 1-9 在每一行只能出现一次。\n",
    "数字 1-9 在每一列只能出现一次。\n",
    "数字 1-9 在每一个以粗实线分隔的 3x3 宫内只能出现一次。"
   ]
  },
  {
   "cell_type": "markdown",
   "id": "40cfa20e",
   "metadata": {},
   "source": [
    "##### 1.数组"
   ]
  },
  {
   "cell_type": "code",
   "execution_count": null,
   "id": "7a2d5cb1",
   "metadata": {},
   "outputs": [],
   "source": [
    "class Solution:\n",
    "    def isValidSudoku(self, board: List[List[str]]) -> bool:\n",
    "        row = [[0] * 9 for _ in range(9)]\n",
    "        col = [[0] * 9 for _ in range(9)]\n",
    "        box = [[[0] * 9 for _ in range(3)] for _ in range(3)]\n",
    "        for i in range(9):\n",
    "            for j in range(9):\n",
    "                c = board[i][j]\n",
    "                if c != '.':\n",
    "                    c = int(c) - 1\n",
    "                    row[i][c] += 1\n",
    "                    col[j][c] += 1\n",
    "                    box[int(i/3)][int(j/3)][c] += 1\n",
    "                    if row[i][c] > 1 or col[j][c]>1 or box[int(i/3)][int(j/3)][c]>1:\n",
    "                        return False\n",
    "        return True"
   ]
  },
  {
   "cell_type": "markdown",
   "id": "79997163",
   "metadata": {},
   "source": [
    "##### 2.位运算"
   ]
  },
  {
   "cell_type": "code",
   "execution_count": null,
   "id": "b71a4dc0",
   "metadata": {},
   "outputs": [],
   "source": [
    "class Solution:\n",
    "    def isValidSudoku(self, board: List[List[str]]) -> bool:\n",
    "        row = [0] * 9\n",
    "        col = [0] * 9\n",
    "        box = [0] * 9\n",
    "        for i in range(9):\n",
    "            for j in range(9):\n",
    "                c = board[i][j]\n",
    "                if c != '.':\n",
    "                    k = 1 << int(c)\n",
    "                    g =i//3*3+j//3\n",
    "                    if row[i] & k or col[j] & k or box[g] & k:\n",
    "                        return False\n",
    "                    row[i] |= k\n",
    "                    col[j] |= k\n",
    "                    box[g] |= k\n",
    "        return True"
   ]
  },
  {
   "cell_type": "code",
   "execution_count": null,
   "id": "d51467dd",
   "metadata": {},
   "outputs": [],
   "source": [
    "class Solution:\n",
    "    def isValidSudoku(self, board: List[List[str]]) -> bool:\n",
    "        row = [0] * 9\n",
    "        col = [0] * 9\n",
    "        box = [0] * 9\n",
    "        for i in range(9):\n",
    "            for j in range(9):\n",
    "                c = board[i][j]\n",
    "                if c == '.':\n",
    "                    continue\n",
    "                k = int(c) - 1\n",
    "                g = i//3 * 3 + j//3\n",
    "                if (row[i] >> k) & 1 or (col[j] >> k) & 1 or (box[g] >> k) & 1:\n",
    "                    return False\n",
    "                num = 1 << k\n",
    "                row[i] += num\n",
    "                col[j] += num\n",
    "                box[g] += num\n",
    "        return True"
   ]
  },
  {
   "cell_type": "markdown",
   "id": "e310c823",
   "metadata": {},
   "source": [
    "### 42. 接雨水"
   ]
  },
  {
   "cell_type": "markdown",
   "id": "f3108fb2",
   "metadata": {},
   "source": [
    "给定 n 个非负整数表示每个宽度为 1 的柱子的高度图，计算按此排列的柱子，下雨之后能接多少雨水。"
   ]
  },
  {
   "cell_type": "markdown",
   "id": "4eab1cd2",
   "metadata": {},
   "source": [
    "##### 1.动态规划"
   ]
  },
  {
   "attachments": {
    "53ab7a66023039ed4dce42b709b4997d2ba0089077912d39a0b31d3572a55d0b-trapping_rain_water.png": {
     "image/png": "[encoded data removed]"
    }
   },
   "cell_type": "markdown",
   "id": "7394dec4",
   "metadata": {},
   "source": [
    "![53ab7a66023039ed4dce42b709b4997d2ba0089077912d39a0b31d3572a55d0b-trapping_rain_water.png](attachment:53ab7a66023039ed4dce42b709b4997d2ba0089077912d39a0b31d3572a55d0b-trapping_rain_water.png)"
   ]
  },
  {
   "cell_type": "code",
   "execution_count": null,
   "id": "149d4189",
   "metadata": {},
   "outputs": [],
   "source": [
    "class Solution:\n",
    "    def trap(self, height: List[int]) -> int:\n",
    "        res = 0\n",
    "        n = len(height)\n",
    "        l, r = [0]*n, [0]*n\n",
    "        lmax, rmax = 0, 0\n",
    "        if n == 0: return 0\n",
    "        for i in range(n):\n",
    "            lmax = max(lmax, height[i])\n",
    "            l[i] = lmax\n",
    "        for j in range(n-1,-1,-1):\n",
    "            rmax = max(rmax, height[j])\n",
    "            r[j] = rmax\n",
    "        for k in range(n):\n",
    "            res += min(l[k], r[k]) - height[k]\n",
    "        return res"
   ]
  },
  {
   "cell_type": "markdown",
   "id": "4e746f45",
   "metadata": {},
   "source": [
    "##### 2.单调栈"
   ]
  },
  {
   "cell_type": "code",
   "execution_count": null,
   "id": "2f5761ee",
   "metadata": {},
   "outputs": [],
   "source": [
    "class Solution:\n",
    "    def trap(self, height: List[int]) -> int:\n",
    "        ans = 0\n",
    "        stack = list()\n",
    "        n = len(height)\n",
    "        \n",
    "        for i, h in enumerate(height):\n",
    "            while stack and h > height[stack[-1]]:\n",
    "                top = stack.pop()\n",
    "                if not stack:\n",
    "                    break\n",
    "                left = stack[-1]\n",
    "                currWidth = i - left - 1\n",
    "                currHeight = min(height[left], height[i]) - height[top]\n",
    "                ans += currWidth * currHeight\n",
    "            stack.append(i)\n",
    "        \n",
    "        return ans"
   ]
  },
  {
   "cell_type": "markdown",
   "id": "446fc1b5",
   "metadata": {},
   "source": [
    "##### 3.双指针"
   ]
  },
  {
   "cell_type": "code",
   "execution_count": null,
   "id": "b9957a69",
   "metadata": {},
   "outputs": [],
   "source": [
    "class Solution:\n",
    "    def trap(self, height: List[int]) -> int:\n",
    "        ans = 0\n",
    "        left, right = 0, len(height) - 1\n",
    "        leftMax = rightMax = 0\n",
    "\n",
    "        while left < right:\n",
    "            leftMax = max(leftMax, height[left])\n",
    "            rightMax = max(rightMax, height[right])\n",
    "            if height[left] < height[right]:\n",
    "                ans += leftMax - height[left]\n",
    "                left += 1\n",
    "            else:\n",
    "                ans += rightMax - height[right]\n",
    "                right -= 1\n",
    "        \n",
    "        return ans"
   ]
  },
  {
   "cell_type": "markdown",
   "id": "29e3666d",
   "metadata": {},
   "source": [
    "### 46. 全排列"
   ]
  },
  {
   "cell_type": "markdown",
   "id": "821e1ba8",
   "metadata": {},
   "source": [
    "给定一个不含重复数字的数组 nums ，返回其 所有可能的全排列 。你可以 按任意顺序 返回答案。"
   ]
  },
  {
   "cell_type": "markdown",
   "id": "60cd3466",
   "metadata": {},
   "source": [
    "##### 1.回溯"
   ]
  },
  {
   "cell_type": "code",
   "execution_count": null,
   "id": "bef9ab5b",
   "metadata": {},
   "outputs": [],
   "source": [
    "class Solution:\n",
    "    def permute(self, nums: List[int]) -> List[List[int]]:\n",
    "        n = len(nums)\n",
    "        if n == 0:\n",
    "            return []\n",
    "        res = []\n",
    "        used = [False for _ in range(n)]\n",
    "\n",
    "        def dfs(depth, path):\n",
    "            if depth == n:\n",
    "                res.append(path[:])\n",
    "                return\n",
    "            for i in range(n):\n",
    "                if not used[i]:\n",
    "                    used[i] = True\n",
    "                    path.append(nums[i])\n",
    "                    dfs(depth + 1, path)\n",
    "                    used[i] = False\n",
    "                    path.pop()\n",
    "\n",
    "        dfs(0, [])\n",
    "        return res"
   ]
  },
  {
   "cell_type": "markdown",
   "id": "f8031929",
   "metadata": {},
   "source": [
    "### 53. 最大子序和"
   ]
  },
  {
   "cell_type": "markdown",
   "id": "ea652278",
   "metadata": {},
   "source": [
    "给定一个整数数组 nums ，找到一个具有最大和的连续子数组（子数组最少包含一个元素），返回其最大和。"
   ]
  },
  {
   "cell_type": "markdown",
   "id": "a4156a97",
   "metadata": {},
   "source": [
    "##### 1.动态规划"
   ]
  },
  {
   "cell_type": "code",
   "execution_count": null,
   "id": "9adda2ad",
   "metadata": {},
   "outputs": [],
   "source": [
    "class Solution:\n",
    "    def maxSubArray(self, nums: List[int]) -> int:\n",
    "        for i in range(1, len(nums)):\n",
    "            nums[i] += max(nums[i - 1], 0)\n",
    "        return max(nums)"
   ]
  },
  {
   "cell_type": "code",
   "execution_count": null,
   "id": "c3e4c0a0",
   "metadata": {},
   "outputs": [],
   "source": [
    "class Solution:\n",
    "    def maxSubArray(self, nums: List[int]) -> int:\n",
    "        temp=nums[0]\n",
    "        max_=temp\n",
    "        for i in range(1,len(nums)):\n",
    "            if temp>0:               \n",
    "                temp+=nums[i]\n",
    "                max_=max(max_,temp)\n",
    "\n",
    "            else:\n",
    "                temp=nums[i]\n",
    "                max_=max(max_,temp)\n",
    "        return max_"
   ]
  },
  {
   "cell_type": "markdown",
   "id": "939e8ea8",
   "metadata": {},
   "source": [
    "### 54. 螺旋矩阵"
   ]
  },
  {
   "cell_type": "markdown",
   "id": "17cd37f2",
   "metadata": {},
   "source": [
    "给你一个 m 行 n 列的矩阵 matrix ，请按照 顺时针螺旋顺序 ，返回矩阵中的所有元素。"
   ]
  },
  {
   "cell_type": "markdown",
   "id": "2222931d",
   "metadata": {},
   "source": [
    "##### 1.模拟"
   ]
  },
  {
   "cell_type": "code",
   "execution_count": null,
   "id": "7378130f",
   "metadata": {},
   "outputs": [],
   "source": [
    "class Solution:\n",
    "    def spiralOrder(self, matrix:[[int]]) -> [int]:\n",
    "        if not matrix: return []\n",
    "        l, r, t, b, res = 0, len(matrix[0]) - 1, 0, len(matrix) - 1, []\n",
    "        while True:\n",
    "            for i in range(l, r + 1): res.append(matrix[t][i]) # left to right\n",
    "            t += 1\n",
    "            if t > b: break\n",
    "            for i in range(t, b + 1): res.append(matrix[i][r]) # top to bottom\n",
    "            r -= 1\n",
    "            if l > r: break\n",
    "            for i in range(r, l - 1, -1): res.append(matrix[b][i]) # right to left\n",
    "            b -= 1\n",
    "            if t > b: break\n",
    "            for i in range(b, t - 1, -1): res.append(matrix[i][l]) # bottom to top\n",
    "            l += 1\n",
    "            if l > r: break\n",
    "        return res"
   ]
  },
  {
   "cell_type": "markdown",
   "id": "f5a6f165",
   "metadata": {},
   "source": [
    "### 66.加一"
   ]
  },
  {
   "cell_type": "markdown",
   "id": "380aa38f",
   "metadata": {},
   "source": [
    "给定一个由 整数 组成的 非空 数组所表示的非负整数，在该数的基础上加一。\n",
    "\n",
    "最高位数字存放在数组的首位， 数组中每个元素只存储单个数字。\n",
    "\n",
    "你可以假设除了整数 0 之外，这个整数不会以零开头。"
   ]
  },
  {
   "cell_type": "markdown",
   "id": "8655ec9d",
   "metadata": {},
   "source": [
    "##### 1.模拟"
   ]
  },
  {
   "cell_type": "code",
   "execution_count": null,
   "id": "52385583",
   "metadata": {},
   "outputs": [],
   "source": [
    "def plusOne(digits: list) -> list:\n",
    "        digits[-1] += 1  # 首先把最后一位加一\n",
    "        for i in range(len(digits)-2,-1,-1):  # 从低位到高位遍历\n",
    "            if digits[i+1] >= 10:  # 如果低位>=10，那前一位的高位可以加一\n",
    "                digits[i+1] = digits[i+1] % 10\n",
    "                digits[i] += 1\n",
    "            else:  # 如果我们的在某一位的数字没有产生进位的话，那么之后的高位再也不可能进位了，直接跳出\n",
    "                break\n",
    "\n",
    "\n",
    "        if digits[0] >= 10:  # 对最高位稍做处理，如解题思路中的[9,9,9]\n",
    "            digits = [1] + digits\n",
    "            digits[1] %= digits[1]\n",
    "\n",
    "        return digits"
   ]
  },
  {
   "cell_type": "markdown",
   "id": "2ba23c8c",
   "metadata": {},
   "source": [
    "### 70. 爬楼梯"
   ]
  },
  {
   "cell_type": "markdown",
   "id": "c3178ec1",
   "metadata": {},
   "source": [
    "假设你正在爬楼梯。需要 n 阶你才能到达楼顶。\n",
    "\n",
    "每次你可以爬 1 或 2 个台阶。你有多少种不同的方法可以爬到楼顶呢？\n",
    "\n",
    "注意：给定 n 是一个正整数。"
   ]
  },
  {
   "cell_type": "markdown",
   "id": "a6a379c9",
   "metadata": {},
   "source": [
    "##### 1.动态规划"
   ]
  },
  {
   "cell_type": "code",
   "execution_count": null,
   "id": "2bf96909",
   "metadata": {},
   "outputs": [],
   "source": [
    "def numWays(n):\n",
    "    a, b = 1, 1\n",
    "    for _ in range(n):\n",
    "        a, b = b, a+b\n",
    "    return a"
   ]
  },
  {
   "cell_type": "markdown",
   "id": "02adfda3",
   "metadata": {},
   "source": [
    "### 73. 矩阵置零"
   ]
  },
  {
   "cell_type": "markdown",
   "id": "55cb860f",
   "metadata": {},
   "source": [
    "给定一个 m x n 的矩阵，如果一个元素为 0 ，则将其所在行和列的所有元素都设为 0 。请使用 原地 算法。"
   ]
  },
  {
   "cell_type": "markdown",
   "id": "236be955",
   "metadata": {},
   "source": [
    "##### 1.哈希表"
   ]
  },
  {
   "cell_type": "code",
   "execution_count": null,
   "id": "6e133462",
   "metadata": {},
   "outputs": [],
   "source": [
    "class Solution:\n",
    "    def setZeroes(self, matrix: List[List[int]]) -> None:\n",
    "        m = len(matrix)\n",
    "        n = len(matrix[0])\n",
    "        box1 = [[1]*n]*m\n",
    "        box2 = [[1]*m]*n\n",
    "        for i in range(m):\n",
    "            for j in range(n):\n",
    "                c = matrix[i][j]\n",
    "                if c == 0:\n",
    "                    box1[i][j] = 0\n",
    "                    box2[j][i] = 0\n",
    "        for i in range(m):\n",
    "            for j in range(n):\n",
    "                if box1[i][j] == 0 or box2[j][i] == 0:\n",
    "                    matrix[i][j] = 0"
   ]
  },
  {
   "cell_type": "markdown",
   "id": "077da943",
   "metadata": {},
   "source": [
    "### 76.最小覆盖子串"
   ]
  },
  {
   "cell_type": "markdown",
   "id": "b74eff90",
   "metadata": {},
   "source": [
    "给你一个字符串 s 、一个字符串 t 。返回 s 中涵盖 t 所有字符的最小子串。如果 s 中不存在涵盖 t 所有字符的子串，则返回空字符串 \"\" 。\n",
    "\n",
    "注意：\n",
    "对于 t 中重复字符，我们寻找的子字符串中该字符数量必须不少于 t 中该字符数量。\n",
    "如果 s 中存在这样的子串，我们保证它是唯一的答案。"
   ]
  },
  {
   "cell_type": "markdown",
   "id": "92e02c67",
   "metadata": {},
   "source": [
    "##### 1.滑动窗口法"
   ]
  },
  {
   "cell_type": "code",
   "execution_count": null,
   "id": "33690906",
   "metadata": {},
   "outputs": [],
   "source": [
    "def minWindow(s: 'str', t: 'str') -> 'str':\n",
    "    from collections import defaultdict\n",
    "    lookup = defaultdict(int)\n",
    "    for c in t:\n",
    "        lookup[c] += 1\n",
    "    start = 0\n",
    "    end = 0\n",
    "    min_len = float(\"inf\")\n",
    "    counter = len(t)\n",
    "    res = \"\"\n",
    "    while end < len(s):\n",
    "        if lookup[s[end]] > 0:\n",
    "            counter -= 1\n",
    "        lookup[s[end]] -= 1\n",
    "        end += 1\n",
    "        while counter == 0:\n",
    "            if min_len > end - start:\n",
    "                min_len = end - start\n",
    "                res = s[start:end]\n",
    "            if lookup[s[start]] == 0:\n",
    "                counter += 1\n",
    "            lookup[s[start]] += 1\n",
    "            start += 1\n",
    "    return res"
   ]
  },
  {
   "cell_type": "markdown",
   "id": "a0bf583a",
   "metadata": {},
   "source": [
    "### 77. 组合"
   ]
  },
  {
   "cell_type": "markdown",
   "id": "8892b166",
   "metadata": {},
   "source": [
    "给定两个整数 n 和 k，返回范围 [1, n] 中所有可能的 k 个数的组合。\n",
    "\n",
    "你可以按 任何顺序 返回答案。"
   ]
  },
  {
   "cell_type": "markdown",
   "id": "4481cb3f",
   "metadata": {},
   "source": [
    "##### 1.回溯+剪枝"
   ]
  },
  {
   "cell_type": "code",
   "execution_count": null,
   "id": "3b1280bd",
   "metadata": {},
   "outputs": [],
   "source": [
    "class Solution:\n",
    "    def combine(self, n: int, k: int) -> List[List[int]]:\n",
    "        ans = []\n",
    "        def dfs(depth, path, start):\n",
    "            if depth == k:\n",
    "                ans.append(path)\n",
    "                return\n",
    "\n",
    "            for i in range(start, n+1):\n",
    "                if k-depth-1 > n-i:\n",
    "                    break\n",
    "                dfs(depth+1, path+[i], i+1)\n",
    "        dfs(0, [], 1)\n",
    "        return ans"
   ]
  },
  {
   "cell_type": "markdown",
   "id": "aeeda5ab",
   "metadata": {},
   "source": [
    "### 79. 单词搜索"
   ]
  },
  {
   "cell_type": "markdown",
   "id": "4c82fee5",
   "metadata": {},
   "source": [
    "给定一个 m x n 二维字符网格 board 和一个字符串单词 word 。如果 word 存在于网格中，返回 true ；否则，返回 false 。\n",
    "\n",
    "单词必须按照字母顺序，通过相邻的单元格内的字母构成，其中“相邻”单元格是那些水平相邻或垂直相邻的单元格。同一个单元格内的字母不允许被重复使用。"
   ]
  },
  {
   "cell_type": "markdown",
   "id": "4ae79f4e",
   "metadata": {},
   "source": [
    "##### 1.深度优先搜索+回溯"
   ]
  },
  {
   "cell_type": "code",
   "execution_count": null,
   "id": "9f99494a",
   "metadata": {},
   "outputs": [],
   "source": [
    "def exist(board, word):\n",
    "    m = len(board)\n",
    "    n = len(board[0])\n",
    "    def dfs(i,j,k):\n",
    "        if not 0<=i<m or not 0<=j<n or board[i][j]!=word[k]:\n",
    "            return False\n",
    "        if k == len(word) -1:\n",
    "            return True\n",
    "        res = dfs(i+1, j, k+1) or dfs(i-1,j,k+1) or dfs(i,j+1,k+1) or dfs(i,j-1,k+1)\n",
    "        board[i][j] = word[k]\n",
    "        return res\n",
    "    \n",
    "    for i in range(m):\n",
    "        for j in range(n):\n",
    "            if dfs(i,j,0):\n",
    "                return True\n",
    "    return False"
   ]
  },
  {
   "cell_type": "markdown",
   "id": "594075c2",
   "metadata": {},
   "source": [
    "### 83. 删除排序链表中的重复元素"
   ]
  },
  {
   "cell_type": "markdown",
   "id": "650becc4",
   "metadata": {},
   "source": [
    "存在一个按升序排列的链表，给你这个链表的头节点 head ，请你删除所有重复的元素，使每个元素 只出现一次 。\n",
    "\n",
    "返回同样按升序排列的结果链表。"
   ]
  },
  {
   "cell_type": "markdown",
   "id": "2c4b7211",
   "metadata": {},
   "source": [
    "##### 1.一次遍历"
   ]
  },
  {
   "cell_type": "code",
   "execution_count": null,
   "id": "7d7e12c1",
   "metadata": {},
   "outputs": [],
   "source": [
    "class Solution:\n",
    "    def deleteDuplicates(self, head: ListNode) -> ListNode:\n",
    "        dummy = ListNode(None)\n",
    "        dummy.next = head\n",
    "        temp = dummy\n",
    "        while temp.next:\n",
    "            if temp.val == temp.next.val:\n",
    "                temp.next = temp.next.next\n",
    "            else:\n",
    "                temp = temp.next\n",
    "        return dummy.next"
   ]
  },
  {
   "cell_type": "markdown",
   "id": "8d9c7038",
   "metadata": {},
   "source": [
    "### 98. 验证二叉搜索树"
   ]
  },
  {
   "cell_type": "markdown",
   "id": "03e5bf0e",
   "metadata": {},
   "source": [
    "给你一个二叉树的根节点 root ，判断其是否是一个有效的二叉搜索树。\n",
    "\n",
    "有效 二叉搜索树定义如下：\n",
    "\n",
    "节点的左子树只包含 小于 当前节点的数。\n",
    "节点的右子树只包含 大于 当前节点的数。\n",
    "所有左子树和右子树自身必须也是二叉搜索树。"
   ]
  },
  {
   "cell_type": "markdown",
   "id": "28a690f5",
   "metadata": {},
   "source": [
    "##### 1.递归"
   ]
  },
  {
   "cell_type": "code",
   "execution_count": null,
   "id": "2f4233c9",
   "metadata": {},
   "outputs": [],
   "source": [
    "class Solution:\n",
    "    def isValidBST(self, root: TreeNode) -> bool:\n",
    "        def helper(node, lower = float('-inf'), upper = float('inf')) -> bool:\n",
    "            if not node:\n",
    "                return True\n",
    "            \n",
    "            val = node.val\n",
    "            if val <= lower or val >= upper:\n",
    "                return False\n",
    "\n",
    "            if not helper(node.right, val, upper):\n",
    "                return False\n",
    "            if not helper(node.left, lower, val):\n",
    "                return False\n",
    "            return True\n",
    "\n",
    "        return helper(root)"
   ]
  },
  {
   "cell_type": "markdown",
   "id": "18c952e0",
   "metadata": {},
   "source": [
    "##### 2.中序遍历"
   ]
  },
  {
   "cell_type": "code",
   "execution_count": null,
   "id": "7f7e3146",
   "metadata": {},
   "outputs": [],
   "source": [
    "class Solution:\n",
    "    def isValidBST(self, root: TreeNode) -> bool:\n",
    "        stack, inorder = [], float('-inf')\n",
    "        \n",
    "        while stack or root:\n",
    "            while root:\n",
    "                stack.append(root)\n",
    "                root = root.left\n",
    "            root = stack.pop()\n",
    "            # 如果中序遍历得到的节点的值小于等于前一个 inorder，说明不是二叉搜索树\n",
    "            if root.val <= inorder:\n",
    "                return False\n",
    "            inorder = root.val\n",
    "            root = root.right\n",
    "\n",
    "        return True"
   ]
  },
  {
   "cell_type": "markdown",
   "id": "c0b17e70",
   "metadata": {},
   "source": [
    "### 100. 相同的树"
   ]
  },
  {
   "cell_type": "markdown",
   "id": "04b7d8ac",
   "metadata": {},
   "source": [
    "给你两棵二叉树的根节点 p 和 q ，编写一个函数来检验这两棵树是否相同。\n",
    "\n",
    "如果两个树在结构上相同，并且节点具有相同的值，则认为它们是相同的。"
   ]
  },
  {
   "cell_type": "markdown",
   "id": "552872f0",
   "metadata": {},
   "source": [
    "##### 1.深度优先搜索"
   ]
  },
  {
   "cell_type": "code",
   "execution_count": null,
   "id": "ff397d8c",
   "metadata": {},
   "outputs": [],
   "source": [
    "class Solution:\n",
    "    def isSameTree(self, p: TreeNode, q: TreeNode) -> bool:\n",
    "        if not p and not q:\n",
    "            return True\n",
    "        elif not p or not q:\n",
    "            return False\n",
    "        elif p.val != q.val:\n",
    "            return False\n",
    "        else:\n",
    "            return self.isSameTree(p.left, q.left) and self.isSameTree(p.right, q.right)"
   ]
  },
  {
   "cell_type": "markdown",
   "id": "2d817afc",
   "metadata": {},
   "source": [
    "##### 2.广度优先搜索"
   ]
  },
  {
   "cell_type": "code",
   "execution_count": null,
   "id": "0f9a62a6",
   "metadata": {},
   "outputs": [],
   "source": [
    "class Solution:\n",
    "    def isSameTree(self, p: TreeNode, q: TreeNode) -> bool:\n",
    "        if not p and not q:\n",
    "            return True\n",
    "        if not p or not q:\n",
    "            return False\n",
    "        \n",
    "        queue1 = collections.deque([p])\n",
    "        queue2 = collections.deque([q])\n",
    "\n",
    "        while queue1 and queue2:\n",
    "            node1 = queue1.popleft()\n",
    "            node2 = queue2.popleft()\n",
    "            if node1.val != node2.val:\n",
    "                return False\n",
    "            left1, right1 = node1.left, node1.right\n",
    "            left2, right2 = node2.left, node2.right\n",
    "            if (not left1) ^ (not left2):\n",
    "                return False\n",
    "            if (not right1) ^ (not right2):\n",
    "                return False\n",
    "            if left1:\n",
    "                queue1.append(left1)\n",
    "            if right1:\n",
    "                queue1.append(right1)\n",
    "            if left2:\n",
    "                queue2.append(left2)\n",
    "            if right2:\n",
    "                queue2.append(right2)\n",
    "\n",
    "        return not queue1 and not queue2"
   ]
  },
  {
   "cell_type": "markdown",
   "id": "b8206cd6",
   "metadata": {},
   "source": [
    "### 101. 对称二叉树"
   ]
  },
  {
   "cell_type": "markdown",
   "id": "69a55709",
   "metadata": {},
   "source": [
    "给定一个二叉树，检查它是否是镜像对称的。"
   ]
  },
  {
   "cell_type": "markdown",
   "id": "73e9a0c7",
   "metadata": {},
   "source": [
    "##### 1.递归"
   ]
  },
  {
   "cell_type": "code",
   "execution_count": null,
   "id": "49571659",
   "metadata": {},
   "outputs": [],
   "source": [
    "class Solution:\n",
    "    def isSymmetric(self, root: TreeNode) -> bool:\n",
    "        def recur(L, R):\n",
    "            if not L and not R: return True\n",
    "            if not L or not R or L.val != R.val: return False\n",
    "            return recur(L.left, R.right) and recur(L.right, R.left)\n",
    "\n",
    "        return recur(root.left, root.right) if root else True"
   ]
  },
  {
   "cell_type": "markdown",
   "id": "59e986e3",
   "metadata": {},
   "source": [
    "### 102. 二叉树的层序遍历"
   ]
  },
  {
   "cell_type": "markdown",
   "id": "aa00a5a2",
   "metadata": {},
   "source": [
    "给你一个二叉树，请你返回其按 层序遍历 得到的节点值。 （即逐层地，从左到右访问所有节点）。"
   ]
  },
  {
   "cell_type": "markdown",
   "id": "ddb01882",
   "metadata": {},
   "source": [
    "##### 1.层序遍历(广度优先搜索+队列)"
   ]
  },
  {
   "cell_type": "code",
   "execution_count": null,
   "id": "32d29a25",
   "metadata": {},
   "outputs": [],
   "source": [
    "class Solution:\n",
    "    def levelOrder(self, root: TreeNode) -> List[List[int]]:\n",
    "        if not root: return []\n",
    "        res, queue = [], collections.deque()\n",
    "        queue.append(root)\n",
    "        while queue:\n",
    "            tmp = []\n",
    "            for _ in range(len(queue)):\n",
    "                node = queue.popleft()\n",
    "                tmp.append(node.val)\n",
    "                if node.left: \n",
    "                    queue.append(node.left)\n",
    "                if node.right: \n",
    "                    queue.append(node.right)\n",
    "            res.append(tmp)\n",
    "        return res"
   ]
  },
  {
   "cell_type": "markdown",
   "id": "e93e1b76",
   "metadata": {},
   "source": [
    "### 104. 二叉树的最大深度"
   ]
  },
  {
   "cell_type": "markdown",
   "id": "6359bef0",
   "metadata": {},
   "source": [
    "给定一个二叉树，找出其最大深度。\n",
    "\n",
    "二叉树的深度为根节点到最远叶子节点的最长路径上的节点数。\n",
    "\n",
    "说明: 叶子节点是指没有子节点的节点。"
   ]
  },
  {
   "cell_type": "markdown",
   "id": "3e1eb601",
   "metadata": {},
   "source": [
    "##### 1.后序遍历(深度优先搜索+递归/栈)"
   ]
  },
  {
   "cell_type": "code",
   "execution_count": null,
   "id": "cbd6e20c",
   "metadata": {},
   "outputs": [],
   "source": [
    "class Solution:\n",
    "    def maxDepth(self, root: TreeNode) -> int:\n",
    "        if not root: return 0\n",
    "        return max(self.maxDepth(root.left), self.maxDepth(root.right)) + 1"
   ]
  },
  {
   "cell_type": "markdown",
   "id": "6eb9b879",
   "metadata": {},
   "source": [
    "### 105. 从前序与中序遍历序列构造二叉树"
   ]
  },
  {
   "cell_type": "markdown",
   "id": "bc95ed7d",
   "metadata": {},
   "source": [
    "给定一棵树的前序遍历 preorder 与中序遍历  inorder。请构造二叉树并返回其根节点。"
   ]
  },
  {
   "cell_type": "markdown",
   "id": "471665b8",
   "metadata": {},
   "source": [
    "##### 1.分治"
   ]
  },
  {
   "cell_type": "code",
   "execution_count": null,
   "id": "ffa2219b",
   "metadata": {},
   "outputs": [],
   "source": [
    "class Solution:\n",
    "    def buildTree(self, preorder: List[int], inorder: List[int]) -> TreeNode:\n",
    "        def recur(root, left, right):\n",
    "            if left > right: return                               # 递归终止\n",
    "            node = TreeNode(preorder[root])                       # 建立根节点\n",
    "            i = dic[preorder[root]]                               # 划分根节点、左子树、右子树\n",
    "            node.left = recur(root + 1, left, i - 1)              # 开启左子树递归\n",
    "            node.right = recur(i - left + root + 1, i + 1, right) # 开启右子树递归\n",
    "            return node                                           # 回溯返回根节点\n",
    "\n",
    "        dic, preorder = {}, preorder\n",
    "        for i in range(len(inorder)):\n",
    "            dic[inorder[i]] = i\n",
    "        return recur(0, 0, len(inorder) - 1)"
   ]
  },
  {
   "cell_type": "markdown",
   "id": "667d9141",
   "metadata": {},
   "source": [
    "### 110. 平衡二叉树"
   ]
  },
  {
   "cell_type": "markdown",
   "id": "0cc80ab2",
   "metadata": {},
   "source": [
    "给定一个二叉树，判断它是否是高度平衡的二叉树。"
   ]
  },
  {
   "cell_type": "markdown",
   "id": "dcdf88fd",
   "metadata": {},
   "source": [
    "##### 1.后序遍历+剪枝"
   ]
  },
  {
   "cell_type": "code",
   "execution_count": null,
   "id": "4059f19a",
   "metadata": {},
   "outputs": [],
   "source": [
    "class Solution:\n",
    "    def isBalanced(self, root: TreeNode) -> bool:\n",
    "        def recur(root):\n",
    "            if not root: return 0\n",
    "            left = recur(root.left)\n",
    "            if left == -1: return -1\n",
    "            right = recur(root.right)\n",
    "            if right == -1: return -1\n",
    "            return max(left, right) + 1 if abs(left - right) <= 1 else -1\n",
    "\n",
    "        return recur(root) != -1"
   ]
  },
  {
   "cell_type": "markdown",
   "id": "e84c67d6",
   "metadata": {},
   "source": [
    "### "
   ]
  },
  {
   "cell_type": "markdown",
   "id": "00d515c8",
   "metadata": {},
   "source": []
  },
  {
   "cell_type": "markdown",
   "id": "49de6ca3",
   "metadata": {},
   "source": [
    "##### 1.广度优先搜索"
   ]
  },
  {
   "cell_type": "code",
   "execution_count": null,
   "id": "bfb08925",
   "metadata": {},
   "outputs": [],
   "source": [
    "class Solution:\n",
    "    def hasPathSum(self, root: TreeNode, sum: int) -> bool:\n",
    "        if not root:\n",
    "            return False\n",
    "        que_node = collections.deque([root])\n",
    "        que_val = collections.deque([root.val])\n",
    "        while que_node:\n",
    "            now = que_node.popleft()\n",
    "            temp = que_val.popleft()\n",
    "            if not now.left and not now.right:\n",
    "                if temp == sum:\n",
    "                    return True\n",
    "                continue\n",
    "            if now.left:\n",
    "                que_node.append(now.left)\n",
    "                que_val.append(now.left.val + temp)\n",
    "            if now.right:\n",
    "                que_node.append(now.right)\n",
    "                que_val.append(now.right.val + temp)\n",
    "        return False"
   ]
  },
  {
   "cell_type": "markdown",
   "id": "aa81b412",
   "metadata": {},
   "source": [
    "##### 2.递归"
   ]
  },
  {
   "cell_type": "code",
   "execution_count": null,
   "id": "f11ca41a",
   "metadata": {},
   "outputs": [],
   "source": [
    "class Solution:\n",
    "    def hasPathSum(self, root: TreeNode, sum: int) -> bool:\n",
    "        if not root:\n",
    "            return False\n",
    "        if not root.left and not root.right:\n",
    "            return sum == root.val\n",
    "        return self.hasPathSum(root.left, sum - root.val) or self.hasPathSum(root.right, sum - root.val)"
   ]
  },
  {
   "cell_type": "markdown",
   "id": "8684edad",
   "metadata": {},
   "source": [
    "##### 3.栈"
   ]
  },
  {
   "cell_type": "code",
   "execution_count": null,
   "id": "c0673f45",
   "metadata": {},
   "outputs": [],
   "source": [
    "class Solution(object):\n",
    "    def hasPathSum(self, root, sum):\n",
    "        if not root:\n",
    "            return False\n",
    "        stack = []\n",
    "        stack.append((root, root.val))\n",
    "        while stack:\n",
    "            node, path = stack.pop()\n",
    "            if not node.left and not node.right and path == sum:\n",
    "                return True\n",
    "            if node.left:\n",
    "                stack.append((node.left, path + node.left.val))\n",
    "            if node.right:\n",
    "                stack.append((node.right, path + node.right.val))\n",
    "        return False"
   ]
  },
  {
   "cell_type": "markdown",
   "id": "aabde560",
   "metadata": {},
   "source": [
    "### 113. 路径总和 II"
   ]
  },
  {
   "cell_type": "markdown",
   "id": "0d3a26e2",
   "metadata": {},
   "source": [
    "给你二叉树的根节点 root 和一个整数目标和 targetSum ，找出所有 从根节点到叶子节点 路径总和等于给定目标和的路径。\n",
    "\n",
    "叶子节点 是指没有子节点的节点。"
   ]
  },
  {
   "cell_type": "markdown",
   "id": "39f96cb8",
   "metadata": {},
   "source": [
    "##### 1.回溯"
   ]
  },
  {
   "cell_type": "code",
   "execution_count": null,
   "id": "3ded8370",
   "metadata": {},
   "outputs": [],
   "source": [
    "class Solution:\n",
    "    def pathSum(self, root: TreeNode, target: int) -> List[List[int]]:\n",
    "        res, path = [], []\n",
    "        def recur(root, tar):\n",
    "            if not root: return\n",
    "            path.append(root.val)\n",
    "            tar -= root.val\n",
    "            if tar == 0 and not root.left and not root.right:\n",
    "                res.append(list(path))\n",
    "            recur(root.left, tar)\n",
    "            recur(root.right, tar)\n",
    "            path.pop()\n",
    "\n",
    "        recur(root, target)\n",
    "        return res"
   ]
  },
  {
   "cell_type": "markdown",
   "id": "77ba29ad",
   "metadata": {},
   "source": [
    "### 116. 填充每个节点的下一个右侧节点指针"
   ]
  },
  {
   "cell_type": "markdown",
   "id": "a5722e2c",
   "metadata": {},
   "source": [
    "给定一个 完美二叉树 ，其所有叶子节点都在同一层，每个父节点都有两个子节点。二叉树定义如下：\n",
    "\n",
    "struct Node {\n",
    "  int val;\n",
    "  Node *left;\n",
    "  Node *right;\n",
    "  Node *next;\n",
    "}\n",
    "填充它的每个 next 指针，让这个指针指向其下一个右侧节点。如果找不到下一个右侧节点，则将 next 指针设置为 NULL。\n",
    "\n",
    "初始状态下，所有 next 指针都被设置为 NULL。"
   ]
  },
  {
   "cell_type": "markdown",
   "id": "fc14f919",
   "metadata": {},
   "source": [
    "##### 1.层序遍历"
   ]
  },
  {
   "cell_type": "code",
   "execution_count": null,
   "id": "3d616145",
   "metadata": {},
   "outputs": [],
   "source": [
    "import collections \n",
    "\n",
    "class Solution:\n",
    "    def connect(self, root: 'Node') -> 'Node':\n",
    "        if not root:\n",
    "            return root\n",
    "        Q = collections.deque([root])\n",
    "        while Q:\n",
    "            size = len(Q)\n",
    "            for i in range(size):\n",
    "                node = Q.popleft()\n",
    "                if i < size - 1:\n",
    "                    node.next = Q[0]\n",
    "                if node.left:\n",
    "                    Q.append(node.left)\n",
    "                if node.right:\n",
    "                    Q.append(node.right)\n",
    "        return root"
   ]
  },
  {
   "cell_type": "markdown",
   "id": "84c7a02e",
   "metadata": {},
   "source": [
    "##### 2.讨论next指针"
   ]
  },
  {
   "cell_type": "code",
   "execution_count": null,
   "id": "5257956b",
   "metadata": {},
   "outputs": [],
   "source": [
    "class Solution:\n",
    "    def connect(self, root: 'Node') -> 'Node':\n",
    "        if not root:\n",
    "            return root\n",
    "        leftmost = root\n",
    "        while leftmost.left:\n",
    "            head = leftmost\n",
    "            while head:\n",
    "                head.left.next = head.right\n",
    "                if head.next:\n",
    "                    head.right.next = head.next.left\n",
    "                head = head.next\n",
    "            leftmost = leftmost.left\n",
    "        return root "
   ]
  },
  {
   "cell_type": "markdown",
   "id": "45ac24d5",
   "metadata": {},
   "source": [
    "### 118. 杨辉三角"
   ]
  },
  {
   "cell_type": "markdown",
   "id": "602911d6",
   "metadata": {},
   "source": [
    "给定一个非负整数 numRows，生成「杨辉三角」的前 numRows 行。"
   ]
  },
  {
   "cell_type": "markdown",
   "id": "cb32547c",
   "metadata": {},
   "source": [
    "##### 1.动态规划"
   ]
  },
  {
   "cell_type": "code",
   "execution_count": null,
   "id": "064532ac",
   "metadata": {},
   "outputs": [],
   "source": [
    "class Solution:\n",
    "    def generate(self, numRows: int) -> List[List[int]]:\n",
    "        dp = [[1]*i for i in range(1,numRows+1)]\n",
    "        if numRows > 1:\n",
    "            for i in range(2, numRows):\n",
    "                for j in range(1, i):\n",
    "                    dp[i][j] = dp[i-1][j-1] + dp[i-1][j]\n",
    "        return dp"
   ]
  },
  {
   "cell_type": "markdown",
   "id": "4816e17f",
   "metadata": {},
   "source": [
    "### 119. 杨辉三角 II"
   ]
  },
  {
   "cell_type": "markdown",
   "id": "5510beaa",
   "metadata": {},
   "source": [
    "给定一个非负索引 rowIndex，返回「杨辉三角」的第 rowIndex 行。"
   ]
  },
  {
   "cell_type": "markdown",
   "id": "e1608309",
   "metadata": {},
   "source": [
    "##### 1.动态规划"
   ]
  },
  {
   "cell_type": "code",
   "execution_count": null,
   "id": "46b78770",
   "metadata": {},
   "outputs": [],
   "source": [
    "class Solution:\n",
    "    def getRow(self, rowIndex: int) -> List[int]:\n",
    "        res = []\n",
    "        n = rowIndex\n",
    "        dp = [[0] * i for i in range(1,n+2)]\n",
    "        for i in range(n+1):\n",
    "            dp[i][0] = 1\n",
    "            dp[i][i] = 1\n",
    "            for j in range(1, i):\n",
    "                dp[i][j] = dp[i-1][j-1] + dp[i-1][j]\n",
    "        return dp[n]"
   ]
  },
  {
   "cell_type": "code",
   "execution_count": null,
   "id": "5c400b3c",
   "metadata": {},
   "outputs": [],
   "source": [
    "class Solution:\n",
    "    def getRow(self, rowIndex: int) -> List[int]:\n",
    "        res = [1]\n",
    "        for i in range(rowIndex):\n",
    "            res.append(1)\n",
    "            for j in range(1, len(res) - 1):\n",
    "                if j == 1:\n",
    "                    temp = res[j]\n",
    "                    res[j] = res[j] + 1\n",
    "                else:\n",
    "                    tempHere = res[j]\n",
    "                    res[j] = res[j] + temp\n",
    "                    temp = tempHere\n",
    "        return res"
   ]
  },
  {
   "cell_type": "markdown",
   "id": "bf0467ad",
   "metadata": {},
   "source": [
    "### 120. 三角形最小路径和"
   ]
  },
  {
   "cell_type": "markdown",
   "id": "cff6592a",
   "metadata": {},
   "source": [
    "给定一个三角形 triangle ，找出自顶向下的最小路径和。\n",
    "\n",
    "每一步只能移动到下一行中相邻的结点上。相邻的结点 在这里指的是 下标 与 上一层结点下标 相同或者等于 上一层结点下标 + 1 的两个结点。也就是说，如果正位于当前行的下标 i ，那么下一步可以移动到下一行的下标 i 或 i + 1 。"
   ]
  },
  {
   "cell_type": "markdown",
   "id": "0bd290f4",
   "metadata": {},
   "source": [
    "##### 1.动态规划"
   ]
  },
  {
   "cell_type": "code",
   "execution_count": null,
   "id": "4d40e019",
   "metadata": {},
   "outputs": [],
   "source": [
    "class Solution:\n",
    "    def minimumTotal(self, triangle: List[List[int]]) -> int:\n",
    "        n = len(triangle)\n",
    "        f = [[0] * n for _ in range(n)]\n",
    "        f[0][0] = triangle[0][0]\n",
    "\n",
    "        for i in range(1, n):\n",
    "            f[i][0] = f[i - 1][0] + triangle[i][0]\n",
    "            for j in range(1, i):\n",
    "                f[i][j] = min(f[i - 1][j - 1], f[i - 1][j]) + triangle[i][j]\n",
    "            f[i][i] = f[i - 1][i - 1] + triangle[i][i]\n",
    "        \n",
    "        return min(f[n - 1])"
   ]
  },
  {
   "cell_type": "code",
   "execution_count": null,
   "id": "d6222b35",
   "metadata": {},
   "outputs": [],
   "source": [
    "class Solution:\n",
    "    def minimumTotal(self, triangle: List[List[int]]) -> int:\n",
    "        n = len(triangle)\n",
    "        f = [0] * n\n",
    "        f[0] = triangle[0][0]\n",
    "\n",
    "        for i in range(1, n):\n",
    "            f[i] = f[i - 1] + triangle[i][i]\n",
    "            for j in range(i - 1, 0, -1):\n",
    "                f[j] = min(f[j - 1], f[j]) + triangle[i][j]\n",
    "            f[0] += triangle[i][0]\n",
    "        \n",
    "        return min(f)"
   ]
  },
  {
   "cell_type": "markdown",
   "id": "0b36bbd0",
   "metadata": {},
   "source": [
    "### 121. 买卖股票的最佳时机"
   ]
  },
  {
   "cell_type": "markdown",
   "id": "8391ee08",
   "metadata": {},
   "source": [
    "给定一个数组 prices ，它的第 i 个元素 prices[i] 表示一支给定股票第 i 天的价格。\n",
    "\n",
    "你只能选择 某一天 买入这只股票，并选择在 未来的某一个不同的日子 卖出该股票。设计一个算法来计算你所能获取的最大利润。\n",
    "\n",
    "返回你可以从这笔交易中获取的最大利润。如果你不能获取任何利润，返回 0 。"
   ]
  },
  {
   "cell_type": "markdown",
   "id": "3bb869a7",
   "metadata": {},
   "source": [
    "##### 1.动态规划"
   ]
  },
  {
   "cell_type": "code",
   "execution_count": null,
   "id": "61655725",
   "metadata": {},
   "outputs": [],
   "source": [
    "class Solution:\n",
    "    def maxProfit(self, prices: List[int]) -> int:\n",
    "        n = len(prices)\n",
    "        if n == 0: return 0 # 边界条件\n",
    "        dp = [0] * n\n",
    "        minprice = prices[0] \n",
    "\n",
    "        for i in range(1, n):\n",
    "            minprice = min(minprice, prices[i])\n",
    "            dp[i] = max(dp[i - 1], prices[i] - minprice)\n",
    "\n",
    "        return dp[-1]"
   ]
  },
  {
   "cell_type": "markdown",
   "id": "39c8fbcd",
   "metadata": {},
   "source": [
    "##### 2.一次遍历"
   ]
  },
  {
   "cell_type": "code",
   "execution_count": null,
   "id": "551aa85d",
   "metadata": {},
   "outputs": [],
   "source": [
    "class Solution:\n",
    "    def maxProfit(self, prices: List[int]) -> int:\n",
    "        minprice = float('inf')\n",
    "        maxprofit = 0\n",
    "        for price in prices:\n",
    "            minprice = min(minprice, price)\n",
    "            maxprofit = max(maxprofit, price - minprice)\n",
    "        return maxprofit"
   ]
  },
  {
   "cell_type": "markdown",
   "id": "4dcb1b85",
   "metadata": {},
   "source": [
    "### 122. 买卖股票的最佳时机 II"
   ]
  },
  {
   "cell_type": "markdown",
   "id": "04b29a1c",
   "metadata": {},
   "source": [
    "给定一个数组 prices ，其中 prices[i] 是一支给定股票第 i 天的价格。\n",
    "\n",
    "设计一个算法来计算你所能获取的最大利润。你可以尽可能地完成更多的交易（多次买卖一支股票）。\n",
    "\n",
    "注意：你不能同时参与多笔交易（你必须在再次购买前出售掉之前的股票）。"
   ]
  },
  {
   "cell_type": "markdown",
   "id": "d4bdea6f",
   "metadata": {},
   "source": [
    "##### 1.一次遍历"
   ]
  },
  {
   "cell_type": "code",
   "execution_count": null,
   "id": "90c0760d",
   "metadata": {},
   "outputs": [],
   "source": [
    "class Solution:\n",
    "    def maxProfit(self, prices: List[int]) -> int:\n",
    "        profit = 0\n",
    "        for i in range(1, len(prices)):\n",
    "            tmp = prices[i] - prices[i - 1]\n",
    "            if tmp > 0: profit += tmp\n",
    "        return profit"
   ]
  },
  {
   "cell_type": "markdown",
   "id": "5ff4dfd1",
   "metadata": {},
   "source": [
    "### 136. 只出现一次的数字"
   ]
  },
  {
   "cell_type": "markdown",
   "id": "c0abfffe",
   "metadata": {},
   "source": [
    "给定一个非空整数数组，除了某个元素只出现一次以外，其余每个元素均出现两次。找出那个只出现了一次的元素。"
   ]
  },
  {
   "cell_type": "markdown",
   "id": "83647a6f",
   "metadata": {},
   "source": [
    "##### 1.位运算(异或运算)"
   ]
  },
  {
   "cell_type": "code",
   "execution_count": null,
   "id": "50127473",
   "metadata": {},
   "outputs": [],
   "source": [
    "def singleNumber(nums) -> int:\n",
    "    return reduce(lambda x, y: x ^ y, nums)"
   ]
  },
  {
   "cell_type": "markdown",
   "id": "ab90404c",
   "metadata": {},
   "source": [
    "### 137. 只出现一次的数字 II"
   ]
  },
  {
   "cell_type": "markdown",
   "id": "4acc98bf",
   "metadata": {},
   "source": [
    "给你一个整数数组 nums ，除某个元素仅出现 一次 外，其余每个元素都恰出现 三次 。请你找出并返回那个只出现了一次的元素。"
   ]
  },
  {
   "cell_type": "markdown",
   "id": "ffe3f873",
   "metadata": {},
   "source": [
    "##### 1.异或运算"
   ]
  },
  {
   "cell_type": "code",
   "execution_count": null,
   "id": "3c8f295d",
   "metadata": {},
   "outputs": [],
   "source": [
    "def singleNumber(nums) -> int:\n",
    "    a = b = 0\n",
    "    for num in nums:\n",
    "        b = ~a & (b ^ num)\n",
    "        a = ~b & (a ^ num)\n",
    "    return b"
   ]
  },
  {
   "cell_type": "markdown",
   "id": "68a2557a",
   "metadata": {},
   "source": [
    "### 141. 环形链表"
   ]
  },
  {
   "cell_type": "markdown",
   "id": "6e705f24",
   "metadata": {},
   "source": [
    "给你一个链表的头节点 head ，判断链表中是否有环。\n",
    "\n",
    "如果链表中有某个节点，可以通过连续跟踪 next 指针再次到达，则链表中存在环。 为了表示给定链表中的环，评测系统内部使用整数 pos 来表示链表尾连接到链表中的位置（索引从 0 开始）。如果 pos 是 -1，则在该链表中没有环。注意：pos 不作为参数进行传递，仅仅是为了标识链表的实际情况。\n",
    "\n",
    "如果链表中存在环，则返回 true 。 否则，返回 false 。"
   ]
  },
  {
   "cell_type": "markdown",
   "id": "1fccad14",
   "metadata": {},
   "source": [
    "##### 1.哈希表"
   ]
  },
  {
   "cell_type": "code",
   "execution_count": null,
   "id": "cea1a636",
   "metadata": {},
   "outputs": [],
   "source": [
    "class Solution:\n",
    "    def hasCycle(self, head: ListNode) -> bool:\n",
    "        seen = set()\n",
    "        while head:\n",
    "            if head in seen:\n",
    "                return True\n",
    "            seen.add(head)\n",
    "            head = head.next\n",
    "        return False"
   ]
  },
  {
   "cell_type": "markdown",
   "id": "7df94f22",
   "metadata": {},
   "source": [
    "##### 2.快慢指针"
   ]
  },
  {
   "cell_type": "code",
   "execution_count": null,
   "id": "045a6cb8",
   "metadata": {},
   "outputs": [],
   "source": [
    "class Solution:\n",
    "    def hasCycle(self, head: ListNode) -> bool:\n",
    "        if not head or not head.next:\n",
    "            return False\n",
    "        \n",
    "        slow = head\n",
    "        fast = head.next\n",
    "\n",
    "        while slow != fast:\n",
    "            if not fast or not fast.next:\n",
    "                return False\n",
    "            slow = slow.next\n",
    "            fast = fast.next.next\n",
    "        \n",
    "        return True"
   ]
  },
  {
   "cell_type": "markdown",
   "id": "27b86efc",
   "metadata": {},
   "source": [
    "### 153. 寻找旋转排序数组中的最小值"
   ]
  },
  {
   "cell_type": "markdown",
   "id": "3a82c477",
   "metadata": {},
   "source": [
    "已知一个长度为 n 的数组，预先按照升序排列，经由 1 到 n 次 旋转 后，得到输入数组。例如，原数组 nums = [0,1,2,4,5,6,7] 在变化后可能得到：\n",
    "若旋转 4 次，则可以得到 [4,5,6,7,0,1,2]\n",
    "若旋转 7 次，则可以得到 [0,1,2,4,5,6,7]\n",
    "注意，数组 [a[0], a[1], a[2], ..., a[n-1]] 旋转一次 的结果为数组 [a[n-1], a[0], a[1], a[2], ..., a[n-2]] 。\n",
    "\n",
    "给你一个元素值 互不相同 的数组 nums ，它原来是一个升序排列的数组，并按上述情形进行了多次旋转。请你找出并返回数组中的 最小元素 。"
   ]
  },
  {
   "cell_type": "markdown",
   "id": "9c82c4ee",
   "metadata": {},
   "source": [
    "##### 1.二分查找"
   ]
  },
  {
   "cell_type": "code",
   "execution_count": null,
   "id": "f0a155dc",
   "metadata": {},
   "outputs": [],
   "source": [
    "def findMin(nums) -> int:    \n",
    "    low, high = 0, len(nums) - 1\n",
    "    while low < high:\n",
    "        pivot = low + (high - low) // 2\n",
    "        if nums[pivot] < nums[high]:\n",
    "            high = pivot \n",
    "        else:\n",
    "            low = pivot + 1\n",
    "    return nums[low]"
   ]
  },
  {
   "cell_type": "markdown",
   "id": "ee75d6d2",
   "metadata": {},
   "source": [
    "### 154. 寻找旋转排序数组中的最小值 II"
   ]
  },
  {
   "cell_type": "markdown",
   "id": "4e204004",
   "metadata": {},
   "source": [
    "已知一个长度为 n 的数组，预先按照升序排列，经由 1 到 n 次 旋转 后，得到输入数组。例如，原数组 nums = [0,1,4,4,5,6,7] 在变化后可能得到：\n",
    "若旋转 4 次，则可以得到 [4,5,6,7,0,1,4]\n",
    "若旋转 7 次，则可以得到 [0,1,4,4,5,6,7]\n",
    "注意，数组 [a[0], a[1], a[2], ..., a[n-1]] 旋转一次 的结果为数组 [a[n-1], a[0], a[1], a[2], ..., a[n-2]] 。\n",
    "\n",
    "给你一个可能存在 重复 元素值的数组 nums ，它原来是一个升序排列的数组，并按上述情形进行了多次旋转。请你找出并返回数组中的 最小元素 \n"
   ]
  },
  {
   "cell_type": "markdown",
   "id": "f52f50dd",
   "metadata": {},
   "source": [
    "##### 1.二分查找"
   ]
  },
  {
   "cell_type": "code",
   "execution_count": null,
   "id": "70796466",
   "metadata": {},
   "outputs": [],
   "source": [
    "def findMin(nums) -> int:    \n",
    "    low, high = 0, len(nums) - 1\n",
    "    while low < high:\n",
    "        pivot = low + (high - low) // 2\n",
    "        if nums[pivot] < nums[high]:\n",
    "            high = pivot \n",
    "        elif nums[pivot] > nums[high]:\n",
    "            low = pivot + 1\n",
    "        else:\n",
    "            high -= 1\n",
    "    return nums[low]"
   ]
  },
  {
   "cell_type": "markdown",
   "id": "fb4e1cc1",
   "metadata": {},
   "source": [
    "### 155. 最小栈"
   ]
  },
  {
   "cell_type": "markdown",
   "id": "e63631fb",
   "metadata": {},
   "source": [
    "设计一个支持 push ，pop ，top 操作，并能在常数时间内检索到最小元素的栈。\n",
    "\n",
    "push(x) —— 将元素 x 推入栈中。    \n",
    "pop() —— 删除栈顶的元素。    \n",
    "top() —— 获取栈顶元素。    \n",
    "getMin() —— 检索栈中的最小元素。"
   ]
  },
  {
   "cell_type": "markdown",
   "id": "76f20ac8",
   "metadata": {},
   "source": [
    "##### 1.辅助栈"
   ]
  },
  {
   "cell_type": "code",
   "execution_count": null,
   "id": "4d464e61",
   "metadata": {},
   "outputs": [],
   "source": [
    "class MinStack:\n",
    "    def __init__(self):\n",
    "        self.A, self.B = [], []\n",
    "\n",
    "    def push(self, x: int) -> None:\n",
    "        self.A.append(x)\n",
    "        if not self.B or self.B[-1] >= x:\n",
    "            self.B.append(x)\n",
    "\n",
    "    def pop(self) -> None:\n",
    "        if self.A.pop() == self.B[-1]:\n",
    "            self.B.pop()\n",
    "\n",
    "    def top(self) -> int:\n",
    "        return self.A[-1]\n",
    "\n",
    "    def min(self) -> int:\n",
    "        return self.B[-1]"
   ]
  },
  {
   "cell_type": "markdown",
   "id": "de59bf45",
   "metadata": {},
   "source": [
    "### 159. 至多包含两个不同字符的最长子串"
   ]
  },
  {
   "cell_type": "markdown",
   "id": "2ec6e2de",
   "metadata": {},
   "source": [
    "##### 1.滑动窗口法"
   ]
  },
  {
   "cell_type": "code",
   "execution_count": null,
   "id": "5566bc1a",
   "metadata": {},
   "outputs": [],
   "source": [
    "def lengthOfLongestSubstringTwoDistinct(s: str) -> int:\n",
    "    from collections import defaultdict\n",
    "    lookup = defaultdict(int)\n",
    "    start = 0\n",
    "    end = 0##### 滑动窗口法\n",
    "    max_len = 0\n",
    "    counter = 0\n",
    "    while end < len(s):\n",
    "        if lookup[s[end]] == 0:\n",
    "            counter += 1\n",
    "        lookup[s[end]] += 1\n",
    "        end +=1\n",
    "        while counter > 2:\n",
    "            if lookup[s[start]] == 1:\n",
    "                counter -= 1\n",
    "            lookup[s[start]] -= 1\n",
    "            start += 1\n",
    "        max_len = max(max_len, end - start)\n",
    "    return max_len"
   ]
  },
  {
   "cell_type": "markdown",
   "id": "10c09aba",
   "metadata": {},
   "source": [
    "### 167. 两数之和 II - 输入有序数组"
   ]
  },
  {
   "cell_type": "markdown",
   "id": "39d99430",
   "metadata": {},
   "source": [
    "给定一个已按照 非递减顺序排列  的整数数组 numbers ，请你从数组中找出两个数满足相加之和等于目标数 target 。\n",
    "\n",
    "函数应该以长度为 2 的整数数组的形式返回这两个数的下标值。numbers 的下标 从 1 开始计数 ，所以答案数组应当满足 1 <= answer[0] < answer[1] <= numbers.length 。\n",
    "\n",
    "你可以假设每个输入 只对应唯一的答案 ，而且你 不可以 重复使用相同的元素。"
   ]
  },
  {
   "cell_type": "markdown",
   "id": "9766e00e",
   "metadata": {},
   "source": [
    "##### 1.二分查找"
   ]
  },
  {
   "cell_type": "code",
   "execution_count": null,
   "id": "2249a7c7",
   "metadata": {},
   "outputs": [],
   "source": [
    "class Solution:\n",
    "    def twoSum(self, numbers: List[int], target: int) -> List[int]:\n",
    "        n = len(numbers)\n",
    "        for i in range(n):\n",
    "            low, high = i + 1, n - 1\n",
    "            while low <= high:\n",
    "                mid = (low + high) // 2\n",
    "                if numbers[mid] == target - numbers[i]:\n",
    "                    return [i + 1, mid + 1]\n",
    "                elif numbers[mid] > target - numbers[i]:\n",
    "                    high = mid - 1\n",
    "                else:\n",
    "                    low = mid + 1\n",
    "        \n",
    "        return [-1, -1]"
   ]
  },
  {
   "cell_type": "markdown",
   "id": "0724192a",
   "metadata": {},
   "source": [
    "##### 2.双指针"
   ]
  },
  {
   "cell_type": "code",
   "execution_count": null,
   "id": "14487c1c",
   "metadata": {},
   "outputs": [],
   "source": [
    "class Solution:\n",
    "    def twoSum(self, numbers: List[int], target: int) -> List[int]:\n",
    "        low, high = 0, len(numbers) - 1\n",
    "        while low < high:\n",
    "            total = numbers[low] + numbers[high]\n",
    "            if total == target:\n",
    "                return [low + 1, high + 1]\n",
    "            elif total < target:\n",
    "                low += 1\n",
    "            else:\n",
    "                high -= 1\n",
    "\n",
    "        return [-1, -1]"
   ]
  },
  {
   "cell_type": "markdown",
   "id": "f2909f1e",
   "metadata": {},
   "source": [
    "### 169. 多数元素"
   ]
  },
  {
   "cell_type": "markdown",
   "id": "7d5a6df2",
   "metadata": {},
   "source": [
    "给定一个大小为 n 的数组，找到其中的多数元素。多数元素是指在数组中出现次数 大于 ⌊ n/2 ⌋ 的元素。\n",
    "\n",
    "你可以假设数组是非空的，并且给定的数组总是存在多数元素。"
   ]
  },
  {
   "cell_type": "markdown",
   "id": "8636a553",
   "metadata": {},
   "source": [
    "##### 1.哈希表统计"
   ]
  },
  {
   "cell_type": "code",
   "execution_count": null,
   "id": "3b99c520",
   "metadata": {},
   "outputs": [],
   "source": [
    "class Solution:\n",
    "    def majorityElement(self, nums: List[int]) -> int:\n",
    "\n",
    "        if not nums:  # 数组为空\n",
    "            return 0\n",
    "\n",
    "        hashset = {}\n",
    "        for num in nums:\n",
    "            hashset[num] = hashset[num] + 1 if hashset.get(num) else 1\n",
    "\n",
    "        for key, value in hashset.items():\n",
    "            if value > len(nums) / 2:\n",
    "                return key\n",
    "        return 0  # 不存在众数"
   ]
  },
  {
   "cell_type": "markdown",
   "id": "640d42d5",
   "metadata": {},
   "source": [
    "### 190. 颠倒二进制位"
   ]
  },
  {
   "cell_type": "markdown",
   "id": "b5d3324b",
   "metadata": {},
   "source": [
    "颠倒给定的 32 位无符号整数的二进制位。"
   ]
  },
  {
   "cell_type": "markdown",
   "id": "888ccd0e",
   "metadata": {},
   "source": [
    "##### 1.循环"
   ]
  },
  {
   "cell_type": "code",
   "execution_count": null,
   "id": "31370c25",
   "metadata": {},
   "outputs": [],
   "source": [
    "class Solution:\n",
    "    def reverseBits(self, n):\n",
    "        res = 0\n",
    "        for i in range(32):\n",
    "            res = (res << 1) | (n & 1)\n",
    "            n >>= 1\n",
    "        return res"
   ]
  },
  {
   "cell_type": "markdown",
   "id": "7a6c757f",
   "metadata": {},
   "source": [
    "##### 2.分治"
   ]
  },
  {
   "attachments": {
    "1616982968-vXsJSf-190.001.jpeg": {
     "image/jpeg": "[encoded data removed]"
    }
   },
   "cell_type": "markdown",
   "id": "c4583574",
   "metadata": {},
   "source": [
    "![1616982968-vXsJSf-190.001.jpeg](attachment:1616982968-vXsJSf-190.001.jpeg)"
   ]
  },
  {
   "cell_type": "code",
   "execution_count": null,
   "id": "867881fe",
   "metadata": {},
   "outputs": [],
   "source": [
    "class Solution:\n",
    "    def reverseBits(self, n):\n",
    "        n = (n >> 16) | (n << 16);\n",
    "        n = ((n & 0xff00ff00) >> 8) | ((n & 0x00ff00ff) << 8);\n",
    "        n = ((n & 0xf0f0f0f0) >> 4) | ((n & 0x0f0f0f0f) << 4);\n",
    "        n = ((n & 0xcccccccc) >> 2) | ((n & 0x33333333) << 2);\n",
    "        n = ((n & 0xaaaaaaaa) >> 1) | ((n & 0x55555555) << 1);\n",
    "        return n"
   ]
  },
  {
   "cell_type": "markdown",
   "id": "e5211f6c",
   "metadata": {},
   "source": [
    "### 191. 位1的个数"
   ]
  },
  {
   "cell_type": "markdown",
   "id": "aef11f60",
   "metadata": {},
   "source": [
    "编写一个函数，输入是一个无符号整数（以二进制串的形式），返回其二进制表达式中数字位数为 '1' 的个数（也被称为汉明重量）。"
   ]
  },
  {
   "cell_type": "markdown",
   "id": "7ff04cb4",
   "metadata": {},
   "source": [
    "##### 1.位运算"
   ]
  },
  {
   "cell_type": "code",
   "execution_count": null,
   "id": "db1705f6",
   "metadata": {},
   "outputs": [],
   "source": [
    "class Solution:\n",
    "    def hammingWeight(self, n: int) -> int:\n",
    "        res = 0\n",
    "        while n:\n",
    "            res += n & 1#判断末位是否为1\n",
    "            n >>= 1\n",
    "        return res"
   ]
  },
  {
   "cell_type": "markdown",
   "id": "86f2cc4e",
   "metadata": {},
   "source": [
    "##### 2.与运算"
   ]
  },
  {
   "cell_type": "code",
   "execution_count": null,
   "id": "f3e88904",
   "metadata": {},
   "outputs": [],
   "source": [
    "class Solution:\n",
    "    def hammingWeight(self, n: int) -> int:\n",
    "        res = 0\n",
    "        while n:\n",
    "            res += 1\n",
    "            n &= n - 1\n",
    "        return res"
   ]
  },
  {
   "cell_type": "markdown",
   "id": "302e23db",
   "metadata": {},
   "source": [
    "##### 3.库函数"
   ]
  },
  {
   "cell_type": "code",
   "execution_count": null,
   "id": "945f477d",
   "metadata": {},
   "outputs": [],
   "source": [
    "class Solution(object):\n",
    "    def hammingWeight(self, n):\n",
    "        return bin(n).count(\"1\")"
   ]
  },
  {
   "cell_type": "markdown",
   "id": "130be538",
   "metadata": {},
   "source": [
    "### 198. 打家劫舍"
   ]
  },
  {
   "cell_type": "markdown",
   "id": "98aa9603",
   "metadata": {},
   "source": [
    "你是一个专业的小偷，计划偷窃沿街的房屋。每间房内都藏有一定的现金，影响你偷窃的唯一制约因素就是相邻的房屋装有相互连通的防盗系统，如果两间相邻的房屋在同一晚上被小偷闯入，系统会自动报警。\n",
    "\n",
    "给定一个代表每个房屋存放金额的非负整数数组，计算你 不触动警报装置的情况下 ，一夜之内能够偷窃到的最高金额。"
   ]
  },
  {
   "cell_type": "markdown",
   "id": "8086c342",
   "metadata": {},
   "source": [
    "##### 1.动态规划"
   ]
  },
  {
   "cell_type": "code",
   "execution_count": null,
   "id": "4f0f72b5",
   "metadata": {},
   "outputs": [],
   "source": [
    "class Solution:\n",
    "    def rob(self, nums: List[int]) -> int:\n",
    "        if not nums:\n",
    "            return 0\n",
    "\n",
    "        size = len(nums)\n",
    "        if size == 1:\n",
    "            return nums[0]\n",
    "        \n",
    "        dp = [0] * size\n",
    "        dp[0] = nums[0]\n",
    "        dp[1] = max(nums[0], nums[1])\n",
    "        for i in range(2, size):\n",
    "            dp[i] = max(dp[i - 2] + nums[i], dp[i - 1])\n",
    "        \n",
    "        return dp[size - 1]"
   ]
  },
  {
   "cell_type": "markdown",
   "id": "1afb4e0a",
   "metadata": {},
   "source": [
    "### 203. 移除链表元素"
   ]
  },
  {
   "cell_type": "markdown",
   "id": "c3a0bd78",
   "metadata": {},
   "source": [
    "给你一个链表的头节点 head 和一个整数 val ，请你删除链表中所有满足 Node.val == val 的节点，并返回 新的头节点 。"
   ]
  },
  {
   "cell_type": "markdown",
   "id": "2087c3cc",
   "metadata": {},
   "source": [
    "##### 1.递归"
   ]
  },
  {
   "cell_type": "code",
   "execution_count": null,
   "id": "ae790bd1",
   "metadata": {},
   "outputs": [],
   "source": [
    "class Solution:\n",
    "    def removeElements(self, head: ListNode, val: int) -> ListNode:\n",
    "        if not head:\n",
    "            return head\n",
    "        head.next = self.removeElements(head.next, val)\n",
    "        return head.next if head.val == val else head"
   ]
  },
  {
   "cell_type": "markdown",
   "id": "4a21aeec",
   "metadata": {},
   "source": [
    "##### 2.迭代"
   ]
  },
  {
   "cell_type": "code",
   "execution_count": null,
   "id": "2604df00",
   "metadata": {},
   "outputs": [],
   "source": [
    "class Solution:\n",
    "    def removeElements(self, head: ListNode, val: int) -> ListNode:\n",
    "        dummy = ListNode(None);\n",
    "        dummy.next = head\n",
    "        temp = dummy\n",
    "        while temp.next:\n",
    "            if temp.next.val == val:\n",
    "                temp.next = temp.next.next\n",
    "            else:\n",
    "                temp = temp.next\n",
    "        return dummy.next"
   ]
  },
  {
   "cell_type": "markdown",
   "id": "b310334d",
   "metadata": {},
   "source": [
    "### 206. 反转链表"
   ]
  },
  {
   "cell_type": "markdown",
   "id": "543ec576",
   "metadata": {},
   "source": [
    "给你单链表的头节点 head ，请你反转链表，并返回反转后的链表。"
   ]
  },
  {
   "cell_type": "markdown",
   "id": "e14c3a37",
   "metadata": {},
   "source": [
    "##### 1.迭代(双指针)"
   ]
  },
  {
   "cell_type": "code",
   "execution_count": null,
   "id": "e7e4aa06",
   "metadata": {},
   "outputs": [],
   "source": [
    "class Solution:\n",
    "    def reverseList(self, head: ListNode) -> ListNode:\n",
    "        cur, pre = head, None\n",
    "        while cur:\n",
    "            tmp = cur.next # 暂存后继节点 cur.next\n",
    "            cur.next = pre # 修改 next 引用指向\n",
    "            pre = cur      # pre 暂存 cur\n",
    "            cur = tmp      # cur 访问下一节点\n",
    "        return pre"
   ]
  },
  {
   "cell_type": "markdown",
   "id": "64bf7020",
   "metadata": {},
   "source": [
    "##### 2.递归"
   ]
  },
  {
   "attachments": {
    "1604779288-fEyTvV-Picture21.png": {
     "image/png": "[encoded data removed]"
    }
   },
   "cell_type": "markdown",
   "id": "d0bab426",
   "metadata": {},
   "source": [
    "![1604779288-fEyTvV-Picture21.png](attachment:1604779288-fEyTvV-Picture21.png)"
   ]
  },
  {
   "cell_type": "code",
   "execution_count": null,
   "id": "74c7af70",
   "metadata": {},
   "outputs": [],
   "source": [
    "class Solution:\n",
    "    def reverseList(self, head: ListNode) -> ListNode:\n",
    "        def recur(cur, pre):\n",
    "            if not cur: return pre     # 终止条件\n",
    "            res = recur(cur.next, cur) # 递归后继节点\n",
    "            cur.next = pre             # 修改节点引用指向\n",
    "            return res                 # 返回反转链表的头节点\n",
    "        \n",
    "        return recur(head, None)       # 调用递归并返回"
   ]
  },
  {
   "cell_type": "markdown",
   "id": "adaab114",
   "metadata": {},
   "source": [
    "### 226. 翻转二叉树"
   ]
  },
  {
   "cell_type": "markdown",
   "id": "7b7585f5",
   "metadata": {},
   "source": [
    "翻转一棵二叉树。"
   ]
  },
  {
   "cell_type": "markdown",
   "id": "f9dd561b",
   "metadata": {},
   "source": [
    "##### 1.递归"
   ]
  },
  {
   "cell_type": "code",
   "execution_count": null,
   "id": "da0e5ebb",
   "metadata": {},
   "outputs": [],
   "source": [
    "#平行赋值\n",
    "class Solution:\n",
    "    def mirrorTree(self, root: TreeNode) -> TreeNode:\n",
    "        if not root: return#return null\n",
    "        root.left, root.right = \\\n",
    "        self.mirrorTree(root.right), self.mirrorTree(root.left)\n",
    "        return root"
   ]
  },
  {
   "cell_type": "markdown",
   "id": "b8482580",
   "metadata": {},
   "source": [
    "### 231. 2 的幂"
   ]
  },
  {
   "cell_type": "markdown",
   "id": "6f784066",
   "metadata": {},
   "source": [
    "给你一个整数 n，请你判断该整数是否是 2 的幂次方。如果是，返回 true ；否则，返回 false 。\n",
    "\n",
    "如果存在一个整数 x 使得 n == 2x ，则认为 n 是 2 的幂次方。"
   ]
  },
  {
   "cell_type": "markdown",
   "id": "8e20ee2d",
   "metadata": {},
   "source": [
    "##### 1.位运算"
   ]
  },
  {
   "cell_type": "code",
   "execution_count": null,
   "id": "78df409b",
   "metadata": {},
   "outputs": [],
   "source": [
    "class Solution:\n",
    "    def isPowerOfTwo(self, n: int) -> bool:\n",
    "        return n > 0 and n & (n - 1) == 0"
   ]
  },
  {
   "cell_type": "markdown",
   "id": "12818ede",
   "metadata": {},
   "source": [
    "### 232. 用栈实现队列"
   ]
  },
  {
   "cell_type": "markdown",
   "id": "8b98339e",
   "metadata": {},
   "source": [
    "请你仅使用两个栈实现先入先出队列。队列应当支持一般队列支持的所有操作（push、pop、peek、empty）：\n",
    "\n",
    "实现 MyQueue 类：\n",
    "\n",
    "void push(int x) 将元素 x 推到队列的末尾\n",
    "int pop() 从队列的开头移除并返回元素\n",
    "int peek() 返回队列开头的元素\n",
    "boolean empty() 如果队列为空，返回 true ；否则，返回 false"
   ]
  },
  {
   "cell_type": "markdown",
   "id": "2984193e",
   "metadata": {},
   "source": [
    "##### 1.辅助栈"
   ]
  },
  {
   "cell_type": "code",
   "execution_count": null,
   "id": "12507dc6",
   "metadata": {},
   "outputs": [],
   "source": [
    "class MyQueue:\n",
    "\n",
    "    def __init__(self):\n",
    "        self.stack  = []\n",
    "        self.stack2 = []\n",
    "\n",
    "    def push(self, x: int) -> None:\n",
    "        self.stack.append(x)\n",
    "\n",
    "    def pop(self) -> int:\n",
    "        while len(self.stack) != 1:\n",
    "            self.stack2.append(self.stack.pop())\n",
    "        r = self.stack.pop()\n",
    "        while self.stack2:\n",
    "            self.stack.append(self.stack2.pop())\n",
    "        return r\n",
    "\n",
    "    def peek(self) -> int:\n",
    "        return self.stack[0]\n",
    "\n",
    "    def empty(self) -> bool:\n",
    "        return len(self.stack) == 0"
   ]
  },
  {
   "cell_type": "markdown",
   "id": "41ac4aee",
   "metadata": {},
   "source": [
    "### 235. 二叉搜索树的最近公共祖先"
   ]
  },
  {
   "cell_type": "markdown",
   "id": "92491d75",
   "metadata": {},
   "source": [
    "给定一个二叉搜索树, 找到该树中两个指定节点的最近公共祖先。\n",
    "\n",
    "百度百科中最近公共祖先的定义为：“对于有根树 T 的两个结点 p、q，最近公共祖先表示为一个结点 x，满足 x 是 p、q 的祖先且 x 的深度尽可能大（一个节点也可以是它自己的祖先）。”"
   ]
  },
  {
   "cell_type": "markdown",
   "id": "981ca32e",
   "metadata": {},
   "source": [
    "##### 1.迭代"
   ]
  },
  {
   "cell_type": "code",
   "execution_count": null,
   "id": "c08daf0f",
   "metadata": {},
   "outputs": [],
   "source": [
    "class Solution:\n",
    "    def lowestCommonAncestor(self, root: 'TreeNode', p: 'TreeNode', q: 'TreeNode') -> 'TreeNode':\n",
    "        while root:\n",
    "            if root.val < p.val and root.val < q.val: # p,q 都在 root 的右子树中\n",
    "                root = root.right # 遍历至右子节点\n",
    "            elif root.val > p.val and root.val > q.val: # p,q 都在 root 的左子树中\n",
    "                root = root.left # 遍历至左子节点\n",
    "            else: break\n",
    "        return root"
   ]
  },
  {
   "cell_type": "markdown",
   "id": "6b574837",
   "metadata": {},
   "source": [
    "##### 2.递归"
   ]
  },
  {
   "cell_type": "code",
   "execution_count": null,
   "id": "a1e02a4e",
   "metadata": {},
   "outputs": [],
   "source": [
    "class Solution:\n",
    "    def lowestCommonAncestor(self, root: 'TreeNode', p: 'TreeNode', q: 'TreeNode') -> 'TreeNode':\n",
    "        if root.val < p.val and root.val < q.val:\n",
    "            return self.lowestCommonAncestor(root.right, p, q)\n",
    "        if root.val > p.val and root.val > q.val:\n",
    "            return self.lowestCommonAncestor(root.left, p, q)\n",
    "        return root"
   ]
  },
  {
   "cell_type": "markdown",
   "id": "46b40009",
   "metadata": {},
   "source": [
    "### 236. 二叉树的最近公共祖先"
   ]
  },
  {
   "cell_type": "markdown",
   "id": "a78951c8",
   "metadata": {},
   "source": [
    "给定一个二叉树, 找到该树中两个指定节点的最近公共祖先。\n",
    "\n",
    "百度百科中最近公共祖先的定义为：“对于有根树 T 的两个节点 p、q，最近公共祖先表示为一个节点 x，满足 x 是 p、q 的祖先且 x 的深度尽可能大（一个节点也可以是它自己的祖先）。”"
   ]
  },
  {
   "cell_type": "markdown",
   "id": "eb70da3a",
   "metadata": {},
   "source": [
    "##### 1.递归"
   ]
  },
  {
   "cell_type": "code",
   "execution_count": null,
   "id": "c08ecc4a",
   "metadata": {},
   "outputs": [],
   "source": [
    "class Solution:\n",
    "    def lowestCommonAncestor(self, root: TreeNode, p: TreeNode, q: TreeNode) -> TreeNode:\n",
    "        if not root or root == p or root == q: return root\n",
    "        left = self.lowestCommonAncestor(root.left, p, q)\n",
    "        right = self.lowestCommonAncestor(root.right, p, q)\n",
    "        if not left: return right\n",
    "        if not right: return left\n",
    "        return root"
   ]
  },
  {
   "cell_type": "markdown",
   "id": "27e28bf9",
   "metadata": {},
   "source": [
    "### 239. 滑动窗口最大值"
   ]
  },
  {
   "cell_type": "markdown",
   "id": "97ad8a72",
   "metadata": {},
   "source": [
    "给你一个整数数组 nums，有一个大小为 k 的滑动窗口从数组的最左侧移动到数组的最右侧。你只可以看到在滑动窗口内的 k 个数字。滑动窗口每次只向右移动一位。\n",
    "\n",
    "返回滑动窗口中的最大值。"
   ]
  },
  {
   "cell_type": "markdown",
   "id": "7e73b9b7",
   "metadata": {},
   "source": [
    "##### 1.单调队列"
   ]
  },
  {
   "cell_type": "code",
   "execution_count": null,
   "id": "6fd4ef2a",
   "metadata": {},
   "outputs": [],
   "source": [
    "class Solution:\n",
    "    def maxSlidingWindow(self, nums: List[int], k: int) -> List[int]:\n",
    "        deque = collections.deque()\n",
    "        res, n = [], len(nums)\n",
    "        for i, j in zip(range(1 - k, n + 1 - k), range(n)):\n",
    "            # 删除 deque 中对应的 nums[i-1]\n",
    "            if i > 0 and deque[0] == nums[i - 1]:\n",
    "                deque.popleft()\n",
    "            # 保持 deque 递减\n",
    "            while deque and deque[-1] < nums[j]:\n",
    "                deque.pop()\n",
    "            deque.append(nums[j])\n",
    "            # 记录窗口最大值\n",
    "            if i >= 0:\n",
    "                res.append(deque[0])\n",
    "        return res"
   ]
  },
  {
   "cell_type": "markdown",
   "id": "b141cfc0",
   "metadata": {},
   "source": [
    "### 242. 有效的字母异位词"
   ]
  },
  {
   "cell_type": "markdown",
   "id": "f2935fe7",
   "metadata": {},
   "source": [
    "给定两个字符串 s 和 t ，编写一个函数来判断 t 是否是 s 的字母异位词。\n",
    "\n",
    "注意：若 s 和 t 中每个字符出现的次数都相同，则称 s 和 t 互为字母异位词。"
   ]
  },
  {
   "cell_type": "markdown",
   "id": "2d3f13e8",
   "metadata": {},
   "source": [
    "##### 1.哈希表"
   ]
  },
  {
   "cell_type": "code",
   "execution_count": null,
   "id": "36ca29a7",
   "metadata": {},
   "outputs": [],
   "source": [
    "class Solution:\n",
    "    def isAnagram(self, s: str, t: str) -> bool:\n",
    "        countS = collections.Counter(s)\n",
    "        countT = collections.Counter(t)\n",
    "        if countS != countT:\n",
    "            return False\n",
    "        else:\n",
    "            return True"
   ]
  },
  {
   "cell_type": "markdown",
   "id": "5bf44af2",
   "metadata": {},
   "source": [
    "### 264. 丑数 II"
   ]
  },
  {
   "cell_type": "markdown",
   "id": "601787fb",
   "metadata": {},
   "source": [
    "给你一个整数 n ，请你找出并返回第 n 个 丑数 。\n",
    "\n",
    "丑数 就是只包含质因数 2、3 和/或 5 的正整数。"
   ]
  },
  {
   "cell_type": "markdown",
   "id": "33a6fb23",
   "metadata": {},
   "source": [
    "##### 1.动态规划"
   ]
  },
  {
   "cell_type": "code",
   "execution_count": null,
   "id": "fe8076fe",
   "metadata": {},
   "outputs": [],
   "source": [
    "class Solution:\n",
    "    def nthUglyNumber(self, n: int) -> int:\n",
    "        dp, a, b, c = [1] * n, 0, 0, 0\n",
    "        for i in range(1, n):\n",
    "            n2, n3, n5 = dp[a] * 2, dp[b] * 3, dp[c] * 5\n",
    "            dp[i] = min(n2, n3, n5)\n",
    "            if dp[i] == n2: a += 1\n",
    "            if dp[i] == n3: b += 1\n",
    "            if dp[i] == n5: c += 1\n",
    "        return dp[-1]"
   ]
  },
  {
   "cell_type": "markdown",
   "id": "2388b3ec",
   "metadata": {},
   "source": [
    "### 279. 完全平方数"
   ]
  },
  {
   "cell_type": "markdown",
   "id": "473e4f81",
   "metadata": {},
   "source": [
    "给定正整数 n，找到若干个完全平方数（比如 1, 4, 9, 16, ...）使得它们的和等于 n。你需要让组成和的完全平方数的个数最少。\n",
    "\n",
    "给你一个整数 n ，返回和为 n 的完全平方数的 最少数量 。\n",
    "\n",
    "完全平方数 是一个整数，其值等于另一个整数的平方；换句话说，其值等于一个整数自乘的积。例如，1、4、9 和 16 都是完全平方数，而 3 和 11 不是。"
   ]
  },
  {
   "cell_type": "markdown",
   "id": "549889f3",
   "metadata": {},
   "source": [
    "##### 1.动态规划"
   ]
  },
  {
   "cell_type": "code",
   "execution_count": null,
   "id": "75009f20",
   "metadata": {},
   "outputs": [],
   "source": [
    "class Solution:\n",
    "    def numSquares(self, n: int) -> int:\n",
    "        dp = [i for i in range(n+1)]\n",
    "        for i in range(n+1):\n",
    "            j = 1\n",
    "            while j*j <= i:\n",
    "                dp[i] = min(dp[i], dp[i - j*j]+1)             \n",
    "                j += 1\n",
    "        return dp[-1]"
   ]
  },
  {
   "cell_type": "markdown",
   "id": "f4b7c4d1",
   "metadata": {},
   "source": [
    "### 283. 移动零"
   ]
  },
  {
   "cell_type": "markdown",
   "id": "f4a99766",
   "metadata": {},
   "source": [
    "给定一个数组 nums，编写一个函数将所有 0 移动到数组的末尾，同时保持非零元素的相对顺序。"
   ]
  },
  {
   "cell_type": "markdown",
   "id": "c1ad8da9",
   "metadata": {},
   "source": [
    "##### 1.双指针"
   ]
  },
  {
   "cell_type": "code",
   "execution_count": null,
   "id": "35e00eec",
   "metadata": {},
   "outputs": [],
   "source": [
    "class Solution:\n",
    "    def moveZeroes(self, nums: List[int]) -> None:\n",
    "        n = len(nums)\n",
    "        f, s = 0, 0 #fast&slow\n",
    "        while f < n:\n",
    "            if nums[f] != 0:\n",
    "                nums[s] = nums[f]\n",
    "                s += 1\n",
    "            f += 1\n",
    "        while s < n:\n",
    "            nums[s] = 0\n",
    "            s += 1"
   ]
  },
  {
   "cell_type": "markdown",
   "id": "a321114a",
   "metadata": {},
   "source": [
    "### 297. 二叉树的序列化与反序列化"
   ]
  },
  {
   "cell_type": "markdown",
   "id": "c07f94bd",
   "metadata": {},
   "source": [
    "序列化是将一个数据结构或者对象转换为连续的比特位的操作，进而可以将转换后的数据存储在一个文件或者内存中，同时也可以通过网络传输到另一个计算机环境，采取相反方式重构得到原数据。\n",
    "\n",
    "请设计一个算法来实现二叉树的序列化与反序列化。这里不限定你的序列 / 反序列化算法执行逻辑，你只需要保证一个二叉树可以被序列化为一个字符串并且将这个字符串反序列化为原始的树结构。\n",
    "\n",
    "提示: 输入输出格式与 LeetCode 目前使用的方式一致，详情请参阅 LeetCode 序列化二叉树的格式。你并非必须采取这种方式，你也可以采用其他的方法解决这个问题。"
   ]
  },
  {
   "cell_type": "markdown",
   "id": "96298d12",
   "metadata": {},
   "source": [
    "##### 1.层序遍历"
   ]
  },
  {
   "cell_type": "code",
   "execution_count": null,
   "id": "6f1f4a91",
   "metadata": {},
   "outputs": [],
   "source": [
    "class Codec:\n",
    "    def serialize(self, root):\n",
    "        if not root: return \"[]\"\n",
    "        queue = collections.deque()\n",
    "        queue.append(root)\n",
    "        res = []\n",
    "        while queue:\n",
    "            node = queue.popleft()\n",
    "            if node:\n",
    "                res.append(str(node.val))\n",
    "                queue.append(node.left)\n",
    "                queue.append(node.right)\n",
    "            else: res.append(\"null\")\n",
    "        return '[' + ','.join(res) + ']'\n",
    "\n",
    "    def deserialize(self, data):\n",
    "        if data == \"[]\": return\n",
    "        vals, i = data[1:-1].split(','), 1\n",
    "        root = TreeNode(int(vals[0]))\n",
    "        queue = collections.deque()\n",
    "        queue.append(root)\n",
    "        while queue:\n",
    "            node = queue.popleft()\n",
    "            if vals[i] != \"null\":\n",
    "                node.left = TreeNode(int(vals[i]))\n",
    "                queue.append(node.left)\n",
    "            i += 1\n",
    "            if vals[i] != \"null\":\n",
    "                node.right = TreeNode(int(vals[i]))\n",
    "                queue.append(node.right)\n",
    "            i += 1\n",
    "        return root"
   ]
  },
  {
   "cell_type": "markdown",
   "id": "72cde716",
   "metadata": {},
   "source": [
    "### 322. 零钱兑换"
   ]
  },
  {
   "cell_type": "markdown",
   "id": "849707be",
   "metadata": {},
   "source": [
    "给你一个整数数组 coins ，表示不同面额的硬币；以及一个整数 amount ，表示总金额。\n",
    "\n",
    "计算并返回可以凑成总金额所需的 最少的硬币个数 。如果没有任何一种硬币组合能组成总金额，返回 -1 。\n",
    "\n",
    "你可以认为每种硬币的数量是无限的。"
   ]
  },
  {
   "cell_type": "markdown",
   "id": "971f50e9",
   "metadata": {},
   "source": [
    "##### 1.广度优先搜素"
   ]
  },
  {
   "cell_type": "code",
   "execution_count": null,
   "id": "adb500f2",
   "metadata": {},
   "outputs": [],
   "source": [
    "class Solution:\n",
    "    def coinChange(self, coins: List[int], amount: int) -> int:\n",
    "        @functools.lru_cache(amount)\n",
    "        def dp(rem) -> int:\n",
    "            if rem < 0: return -1\n",
    "            if rem == 0: return 0\n",
    "            mini = int(1e9)\n",
    "            for coin in self.coins:\n",
    "                res = dp(rem - coin)\n",
    "                if res >= 0 and res < mini:\n",
    "                    mini = res + 1\n",
    "            return mini if mini < int(1e9) else -1\n",
    "\n",
    "        self.coins = coins\n",
    "        if amount < 1: return 0\n",
    "        return dp(amount)"
   ]
  },
  {
   "cell_type": "markdown",
   "id": "20b0c873",
   "metadata": {},
   "source": [
    "##### 2.动态规划"
   ]
  },
  {
   "cell_type": "code",
   "execution_count": null,
   "id": "44c5e946",
   "metadata": {},
   "outputs": [],
   "source": [
    "class Solution:\n",
    "    def coinChange(self, coins: List[int], amount: int) -> int:\n",
    "        dp = [float('inf')] * (amount + 1)\n",
    "        dp[0] = 0\n",
    "        \n",
    "        for coin in coins:\n",
    "            for x in range(coin, amount + 1):\n",
    "                dp[x] = min(dp[x], dp[x - coin] + 1)\n",
    "        return dp[amount] if dp[amount] != float('inf') else -1 "
   ]
  },
  {
   "cell_type": "markdown",
   "id": "035b0940",
   "metadata": {},
   "source": [
    "### 340. 至多包含 K 个不同字符的最长子串"
   ]
  },
  {
   "cell_type": "markdown",
   "id": "ecca0659",
   "metadata": {},
   "source": [
    "##### 1.滑动窗口法"
   ]
  },
  {
   "cell_type": "code",
   "execution_count": null,
   "id": "479ae68c",
   "metadata": {},
   "outputs": [],
   "source": [
    "def lengthOfLongestSubstringKDistinct(s: str, k: int) -> int:\n",
    "    from collections import defaultdict\n",
    "    lookup = defaultdict(int)\n",
    "    start = 0\n",
    "    end = 0\n",
    "    max_len = 0\n",
    "    counter = 0\n",
    "    while end < len(s):\n",
    "        if lookup[s[end]] == 0:\n",
    "            counter += 1\n",
    "        lookup[s[end]] += 1\n",
    "        end += 1\n",
    "        while counter > k:\n",
    "            if lookup[s[start]] == 1:\n",
    "                counter -= 1\n",
    "            lookup[s[start]] -= 1\n",
    "            start += 1\n",
    "        max_len = max(max_len, end - start)\n",
    "    return max_len"
   ]
  },
  {
   "cell_type": "markdown",
   "id": "bea6738e",
   "metadata": {},
   "source": [
    "### 343. 整数拆分"
   ]
  },
  {
   "cell_type": "markdown",
   "id": "a0152733",
   "metadata": {},
   "source": [
    "给定一个正整数 n，将其拆分为至少两个正整数的和，并使这些整数的乘积最大化。 返回你可以获得的最大乘积。"
   ]
  },
  {
   "cell_type": "markdown",
   "id": "eae25e40",
   "metadata": {},
   "source": [
    "##### 1.贪心算法"
   ]
  },
  {
   "cell_type": "code",
   "execution_count": null,
   "id": "ded25dde",
   "metadata": {},
   "outputs": [],
   "source": [
    "def cuttingRope(n):\n",
    "    small = {0:0, 1:1, 2:1, 3:2, 4:4, 5:6}\n",
    "    if n in small:\n",
    "        return small[n]\n",
    "    else:\n",
    "        i = n % 3\n",
    "        j = n // 3\n",
    "        print(j)\n",
    "        dic = {1:4, 2:6, 0:3}\n",
    "        print(dic[i])\n",
    "        res = (3**(j-1))*dic[i]\n",
    "        return res"
   ]
  },
  {
   "cell_type": "markdown",
   "id": "fda70cd3",
   "metadata": {},
   "source": [
    "### 344. 反转字符串"
   ]
  },
  {
   "cell_type": "markdown",
   "id": "d54d1ade",
   "metadata": {},
   "source": [
    "编写一个函数，其作用是将输入的字符串反转过来。输入字符串以字符数组 s 的形式给出。\n",
    "\n",
    "不要给另外的数组分配额外的空间，你必须原地修改输入数组、使用 O(1) 的额外空间解决这一问题。"
   ]
  },
  {
   "cell_type": "markdown",
   "id": "6607a21e",
   "metadata": {},
   "source": [
    "##### 1.双指针"
   ]
  },
  {
   "cell_type": "code",
   "execution_count": null,
   "id": "af4f2818",
   "metadata": {},
   "outputs": [],
   "source": [
    "class Solution:\n",
    "    def reverseString(self, s: List[str]) -> None:\n",
    "        \"\"\"\n",
    "        Do not return anything, modify s in-place instead.\n",
    "        \"\"\"\n",
    "        n = len(s)\n",
    "        l, r = 0, n-1\n",
    "        while l < r:\n",
    "            s[l], s[r] = s[r], s[l]\n",
    "            l += 1\n",
    "            r -= 1\n",
    "        return s"
   ]
  },
  {
   "cell_type": "markdown",
   "id": "37750edc",
   "metadata": {},
   "source": [
    "### 350. 两个数组的交集 II"
   ]
  },
  {
   "cell_type": "markdown",
   "id": "7e39a13a",
   "metadata": {},
   "source": [
    "给你两个整数数组 nums1 和 nums2 ，请你以数组形式返回两数组的交集。返回结果中每个元素出现的次数，应与元素在两个数组中都出现的次数一致（如果出现次数不一致，则考虑取较小值）。可以不考虑输出结果的顺序。"
   ]
  },
  {
   "cell_type": "markdown",
   "id": "2f111ba8",
   "metadata": {},
   "source": [
    "##### 1.哈希表"
   ]
  },
  {
   "cell_type": "code",
   "execution_count": null,
   "id": "b3638123",
   "metadata": {},
   "outputs": [],
   "source": [
    "class Solution:\n",
    "    def intersect(self, nums1: List[int], nums2: List[int]) -> List[int]:\n",
    "        dic = {}\n",
    "        res = []\n",
    "        for i in nums1:\n",
    "            if i not in dic: dic[i] = 1\n",
    "            else: dic[i] += 1\n",
    "        for j in nums2:\n",
    "            if j in dic and dic[j] > 0:\n",
    "                res.append(j)\n",
    "                dic[j] -= 1\n",
    "        return res"
   ]
  },
  {
   "cell_type": "code",
   "execution_count": null,
   "id": "0270ef0f",
   "metadata": {},
   "outputs": [],
   "source": [
    "class Solution:\n",
    "    def intersect(self, nums1: List[int], nums2: List[int]) -> List[int]:\n",
    "        if len(nums1) > len(nums2):\n",
    "            return self.intersect(nums2, nums1)\n",
    "        \n",
    "        m = collections.Counter()\n",
    "        for num in nums1:\n",
    "            m[num] += 1\n",
    "        \n",
    "        intersection = list()\n",
    "        for num in nums2:\n",
    "            if (count := m.get(num, 0)) > 0:\n",
    "                intersection.append(num)\n",
    "                m[num] -= 1\n",
    "                if m[num] == 0:\n",
    "                    m.pop(num)\n",
    "        \n",
    "        return intersection"
   ]
  },
  {
   "cell_type": "markdown",
   "id": "ae253cdb",
   "metadata": {},
   "source": [
    "##### 2.排序+双指针"
   ]
  },
  {
   "cell_type": "code",
   "execution_count": null,
   "id": "170c83cb",
   "metadata": {},
   "outputs": [],
   "source": [
    "class Solution:\n",
    "    def intersect(self, nums1: List[int], nums2: List[int]) -> List[int]:\n",
    "        nums1.sort()\n",
    "        nums2.sort()\n",
    "\n",
    "        length1, length2 = len(nums1), len(nums2)\n",
    "        intersection = list()\n",
    "        index1 = index2 = 0\n",
    "        while index1 < length1 and index2 < length2:\n",
    "            if nums1[index1] < nums2[index2]:\n",
    "                index1 += 1\n",
    "            elif nums1[index1] > nums2[index2]:\n",
    "                index2 += 1\n",
    "            else:\n",
    "                intersection.append(nums1[index1])\n",
    "                index1 += 1\n",
    "                index2 += 1\n",
    "        \n",
    "        return intersection"
   ]
  },
  {
   "cell_type": "markdown",
   "id": "c403e746",
   "metadata": {},
   "source": [
    "### 383. 赎金信"
   ]
  },
  {
   "cell_type": "markdown",
   "id": "348a4c10",
   "metadata": {},
   "source": [
    "给你两个字符串：ransomNote 和 magazine ，判断 ransomNote 能不能由 magazine 里面的字符构成。\n",
    "\n",
    "如果可以，返回 true ；否则返回 false 。\n",
    "\n",
    "magazine 中的每个字符只能在 ransomNote 中使用一次。"
   ]
  },
  {
   "cell_type": "markdown",
   "id": "fb7561e7",
   "metadata": {},
   "source": [
    "##### 1.哈希表"
   ]
  },
  {
   "cell_type": "code",
   "execution_count": null,
   "id": "6978bb1b",
   "metadata": {},
   "outputs": [],
   "source": [
    "class Solution:\n",
    "    def canConstruct(self, ransomNote: str, magazine: str) -> bool:\n",
    "        countR = collections.Counter(ransomNote)\n",
    "        countM = collections.Counter(magazine)\n",
    "        for i in countR:\n",
    "            if i not in countM: return False\n",
    "            if countR[i] > countM[i]:\n",
    "                return False\n",
    "        return True"
   ]
  },
  {
   "cell_type": "markdown",
   "id": "f097854f",
   "metadata": {},
   "source": [
    "### 387. 字符串中的第一个唯一字符"
   ]
  },
  {
   "cell_type": "markdown",
   "id": "4e9ba6f0",
   "metadata": {},
   "source": [
    "给定一个字符串，找到它的第一个不重复的字符，并返回它的索引。如果不存在，则返回 -1。"
   ]
  },
  {
   "cell_type": "markdown",
   "id": "db5b9bc1",
   "metadata": {},
   "source": [
    "##### 1.哈希表"
   ]
  },
  {
   "cell_type": "code",
   "execution_count": null,
   "id": "1a7ad31e",
   "metadata": {},
   "outputs": [],
   "source": [
    "class Solution:\n",
    "    def firstUniqChar(self, s: str) -> int:\n",
    "        count = collections.Counter(s)\n",
    "        for idx, val in enumerate(s):\n",
    "            if count[val] == 1:\n",
    "                return idx\n",
    "        return -1"
   ]
  },
  {
   "cell_type": "markdown",
   "id": "a5b24ae4",
   "metadata": {},
   "source": [
    "### 400. 第 N 位数字"
   ]
  },
  {
   "cell_type": "markdown",
   "id": "3248aa53",
   "metadata": {},
   "source": [
    "在无限的整数序列 1, 2, 3, 4, 5, 6, 7, 8, 9, 10, 11, ...中找到第 n 位数字。"
   ]
  },
  {
   "cell_type": "markdown",
   "id": "5fae7f6f",
   "metadata": {},
   "source": [
    "##### 1.迭代"
   ]
  },
  {
   "cell_type": "code",
   "execution_count": null,
   "id": "567f6d00",
   "metadata": {},
   "outputs": [],
   "source": [
    "class Solution:\n",
    "    def findNthDigit(self, n: int) -> int:\n",
    "        digit, start, count = 1, 1, 9\n",
    "        # 1.确定所求数位的所在数字的位数\n",
    "        while n > count: \n",
    "            n -= count\n",
    "            start *= 10\n",
    "            digit += 1\n",
    "            count = 9 * start * digit\n",
    "        # 2.确定所求数位所在的数字\n",
    "        num = start + (n - 1) // digit \n",
    "        # 3.确定所求数位在 num 的哪一数位\n",
    "        return int(str(num)[(n - 1) % digit]) "
   ]
  },
  {
   "cell_type": "markdown",
   "id": "80c4d0be",
   "metadata": {},
   "source": [
    "### 415. 字符串相加"
   ]
  },
  {
   "cell_type": "markdown",
   "id": "f60f4704",
   "metadata": {},
   "source": [
    "给定两个字符串形式的非负整数 num1 和num2 ，计算它们的和并同样以字符串形式返回。\n",
    "\n",
    "你不能使用任何內建的用于处理大整数的库（比如 BigInteger）， 也不能直接将输入的字符串转换为整数形式。"
   ]
  },
  {
   "cell_type": "markdown",
   "id": "d69fbe93",
   "metadata": {},
   "source": [
    "##### 1.模拟"
   ]
  },
  {
   "cell_type": "code",
   "execution_count": 3,
   "id": "035e2ac3",
   "metadata": {},
   "outputs": [],
   "source": [
    "def addStrings(num1, num2):\n",
    "    #i,j两个指针指向num1和num2的末尾\n",
    "    i = len(num1) - 1\n",
    "    j = len(num2) - 1\n",
    "    add = 0\n",
    "    ans = ''\n",
    "    #如果指针为负数,说明数位不对,于是补0\n",
    "    while i >= 0 or j >= 0 or add != 0:\n",
    "        x = i \n",
    "        if x >= 0:\n",
    "            x = int(num1[i])\n",
    "        else:\n",
    "            x = 0\n",
    "        \n",
    "        y = j\n",
    "        if y >= 0:\n",
    "            y = int(num2[j])\n",
    "        else:\n",
    "            y = 0\n",
    "        #使用add处理进位问题\n",
    "        result = x + y + add\n",
    "        res = str(result%10)\n",
    "        ans += res\n",
    "        add = result // 10;\n",
    "        i -= 1\n",
    "        j -= 1\n",
    "\n",
    "    ans = ans[::-1]\n",
    "    return ans"
   ]
  },
  {
   "cell_type": "markdown",
   "id": "2f9994aa",
   "metadata": {},
   "source": [
    "### 416. 分割等和子集"
   ]
  },
  {
   "cell_type": "markdown",
   "id": "e613e23f",
   "metadata": {},
   "source": [
    "给你一个 只包含正整数 的 非空 数组 nums 。请你判断是否可以将这个数组分割成两个子集，使得两个子集的元素和相等。"
   ]
  },
  {
   "cell_type": "markdown",
   "id": "20701966",
   "metadata": {},
   "source": [
    "##### 1.动态规划(0-1背包)"
   ]
  },
  {
   "cell_type": "code",
   "execution_count": null,
   "id": "ab36e568",
   "metadata": {},
   "outputs": [],
   "source": [
    "class Solution:\n",
    "    def canPartition(self, nums: List[int]) -> bool:\n",
    "        # 获取nums长度和总和\n",
    "        length = len(nums)\n",
    "        amount = sum(nums)\n",
    "        # 如果总和是奇数 则必不可能被平分\n",
    "        if amount % 2 != 0:\n",
    "            return False\n",
    "        # 目标总和\n",
    "        target = int(amount / 2)\n",
    "        # 初始化dp数组\n",
    "        dp = [False] * (target+1)\n",
    "        dp[0] = True\n",
    "\n",
    "        # 最外层循环相当于允许取越来越多的元素 允许取[0-i]\n",
    "        for i in range(1,length):\n",
    "            # 假如在循环过程中已经发现目标可达成 及时退出循环节省时间\n",
    "            if dp[target] == True:\n",
    "                return True\n",
    "            # 自顶向下动态规划计算\n",
    "            for j in range(target,nums[i]-1,-1):\n",
    "                dp[j] |= dp[j-nums[i]] \n",
    "        \n",
    "        return dp[target]"
   ]
  },
  {
   "cell_type": "markdown",
   "id": "47c1aafc",
   "metadata": {},
   "source": [
    "### 456. 132 模式"
   ]
  },
  {
   "cell_type": "markdown",
   "id": "ea9b1b1f",
   "metadata": {},
   "source": [
    "给你一个整数数组 nums ，数组中共有 n 个整数。132 模式的子序列 由三个整数 nums[i]、nums[j] 和 nums[k] 组成，并同时满足：i < j < k 和 nums[i] < nums[k] < nums[j] 。\n",
    "\n",
    "如果 nums 中存在 132 模式的子序列 ，返回 true ；否则，返回 false 。"
   ]
  },
  {
   "cell_type": "markdown",
   "id": "39008013",
   "metadata": {},
   "source": [
    "##### 1.单调栈"
   ]
  },
  {
   "cell_type": "code",
   "execution_count": null,
   "id": "dfe4bbc7",
   "metadata": {},
   "outputs": [],
   "source": [
    "class Solution:\n",
    "    def find132pattern(self, nums: List[int]) -> bool:\n",
    "        n = len(nums)\n",
    "        stack = [nums[n - 1]]\n",
    "        max_ = float('-inf')\n",
    "\n",
    "        for i in range(n-2, -1, -1):\n",
    "            if nums[i] < max_:\n",
    "                return True\n",
    "            while stack and nums[i] > stack[-1]:\n",
    "                max_ = stack[-1]\n",
    "                stack.pop()\n",
    "            if nums[i] > max_:\n",
    "                stack.append(nums[i])\n",
    "        return False"
   ]
  },
  {
   "cell_type": "markdown",
   "id": "0e0566df",
   "metadata": {},
   "source": [
    "### 496. 下一个更大元素 I"
   ]
  },
  {
   "cell_type": "markdown",
   "id": "9c35b054",
   "metadata": {},
   "source": [
    "nums1 中数字 x 的 下一个更大元素 是指 x 在 nums2 中对应位置 右侧 的 第一个 比 x 大的元素。\n",
    "\n",
    "给你两个 没有重复元素 的数组 nums1 和 nums2 ，下标从 0 开始计数，其中nums1 是 nums2 的子集。\n",
    "\n",
    "对于每个 0 <= i < nums1.length ，找出满足 nums1[i] == nums2[j] 的下标 j ，并且在 nums2 确定 nums2[j] 的 下一个更大元素 。如果不存在下一个更大元素，那么本次查询的答案是 -1 。\n",
    "\n",
    "返回一个长度为 nums1.length 的数组 ans 作为答案，满足 ans[i] 是如上所述的 下一个更大元素 。"
   ]
  },
  {
   "cell_type": "markdown",
   "id": "7cbdef2f",
   "metadata": {},
   "source": [
    "##### 1.暴力遍历"
   ]
  },
  {
   "cell_type": "code",
   "execution_count": null,
   "id": "9d4280fc",
   "metadata": {},
   "outputs": [],
   "source": [
    "class Solution:\n",
    "    def nextGreaterElement(self, nums1: List[int], nums2: List[int]) -> List[int]:\n",
    "        res = [-1]*len(nums1)\n",
    "        for idx, val1 in enumerate(nums1):\n",
    "            flag = False\n",
    "            for val2 in nums2:\n",
    "                if val1 == val2:\n",
    "                    flag = not flag\n",
    "                if flag and val2 > val1:\n",
    "                    res[idx] = val2\n",
    "                    flag =  not flag\n",
    "        return res"
   ]
  },
  {
   "cell_type": "markdown",
   "id": "84a73fcf",
   "metadata": {},
   "source": [
    "##### 2.哈希表+单调栈"
   ]
  },
  {
   "cell_type": "code",
   "execution_count": null,
   "id": "0590d601",
   "metadata": {},
   "outputs": [],
   "source": [
    "class Solution:\n",
    "    def nextGreaterElement(self, nums1: List[int], nums2: List[int]) -> List[int]:\n",
    "        res = {}\n",
    "        stack = []\n",
    "        for num in reversed(nums2):\n",
    "            while stack and num >= stack[-1]:\n",
    "                stack.pop()\n",
    "            res[num] = stack[-1] if stack else -1\n",
    "            stack.append(num)\n",
    "        return [res[num] for num in nums1]"
   ]
  },
  {
   "cell_type": "markdown",
   "id": "37f4ab36",
   "metadata": {},
   "source": [
    "### 542. 01 矩阵"
   ]
  },
  {
   "cell_type": "markdown",
   "id": "80f7dd30",
   "metadata": {},
   "source": [
    "给定一个由 0 和 1 组成的矩阵 mat ，请输出一个大小相同的矩阵，其中每一个格子是 mat 中对应位置元素到最近的 0 的距离。\n",
    "\n",
    "两个相邻元素间的距离为 1 。"
   ]
  },
  {
   "cell_type": "markdown",
   "id": "6a92ef11",
   "metadata": {},
   "source": [
    "##### 1.广度优先搜索"
   ]
  },
  {
   "cell_type": "code",
   "execution_count": null,
   "id": "fc2a571a",
   "metadata": {},
   "outputs": [],
   "source": [
    "class Solution:\n",
    "    def updateMatrix(self, matrix: List[List[int]]) -> List[List[int]]:\n",
    "        m, n = len(matrix), len(matrix[0])\n",
    "        dist = [[0] * n for _ in range(m)]\n",
    "        zeroes_pos = [(i, j) for i in range(m) for j in range(n) if matrix[i][j] == 0]\n",
    "        # 将所有的 0 添加进初始队列中\n",
    "        q = collections.deque(zeroes_pos)\n",
    "        seen = set(zeroes_pos)\n",
    "\n",
    "        # 广度优先搜索\n",
    "        while q:\n",
    "            i, j = q.popleft()\n",
    "            for ni, nj in [(i - 1, j), (i + 1, j), (i, j - 1), (i, j + 1)]:\n",
    "                if 0 <= ni < m and 0 <= nj < n and (ni, nj) not in seen:\n",
    "                    dist[ni][nj] = dist[i][j] + 1\n",
    "                    q.append((ni, nj))\n",
    "                    seen.add((ni, nj))\n",
    "        \n",
    "        return dist"
   ]
  },
  {
   "cell_type": "markdown",
   "id": "1ac29963",
   "metadata": {},
   "source": [
    "##### 2.动态规划"
   ]
  },
  {
   "cell_type": "code",
   "execution_count": null,
   "id": "b8549c48",
   "metadata": {},
   "outputs": [],
   "source": [
    "class Solution:\n",
    "    def updateMatrix(self, matrix: List[List[int]]) -> List[List[int]]:\n",
    "        m, n = len(matrix), len(matrix[0])\n",
    "        # 初始化动态规划的数组，所有的距离值都设置为一个很大的数\n",
    "        dist = [[10**9] * n for _ in range(m)]\n",
    "        # 如果 (i, j) 的元素为 0，那么距离为 0\n",
    "        for i in range(m):\n",
    "            for j in range(n):\n",
    "                if matrix[i][j] == 0:\n",
    "                    dist[i][j] = 0\n",
    "        # 只有 水平向左移动 和 竖直向上移动，注意动态规划的计算顺序\n",
    "        for i in range(m):\n",
    "            for j in range(n):\n",
    "                if i - 1 >= 0:\n",
    "                    dist[i][j] = min(dist[i][j], dist[i - 1][j] + 1)\n",
    "                if j - 1 >= 0:\n",
    "                    dist[i][j] = min(dist[i][j], dist[i][j - 1] + 1)\n",
    "        # 只有 水平向右移动 和 竖直向下移动，注意动态规划的计算顺序\n",
    "        for i in range(m - 1, -1, -1):\n",
    "            for j in range(n - 1, -1, -1):\n",
    "                if i + 1 < m:\n",
    "                    dist[i][j] = min(dist[i][j], dist[i + 1][j] + 1)\n",
    "                if j + 1 < n:\n",
    "                    dist[i][j] = min(dist[i][j], dist[i][j + 1] + 1)\n",
    "        return dist"
   ]
  },
  {
   "cell_type": "markdown",
   "id": "7f51fdbd",
   "metadata": {},
   "source": [
    "### 557. 反转字符串中的单词 III"
   ]
  },
  {
   "cell_type": "markdown",
   "id": "e7afd081",
   "metadata": {},
   "source": [
    "给定一个字符串，你需要反转字符串中每个单词的字符顺序，同时仍保留空格和单词的初始顺序。"
   ]
  },
  {
   "cell_type": "code",
   "execution_count": null,
   "id": "27033d9c",
   "metadata": {},
   "outputs": [],
   "source": [
    "class Solution:\n",
    "    def reverseWords(self, s: str) -> str:\n",
    "        List = s.split(' ')\n",
    "        res = ''\n",
    "        for i in List:\n",
    "            i = i[::-1]\n",
    "            res += i\n",
    "            res += ' '\n",
    "        return res[:-1]"
   ]
  },
  {
   "cell_type": "markdown",
   "id": "a2dee8f1",
   "metadata": {},
   "source": [
    "### 566. 重塑矩阵"
   ]
  },
  {
   "cell_type": "markdown",
   "id": "56fb9ac5",
   "metadata": {},
   "source": [
    "在 MATLAB 中，有一个非常有用的函数 reshape ，它可以将一个 m x n 矩阵重塑为另一个大小不同（r x c）的新矩阵，但保留其原始数据。\n",
    "\n",
    "给你一个由二维数组 mat 表示的 m x n 矩阵，以及两个正整数 r 和 c ，分别表示想要的重构的矩阵的行数和列数。\n",
    "\n",
    "重构后的矩阵需要将原始矩阵的所有元素以相同的 行遍历顺序 填充。\n",
    "\n",
    "如果具有给定参数的 reshape 操作是可行且合理的，则输出新的重塑矩阵；否则，输出原始矩阵。"
   ]
  },
  {
   "cell_type": "markdown",
   "id": "ee8f16d2",
   "metadata": {},
   "source": [
    "##### 1.模拟"
   ]
  },
  {
   "cell_type": "code",
   "execution_count": null,
   "id": "c24bdf4f",
   "metadata": {},
   "outputs": [],
   "source": [
    "class Solution:\n",
    "    def matrixReshape(self, mat: List[List[int]], r: int, c: int) -> List[List[int]]:\n",
    "        m, n = len(mat), len(mat[0])\n",
    "        if m*n != r*c: return mat\n",
    "        List = []\n",
    "        for i in range(m):\n",
    "            List += mat[i]\n",
    "        res = []\n",
    "        for j in range(r):\n",
    "            temp = List[j*c:(j+1)*c]\n",
    "            res.append(temp)\n",
    "        return res"
   ]
  },
  {
   "cell_type": "markdown",
   "id": "ad11780b",
   "metadata": {},
   "source": [
    "##### 2.数学公式模拟"
   ]
  },
  {
   "cell_type": "code",
   "execution_count": null,
   "id": "db84b272",
   "metadata": {},
   "outputs": [],
   "source": [
    "class Solution:\n",
    "    def matrixReshape(self, nums: List[List[int]], r: int, c: int) -> List[List[int]]:\n",
    "        m, n = len(nums), len(nums[0])\n",
    "        if m * n != r * c:\n",
    "            return nums\n",
    "        \n",
    "        ans = [[0] * c for _ in range(r)]\n",
    "        for x in range(m * n):\n",
    "            ans[x // c][x % c] = nums[x // n][x % n]\n",
    "        \n",
    "        return ans"
   ]
  },
  {
   "cell_type": "markdown",
   "id": "51da8c91",
   "metadata": {},
   "source": [
    "### 567. 字符串的排列"
   ]
  },
  {
   "cell_type": "markdown",
   "id": "8b0c1059",
   "metadata": {},
   "source": [
    "给你两个字符串 s1 和 s2 ，写一个函数来判断 s2 是否包含 s1 的排列。如果是，返回 true ；否则，返回 false 。\n",
    "\n",
    "换句话说，s1 的排列之一是 s2 的 子串 。"
   ]
  },
  {
   "cell_type": "markdown",
   "id": "4ef04b83",
   "metadata": {},
   "source": [
    "##### 1.滑动窗口+字典"
   ]
  },
  {
   "cell_type": "code",
   "execution_count": null,
   "id": "8bb8d672",
   "metadata": {},
   "outputs": [],
   "source": [
    "class Solution(object):\n",
    "    def checkInclusion(self, s1, s2):\n",
    "        counter1 = collections.Counter(s1)\n",
    "        N = len(s2)\n",
    "        left = 0\n",
    "        right = len(s1) - 1\n",
    "        counter2 = collections.Counter(s2[0:right])\n",
    "        while right < N:\n",
    "            counter2[s2[right]] += 1\n",
    "            if counter1 == counter2:\n",
    "                return True\n",
    "            counter2[s2[left]] -= 1\n",
    "            if counter2[s2[left]] == 0:\n",
    "                del counter2[s2[left]]\n",
    "            left += 1\n",
    "            right += 1\n",
    "        return False"
   ]
  },
  {
   "cell_type": "markdown",
   "id": "c09f7fa9",
   "metadata": {},
   "source": [
    "### 617. 合并二叉树"
   ]
  },
  {
   "cell_type": "markdown",
   "id": "6b24df6b",
   "metadata": {},
   "source": [
    "给定两个二叉树，想象当你将它们中的一个覆盖到另一个上时，两个二叉树的一些节点便会重叠。\n",
    "\n",
    "你需要将他们合并为一个新的二叉树。合并的规则是如果两个节点重叠，那么将他们的值相加作为节点合并后的新值，否则不为 NULL 的节点将直接作为新二叉树的节点。"
   ]
  },
  {
   "cell_type": "markdown",
   "id": "e94c580f",
   "metadata": {},
   "source": [
    "##### 1.深度优先搜索"
   ]
  },
  {
   "cell_type": "code",
   "execution_count": null,
   "id": "a15cfaef",
   "metadata": {},
   "outputs": [],
   "source": [
    "class Solution:\n",
    "    def mergeTrees(self, t1: TreeNode, t2: TreeNode) -> TreeNode:\n",
    "        if not t1:\n",
    "            return t2\n",
    "        if not t2:\n",
    "            return t1\n",
    "        \n",
    "        merged = TreeNode(t1.val + t2.val)\n",
    "        merged.left = self.mergeTrees(t1.left, t2.left)\n",
    "        merged.right = self.mergeTrees(t1.right, t2.right)\n",
    "        return merged"
   ]
  },
  {
   "cell_type": "markdown",
   "id": "fd029f39",
   "metadata": {},
   "source": [
    "##### 2.广度优先搜索"
   ]
  },
  {
   "cell_type": "code",
   "execution_count": null,
   "id": "d931b0ca",
   "metadata": {},
   "outputs": [],
   "source": [
    "class Solution:\n",
    "    def mergeTrees(self, t1: TreeNode, t2: TreeNode) -> TreeNode:\n",
    "        if not t1:\n",
    "            return t2\n",
    "        if not t2:\n",
    "            return t1\n",
    "        \n",
    "        merged = TreeNode(t1.val + t2.val)\n",
    "        queue = collections.deque([merged])\n",
    "        queue1 = collections.deque([t1])\n",
    "        queue2 = collections.deque([t2])\n",
    "\n",
    "        while queue1 and queue2:\n",
    "            node = queue.popleft()\n",
    "            node1 = queue1.popleft()\n",
    "            node2 = queue2.popleft()\n",
    "            left1, right1 = node1.left, node1.right\n",
    "            left2, right2 = node2.left, node2.right\n",
    "            if left1 or left2:\n",
    "                if left1 and left2:\n",
    "                    left = TreeNode(left1.val + left2.val)\n",
    "                    node.left = left\n",
    "                    queue.append(left)\n",
    "                    queue1.append(left1)\n",
    "                    queue2.append(left2)\n",
    "                elif left1:\n",
    "                    node.left = left1\n",
    "                elif left2:\n",
    "                    node.left = left2\n",
    "            if right1 or right2:\n",
    "                if right1 and right2:\n",
    "                    right = TreeNode(right1.val + right2.val)\n",
    "                    node.right = right\n",
    "                    queue.append(right)\n",
    "                    queue1.append(right1)\n",
    "                    queue2.append(right2)\n",
    "                elif right1:\n",
    "                    node.right = right1\n",
    "                elif right2:\n",
    "                    node.right = right2\n",
    "        \n",
    "        return merged"
   ]
  },
  {
   "cell_type": "markdown",
   "id": "14835e48",
   "metadata": {},
   "source": [
    "### 695. 岛屿的最大面积"
   ]
  },
  {
   "cell_type": "markdown",
   "id": "8c992719",
   "metadata": {},
   "source": [
    "给你一个大小为 m x n 的二进制矩阵 grid 。\n",
    "\n",
    "岛屿 是由一些相邻的 1 (代表土地) 构成的组合，这里的「相邻」要求两个 1 必须在 水平或者竖直的四个方向上 相邻。你可以假设 grid 的四个边缘都被 0（代表水）包围着。\n",
    "\n",
    "岛屿的面积是岛上值为 1 的单元格的数目。\n",
    "\n",
    "计算并返回 grid 中最大的岛屿面积。如果没有岛屿，则返回面积为 0 。"
   ]
  },
  {
   "cell_type": "markdown",
   "id": "14ff6eff",
   "metadata": {},
   "source": [
    "##### 1.广度优先搜索"
   ]
  },
  {
   "cell_type": "code",
   "execution_count": null,
   "id": "b514143c",
   "metadata": {},
   "outputs": [],
   "source": [
    "class Solution:\n",
    "    def maxAreaOfIsland(self, grid: List[List[int]]) -> int:\n",
    "        ans = 0\n",
    "        for i, l in enumerate(grid):\n",
    "            for j, n in enumerate(l):\n",
    "                cur = 0\n",
    "                q = collections.deque([(i, j)])\n",
    "                while q:\n",
    "                    cur_i, cur_j = q.popleft()\n",
    "                    if cur_i < 0 or cur_j < 0 or cur_i == len(grid) or cur_j == len(grid[0]) or grid[cur_i][cur_j] != 1:\n",
    "                        continue\n",
    "                    cur += 1\n",
    "                    grid[cur_i][cur_j] = 0\n",
    "                    for di, dj in [[0, 1], [0, -1], [1, 0], [-1, 0]]:\n",
    "                        next_i, next_j = cur_i + di, cur_j + dj\n",
    "                        q.append((next_i, next_j))\n",
    "                ans = max(ans, cur)\n",
    "        return ans"
   ]
  },
  {
   "cell_type": "markdown",
   "id": "3b839461",
   "metadata": {},
   "source": [
    "##### 2.深度优先搜索"
   ]
  },
  {
   "cell_type": "code",
   "execution_count": null,
   "id": "a24ebbb3",
   "metadata": {},
   "outputs": [],
   "source": [
    "#递归\n",
    "class Solution:\n",
    "    def dfs(self, grid, cur_i, cur_j) -> int:\n",
    "        if cur_i < 0 or cur_j < 0 or cur_i == len(grid) or cur_j == len(grid[0]) or grid[cur_i][cur_j] != 1:\n",
    "            return 0\n",
    "        grid[cur_i][cur_j] = 0\n",
    "        ans = 1\n",
    "        for di, dj in [[0, 1], [0, -1], [1, 0], [-1, 0]]:\n",
    "            next_i, next_j = cur_i + di, cur_j + dj\n",
    "            ans += self.dfs(grid, next_i, next_j)\n",
    "        return ans\n",
    "\n",
    "    def maxAreaOfIsland(self, grid: List[List[int]]) -> int:\n",
    "        ans = 0\n",
    "        for i, l in enumerate(grid):\n",
    "            for j, n in enumerate(l):\n",
    "                ans = max(self.dfs(grid, i, j), ans)\n",
    "        return ans"
   ]
  },
  {
   "cell_type": "code",
   "execution_count": null,
   "id": "97d49d81",
   "metadata": {},
   "outputs": [],
   "source": [
    "#栈\n",
    "class Solution:\n",
    "    def maxAreaOfIsland(self, grid: List[List[int]]) -> int:\n",
    "        ans = 0\n",
    "        for i, l in enumerate(grid):\n",
    "            for j, n in enumerate(l):\n",
    "                cur = 0\n",
    "                stack = [(i, j)]\n",
    "                while stack:\n",
    "                    cur_i, cur_j = stack.pop()\n",
    "                    if cur_i < 0 or cur_j < 0 or cur_i == len(grid) or cur_j == len(grid[0]) or grid[cur_i][cur_j] != 1:\n",
    "                        continue\n",
    "                    cur += 1\n",
    "                    grid[cur_i][cur_j] = 0\n",
    "                    for di, dj in [[0, 1], [0, -1], [1, 0], [-1, 0]]:\n",
    "                        next_i, next_j = cur_i + di, cur_j + dj\n",
    "                        stack.append((next_i, next_j))\n",
    "                ans = max(ans, cur)\n",
    "        return ans"
   ]
  },
  {
   "cell_type": "markdown",
   "id": "8b597f11",
   "metadata": {},
   "source": [
    "### 653. 两数之和 IV - 输入 BST"
   ]
  },
  {
   "cell_type": "markdown",
   "id": "bdcfc02b",
   "metadata": {},
   "source": [
    "给定一个二叉搜索树 root 和一个目标结果 k，如果 BST 中存在两个元素且它们的和等于给定的目标结果，则返回 true。"
   ]
  },
  {
   "cell_type": "markdown",
   "id": "310e1302",
   "metadata": {},
   "source": [
    "##### 1.深度优先搜索+哈希表"
   ]
  },
  {
   "cell_type": "code",
   "execution_count": null,
   "id": "b2cd1803",
   "metadata": {},
   "outputs": [],
   "source": [
    "class Solution:\n",
    "    def findTarget(self, root: TreeNode, k: int) -> bool:\n",
    "        us = set()\n",
    "\n",
    "        def dfs_NLR(x: TreeNode) -> bool:\n",
    "            nonlocal us\n",
    "            if x == None:\n",
    "                return False\n",
    "            if k - x.val in us:\n",
    "                return True\n",
    "            us.add(x.val)\n",
    "            return dfs_NLR(x.left) or dfs_NLR(x.right)\n",
    "        \n",
    "        return dfs_NLR(root)"
   ]
  },
  {
   "cell_type": "markdown",
   "id": "4477fd7e",
   "metadata": {},
   "source": [
    "##### 2.广度优先搜索+哈希表"
   ]
  },
  {
   "cell_type": "code",
   "execution_count": null,
   "id": "14fff628",
   "metadata": {},
   "outputs": [],
   "source": [
    "class Solution:\n",
    "    def findTarget(self, root: TreeNode, k: int) -> bool:\n",
    "        us = set()\n",
    "        q = collections.deque()\n",
    "        q.append(root)\n",
    "        while q:\n",
    "            x = q.pop()\n",
    "\n",
    "            if k - x.val in us:\n",
    "                return True\n",
    "            us.add(x.val)\n",
    "\n",
    "            if x.left:\n",
    "                q.append(x.left)\n",
    "            if x.right:\n",
    "                q.append(x.right)\n",
    "                \n",
    "        return False"
   ]
  },
  {
   "cell_type": "markdown",
   "id": "78634cdb",
   "metadata": {},
   "source": [
    "##### 3.中序遍历+双指针"
   ]
  },
  {
   "cell_type": "code",
   "execution_count": null,
   "id": "344e5cdf",
   "metadata": {},
   "outputs": [],
   "source": [
    "class Solution:\n",
    "    def findTarget(self, root: Optional[TreeNode], k: int) -> bool:\n",
    "        stack = []\n",
    "        List = []\n",
    "\n",
    "        while stack or root:\n",
    "            while root:\n",
    "                stack.append(root)\n",
    "                root = root.left\n",
    "            root = stack.pop()\n",
    "            List.append(root.val)\n",
    "            root = root.right\n",
    "        \n",
    "        l, r = 0, len(List)-1\n",
    "        while l < r:\n",
    "            if List[l] + List[r] == k:\n",
    "                return True\n",
    "            elif List[l] + List[r] < k:\n",
    "                l += 1\n",
    "            else:\n",
    "                r -= 1\n",
    "        return False"
   ]
  },
  {
   "cell_type": "markdown",
   "id": "4fdbb67e",
   "metadata": {},
   "source": [
    "### 700. 二叉搜索树中的搜索"
   ]
  },
  {
   "cell_type": "markdown",
   "id": "3b02b6ee",
   "metadata": {},
   "source": [
    "给定二叉搜索树（BST）的根节点和一个值。 你需要在BST中找到节点值等于给定值的节点。 返回以该节点为根的子树。 如果节点不存在，则返回 NULL。"
   ]
  },
  {
   "cell_type": "markdown",
   "id": "a4198e4e",
   "metadata": {},
   "source": [
    "##### 1.递归"
   ]
  },
  {
   "cell_type": "code",
   "execution_count": null,
   "id": "58a6aa00",
   "metadata": {},
   "outputs": [],
   "source": [
    "class Solution:\n",
    "    def searchBST(self, root: TreeNode, val: int) -> TreeNode:\n",
    "        if root is None:\n",
    "            return None\n",
    "        if val == root.val:\n",
    "            return root\n",
    "        return self.searchBST(root.left if val < root.val else root.right, val)"
   ]
  },
  {
   "cell_type": "markdown",
   "id": "d9dea557",
   "metadata": {},
   "source": [
    "##### 2.迭代"
   ]
  },
  {
   "cell_type": "code",
   "execution_count": null,
   "id": "34322b13",
   "metadata": {},
   "outputs": [],
   "source": [
    "class Solution:\n",
    "    def searchBST(self, root: TreeNode, val: int) -> TreeNode:\n",
    "        while root:\n",
    "            if val == root.val:\n",
    "                return root\n",
    "            root = root.left if val < root.val else root.right\n",
    "        return None"
   ]
  },
  {
   "cell_type": "markdown",
   "id": "022b6ca0",
   "metadata": {},
   "source": [
    "### 701. 二叉搜索树中的插入操作"
   ]
  },
  {
   "cell_type": "markdown",
   "id": "98da0254",
   "metadata": {},
   "source": [
    "给定二叉搜索树（BST）的根节点和要插入树中的值，将值插入二叉搜索树。 返回插入后二叉搜索树的根节点。 输入数据 保证 ，新值和原始二叉搜索树中的任意节点值都不同。\n",
    "\n",
    "注意，可能存在多种有效的插入方式，只要树在插入后仍保持为二叉搜索树即可。 你可以返回 任意有效的结果 。"
   ]
  },
  {
   "cell_type": "markdown",
   "id": "b5212a8b",
   "metadata": {},
   "source": [
    "##### 1.模拟"
   ]
  },
  {
   "cell_type": "code",
   "execution_count": null,
   "id": "8cd145bb",
   "metadata": {},
   "outputs": [],
   "source": [
    "class Solution:\n",
    "    def insertIntoBST(self, root: TreeNode, val: int) -> TreeNode:\n",
    "        if not root:\n",
    "            return TreeNode(val)\n",
    "        \n",
    "        pos = root\n",
    "        while pos:\n",
    "            if val < pos.val:\n",
    "                if not pos.left:\n",
    "                    pos.left = TreeNode(val)\n",
    "                    break\n",
    "                else:\n",
    "                    pos = pos.left\n",
    "            else:\n",
    "                if not pos.right:\n",
    "                    pos.right = TreeNode(val)\n",
    "                    break\n",
    "                else:\n",
    "                    pos = pos.right\n",
    "        \n",
    "        return root"
   ]
  },
  {
   "cell_type": "markdown",
   "id": "2aeb19ad",
   "metadata": {},
   "source": [
    "### 733. 图像渲染"
   ]
  },
  {
   "cell_type": "markdown",
   "id": "09b309ba",
   "metadata": {},
   "source": [
    "有一幅以二维整数数组表示的图画，每一个整数表示该图画的像素值大小，数值在 0 到 65535 之间。\n",
    "\n",
    "给你一个坐标 (sr, sc) 表示图像渲染开始的像素值（行 ，列）和一个新的颜色值 newColor，让你重新上色这幅图像。\n",
    "\n",
    "为了完成上色工作，从初始坐标开始，记录初始坐标的上下左右四个方向上像素值与初始坐标相同的相连像素点，接着再记录这四个方向上符合条件的像素点与他们对应四个方向上像素值与初始坐标相同的相连像素点，……，重复该过程。将所有有记录的像素点的颜色值改为新的颜色值。\n",
    "\n",
    "最后返回经过上色渲染后的图像。"
   ]
  },
  {
   "cell_type": "markdown",
   "id": "59708320",
   "metadata": {},
   "source": [
    "##### 1.广度优先搜索"
   ]
  },
  {
   "cell_type": "code",
   "execution_count": null,
   "id": "3164a9ce",
   "metadata": {},
   "outputs": [],
   "source": [
    "class Solution:\n",
    "    def floodFill(self, image: List[List[int]], sr: int, sc: int, newColor: int) -> List[List[int]]:\n",
    "        # 起始颜色和目标颜色相同，则直接返回原图\n",
    "        if newColor == image[sr][sc]:\n",
    "            return image\n",
    "        # 设置四个方向偏移量\n",
    "        directions = {(1, 0), (-1, 0), (0, 1), (0, -1)}\n",
    "        # 构造一个队列，先把起始点放进去\n",
    "        queue = collections.deque()\n",
    "        queue.append((sr, sc))\n",
    "        # 记录初始颜色\n",
    "        original = image[sr][sc]\n",
    "        # 当队列不为空                              \n",
    "        while queue:\n",
    "            # 取出队列的点并染色\n",
    "            point = queue.popleft()\n",
    "            image[point[0]][point[1]] = newColor\n",
    "            # 遍历四个方向\n",
    "            for direction in directions:\n",
    "                # 新点是(new_i,new_j)\n",
    "                new_i = point[0] + direction[0]\n",
    "                new_j = point[1] + direction[1]\n",
    "                # 如果这个点在定义域内并且它和原来的颜色相同\n",
    "                if 0 <= new_i < len(image) and 0 <= new_j < len(image[0]) and image[new_i][new_j] == original:\n",
    "                    queue.append((new_i, new_j))\n",
    "        return image"
   ]
  },
  {
   "cell_type": "markdown",
   "id": "a402abc6",
   "metadata": {},
   "source": [
    "##### 2.深度优先搜索"
   ]
  },
  {
   "cell_type": "code",
   "execution_count": null,
   "id": "a2e268e9",
   "metadata": {},
   "outputs": [],
   "source": [
    "#栈\n",
    "class Solution:\n",
    "    def floodFill(self, image: List[List[int]], sr: int, sc: int, newColor: int) -> List[List[int]]:\n",
    "        if newColor == image[sr][sc]: return image\n",
    "        stack, old = [(sr, sc)], image[sr][sc]\n",
    "        while stack:\n",
    "            point = stack.pop()\n",
    "            image[point[0]][point[1]] = newColor\n",
    "            for new_i, new_j in zip((point[0], point[0], point[0] + 1, point[0] - 1), (point[1] + 1, point[1] - 1, point[1], point[1])): \n",
    "                if 0 <= new_i < len(image) and 0 <= new_j < len(image[0]) and image[new_i][new_j] == old:\n",
    "                    stack.append((new_i, new_j))\n",
    "        return image"
   ]
  },
  {
   "cell_type": "code",
   "execution_count": null,
   "id": "8c7ff326",
   "metadata": {},
   "outputs": [],
   "source": [
    "#递归\n",
    "class Solution:\n",
    "    def floodFill(self, image: List[List[int]], sr: int, sc: int, newColor: int) -> List[List[int]]:\n",
    "        if image[sr][sc] != newColor:\n",
    "            old, image[sr][sc] = image[sr][sc], newColor\n",
    "            for i, j in zip((sr, sr+1, sr, sr-1), (sc+1, sc, sc-1, sc)):\n",
    "                if 0 <= i < len(image) and 0 <= j < len(image[0]) and image[i][j] == old:\n",
    "                    self.floodFill(image, i, j, newColor)\n",
    "        return image"
   ]
  },
  {
   "cell_type": "markdown",
   "id": "4b26fa0f",
   "metadata": {},
   "source": [
    "### 784. 字母大小写全排列"
   ]
  },
  {
   "cell_type": "markdown",
   "id": "29405b90",
   "metadata": {},
   "source": [
    "给定一个字符串S，通过将字符串S中的每个字母转变大小写，我们可以获得一个新的字符串。返回所有可能得到的字符串集合。"
   ]
  },
  {
   "cell_type": "markdown",
   "id": "501fc172",
   "metadata": {},
   "source": [
    "##### 1.递归"
   ]
  },
  {
   "cell_type": "code",
   "execution_count": null,
   "id": "3766a03b",
   "metadata": {},
   "outputs": [],
   "source": [
    "class Solution(object):\n",
    "    def letterCasePermutation(self, S):\n",
    "        ans = [[]]\n",
    "\n",
    "        for char in S:\n",
    "            n = len(ans)\n",
    "            if char.isalpha():\n",
    "                for i in range(n):\n",
    "                    ans.append(ans[i][:])\n",
    "                    ans[i].append(char.lower())\n",
    "                    ans[n+i].append(char.upper())\n",
    "            else:\n",
    "                for i in range(n):\n",
    "                    ans[i].append(char)\n",
    "\n",
    "        return [''.join(i) for i in ans]"
   ]
  },
  {
   "cell_type": "markdown",
   "id": "b4a48fe8",
   "metadata": {},
   "source": [
    "##### 2.遍历"
   ]
  },
  {
   "cell_type": "code",
   "execution_count": null,
   "id": "fa895bc5",
   "metadata": {},
   "outputs": [],
   "source": [
    "class Solution(object):\n",
    "    def letterCasePermutation(self, s):\n",
    "        result = [s]\n",
    "        for i in range(len(s)):\n",
    "            if s[i]>='a' and s[i]<='z':  \n",
    "                length = len(result)  # 遍历到length，就是上一个字符串对应的长度\n",
    "                for j in range(length):\n",
    "                    result.append(result[j][0:i]+s[i].upper()+result[j][i+1:])\n",
    "            elif s[i]>='A' and s[i]<='Z':\n",
    "                length = len(result)\n",
    "                for j in range(length):\n",
    "                    result.append(result[j][0:i]+s[i].lower()+result[j][i+1:])\n",
    "        return result"
   ]
  },
  {
   "cell_type": "code",
   "execution_count": null,
   "id": "04648ee0",
   "metadata": {},
   "outputs": [],
   "source": [
    "class Solution:\n",
    "    def letterCasePermutation(self, s: str) -> List[str]:\n",
    "        s, res = s.lower(), []\n",
    "\n",
    "        def search(prefix: str, suffix: str) -> None:\n",
    "            if not suffix:\n",
    "                results.append(prefix)\n",
    "            else:\n",
    "                search(prefix + suffix[0], suffix[1:])\n",
    "                if suffix[0].isalpha():\n",
    "                    search(prefix + suffix[0].upper(), suffix[1:])\n",
    "\n",
    "        search(\"\", s)\n",
    "        return res"
   ]
  },
  {
   "cell_type": "markdown",
   "id": "73d91522",
   "metadata": {},
   "source": [
    "### 876. 链表的中间结点"
   ]
  },
  {
   "cell_type": "markdown",
   "id": "6caf172c",
   "metadata": {},
   "source": [
    "给定一个头结点为 head 的非空单链表，返回链表的中间结点。\n",
    "\n",
    "如果有两个中间结点，则返回第二个中间结点。"
   ]
  },
  {
   "cell_type": "markdown",
   "id": "020ccd8b",
   "metadata": {},
   "source": [
    "##### 1.快慢指针"
   ]
  },
  {
   "cell_type": "code",
   "execution_count": null,
   "id": "c9214420",
   "metadata": {},
   "outputs": [],
   "source": [
    "class Solution:\n",
    "    def middleNode(self, head: ListNode) -> ListNode:\n",
    "        fast = head\n",
    "        slow = head\n",
    "        move = 0\n",
    "        while fast:\n",
    "            fast = fast.next\n",
    "            move += 1\n",
    "            if move == 2:\n",
    "                slow = slow.next\n",
    "                move = 0\n",
    "        return slow"
   ]
  },
  {
   "cell_type": "markdown",
   "id": "728a6382",
   "metadata": {},
   "source": [
    "### 946. 验证栈序列"
   ]
  },
  {
   "cell_type": "markdown",
   "id": "4d0059bc",
   "metadata": {},
   "source": [
    "给定 pushed 和 popped 两个序列，每个序列中的 值都不重复，只有当它们可能是在最初空栈上进行的推入 push 和弹出 pop 操作序列的结果时，返回 true；否则，返回 false 。"
   ]
  },
  {
   "cell_type": "markdown",
   "id": "ae7f4566",
   "metadata": {},
   "source": [
    "##### 1.辅助栈"
   ]
  },
  {
   "cell_type": "code",
   "execution_count": null,
   "id": "dfbeb4cf",
   "metadata": {},
   "outputs": [],
   "source": [
    "def validateStackSequences(pushed, popped):\n",
    "    stack, i = [], 0\n",
    "    for num in pushed:\n",
    "        stack.append(num)\n",
    "        while stack and stack[-1] == popped[i]:\n",
    "            stack.pop()\n",
    "            i += 1\n",
    "    return not stack"
   ]
  },
  {
   "cell_type": "markdown",
   "id": "e7f9b0d4",
   "metadata": {},
   "source": [
    "### 994. 腐烂的橘子"
   ]
  },
  {
   "cell_type": "markdown",
   "id": "e2b2b01c",
   "metadata": {},
   "source": [
    "在给定的网格中，每个单元格可以有以下三个值之一：\n",
    "\n",
    "值 0 代表空单元格；\n",
    "值 1 代表新鲜橘子；\n",
    "值 2 代表腐烂的橘子。\n",
    "每分钟，任何与腐烂的橘子（在 4 个正方向上）相邻的新鲜橘子都会腐烂。\n",
    "\n",
    "返回直到单元格中没有新鲜橘子为止所必须经过的最小分钟数。如果不可能，返回 -1。"
   ]
  },
  {
   "cell_type": "markdown",
   "id": "293bacff",
   "metadata": {},
   "source": [
    "##### 1.广源广度优先搜索"
   ]
  },
  {
   "cell_type": "code",
   "execution_count": null,
   "id": "59d338d2",
   "metadata": {},
   "outputs": [],
   "source": [
    "class Solution:\n",
    "    def orangesRotting(self, grid: List[List[int]]) -> int:\n",
    "        m, n = len(grid), len(grid[0])\n",
    "\n",
    "        # queue - all starting cells with rotting oranges\n",
    "        queue = collections.deque()\n",
    "        for i, row in enumerate(grid):\n",
    "            for j, val in enumerate(row):\n",
    "                if val == 2:\n",
    "                    queue.append((i, j, 0))\n",
    "\n",
    "        def neighbors(i, j) -> (int, int):\n",
    "            for nr, nc in ((i - 1, j), (i, j - 1), (i + 1, j), (i, j + 1)):\n",
    "                if 0 <= ni < m and 0 <= nj < n:\n",
    "                    yield ni, nj\n",
    "\n",
    "        time = 0\n",
    "        while queue:\n",
    "            i, j, time = queue.popleft()\n",
    "            for ni, nj in neighbors(i, j):\n",
    "                if grid[ni][nj] == 1:\n",
    "                    grid[ni][nj] = 2\n",
    "                    queue.append((ni, nj, time + 1))\n",
    "\n",
    "        if any(1 in row for row in grid):\n",
    "            return -1\n",
    "        return time"
   ]
  },
  {
   "cell_type": "code",
   "execution_count": null,
   "id": "4d127254",
   "metadata": {},
   "outputs": [],
   "source": [
    "class Solution:\n",
    "    def orangesRotting(self, grid: List[List[int]]) -> int:\n",
    "        m = len(grid)\n",
    "        n = len(grid[0])\n",
    "        time = 0\n",
    "        zero = [(i,j) for i in range(m) for j in range(n) if grid[i][j] == 0]\n",
    "        if len(zero) == m*n:\n",
    "            return 0\n",
    "        two = [(i,j) for i in range(m) for j in range(n) if grid[i][j] == 2]\n",
    "        seen = set(zero+two)\n",
    "        q = collections.deque(two)\n",
    "\n",
    "        while q:\n",
    "            for _ in range(len(q)):\n",
    "                i, j = q.popleft()\n",
    "                for ni, nj in zip((i,i,i-1,i+1),(j-1,j+1,j,j)):\n",
    "                    if 0<=ni<m and 0<=nj<n and (ni,nj) not in seen:\n",
    "                        q.append((ni,nj))\n",
    "                        seen.add((ni,nj))\n",
    "            time += 1\n",
    "        if len(seen) < m*n:\n",
    "            return -1\n",
    "        return time-1"
   ]
  }
 ],
 "metadata": {
  "kernelspec": {
   "display_name": "Python 3 (ipykernel)",
   "language": "python",
   "name": "python3"
  },
  "language_info": {
   "codemirror_mode": {
    "name": "ipython",
    "version": 3
   },
   "file_extension": ".py",
   "mimetype": "text/x-python",
   "name": "python",
   "nbconvert_exporter": "python",
   "pygments_lexer": "ipython3",
   "version": "3.9.7"
  },
  "setTimeout": 120,
  "toc": {
   "base_numbering": 1,
   "nav_menu": {},
   "number_sections": false,
   "sideBar": true,
   "skip_h1_title": false,
   "title_cell": "Table of Contents",
   "title_sidebar": "Contents",
   "toc_cell": false,
   "toc_position": {
    "height": "calc(100% - 180px)",
    "left": "10px",
    "top": "150px",
    "width": "171.449px"
   },
   "toc_section_display": true,
   "toc_window_display": true
  }
 },
 "nbformat": 4,
 "nbformat_minor": 5
}
