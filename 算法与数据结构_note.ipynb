{
 "cells": [
  {
   "cell_type": "markdown",
   "id": "56dd73d7",
   "metadata": {
    "toc": true
   },
   "source": [
    "<h1>Table of Contents<span class=\"tocSkip\"></span></h1>\n",
    "<div class=\"toc\"><ul class=\"toc-item\"><li><span><a href=\"#ACM\" data-toc-modified-id=\"ACM-1\"><span class=\"toc-item-num\">1&nbsp;&nbsp;</span>ACM</a></span></li><li><span><a href=\"#算法\" data-toc-modified-id=\"算法-2\"><span class=\"toc-item-num\">2&nbsp;&nbsp;</span>算法</a></span><ul class=\"toc-item\"><li><span><a href=\"#深度优先搜索DFS\" data-toc-modified-id=\"深度优先搜索DFS-2.1\"><span class=\"toc-item-num\">2.1&nbsp;&nbsp;</span>深度优先搜索DFS</a></span><ul class=\"toc-item\"><li><span><a href=\"#题目\" data-toc-modified-id=\"题目-2.1.1\"><span class=\"toc-item-num\">2.1.1&nbsp;&nbsp;</span>题目</a></span></li></ul></li><li><span><a href=\"#回溯\" data-toc-modified-id=\"回溯-2.2\"><span class=\"toc-item-num\">2.2&nbsp;&nbsp;</span>回溯</a></span><ul class=\"toc-item\"><li><span><a href=\"#题目\" data-toc-modified-id=\"题目-2.2.1\"><span class=\"toc-item-num\">2.2.1&nbsp;&nbsp;</span>题目</a></span></li></ul></li><li><span><a href=\"#广度优先搜索BFS\" data-toc-modified-id=\"广度优先搜索BFS-2.3\"><span class=\"toc-item-num\">2.3&nbsp;&nbsp;</span>广度优先搜索BFS</a></span><ul class=\"toc-item\"><li><span><a href=\"#题目\" data-toc-modified-id=\"题目-2.3.1\"><span class=\"toc-item-num\">2.3.1&nbsp;&nbsp;</span>题目</a></span></li></ul></li><li><span><a href=\"#动态规划dp\" data-toc-modified-id=\"动态规划dp-2.4\"><span class=\"toc-item-num\">2.4&nbsp;&nbsp;</span>动态规划dp</a></span><ul class=\"toc-item\"><li><span><a href=\"#题目\" data-toc-modified-id=\"题目-2.4.1\"><span class=\"toc-item-num\">2.4.1&nbsp;&nbsp;</span>题目</a></span></li></ul></li><li><span><a href=\"#位运算\" data-toc-modified-id=\"位运算-2.5\"><span class=\"toc-item-num\">2.5&nbsp;&nbsp;</span>位运算</a></span><ul class=\"toc-item\"><li><span><a href=\"#题目\" data-toc-modified-id=\"题目-2.5.1\"><span class=\"toc-item-num\">2.5.1&nbsp;&nbsp;</span>题目</a></span></li></ul></li><li><span><a href=\"#双指针\" data-toc-modified-id=\"双指针-2.6\"><span class=\"toc-item-num\">2.6&nbsp;&nbsp;</span>双指针</a></span></li></ul></li><li><span><a href=\"#数据结构\" data-toc-modified-id=\"数据结构-3\"><span class=\"toc-item-num\">3&nbsp;&nbsp;</span>数据结构</a></span><ul class=\"toc-item\"><li><span><a href=\"#链表\" data-toc-modified-id=\"链表-3.1\"><span class=\"toc-item-num\">3.1&nbsp;&nbsp;</span>链表</a></span><ul class=\"toc-item\"><li><span><a href=\"#题目\" data-toc-modified-id=\"题目-3.1.1\"><span class=\"toc-item-num\">3.1.1&nbsp;&nbsp;</span>题目</a></span></li></ul></li><li><span><a href=\"#二叉树\" data-toc-modified-id=\"二叉树-3.2\"><span class=\"toc-item-num\">3.2&nbsp;&nbsp;</span>二叉树</a></span><ul class=\"toc-item\"><li><span><a href=\"#题目\" data-toc-modified-id=\"题目-3.2.1\"><span class=\"toc-item-num\">3.2.1&nbsp;&nbsp;</span>题目</a></span></li></ul></li><li><span><a href=\"#栈&amp;队列\" data-toc-modified-id=\"栈&amp;队列-3.3\"><span class=\"toc-item-num\">3.3&nbsp;&nbsp;</span>栈&amp;队列</a></span></li></ul></li><li><span><a href=\"#排序\" data-toc-modified-id=\"排序-4\"><span class=\"toc-item-num\">4&nbsp;&nbsp;</span>排序</a></span><ul class=\"toc-item\"><li><span><a href=\"#冒泡排序\" data-toc-modified-id=\"冒泡排序-4.1\"><span class=\"toc-item-num\">4.1&nbsp;&nbsp;</span>冒泡排序</a></span></li><li><span><a href=\"#选择排序\" data-toc-modified-id=\"选择排序-4.2\"><span class=\"toc-item-num\">4.2&nbsp;&nbsp;</span>选择排序</a></span></li><li><span><a href=\"#插入排序\" data-toc-modified-id=\"插入排序-4.3\"><span class=\"toc-item-num\">4.3&nbsp;&nbsp;</span>插入排序</a></span></li><li><span><a href=\"#希尔排序\" data-toc-modified-id=\"希尔排序-4.4\"><span class=\"toc-item-num\">4.4&nbsp;&nbsp;</span>希尔排序</a></span></li><li><span><a href=\"#归并排序\" data-toc-modified-id=\"归并排序-4.5\"><span class=\"toc-item-num\">4.5&nbsp;&nbsp;</span>归并排序</a></span></li><li><span><a href=\"#快速排序\" data-toc-modified-id=\"快速排序-4.6\"><span class=\"toc-item-num\">4.6&nbsp;&nbsp;</span>快速排序</a></span></li><li><span><a href=\"#堆排序\" data-toc-modified-id=\"堆排序-4.7\"><span class=\"toc-item-num\">4.7&nbsp;&nbsp;</span>堆排序</a></span></li><li><span><a href=\"#计数排序\" data-toc-modified-id=\"计数排序-4.8\"><span class=\"toc-item-num\">4.8&nbsp;&nbsp;</span>计数排序</a></span></li><li><span><a href=\"#桶排序\" data-toc-modified-id=\"桶排序-4.9\"><span class=\"toc-item-num\">4.9&nbsp;&nbsp;</span>桶排序</a></span></li><li><span><a href=\"#基数排序\" data-toc-modified-id=\"基数排序-4.10\"><span class=\"toc-item-num\">4.10&nbsp;&nbsp;</span>基数排序</a></span></li></ul></li><li><span><a href=\"#查找\" data-toc-modified-id=\"查找-5\"><span class=\"toc-item-num\">5&nbsp;&nbsp;</span>查找</a></span><ul class=\"toc-item\"><li><span><a href=\"#二分查找\" data-toc-modified-id=\"二分查找-5.1\"><span class=\"toc-item-num\">5.1&nbsp;&nbsp;</span>二分查找</a></span></li><li><span><a href=\"#二叉查找树\" data-toc-modified-id=\"二叉查找树-5.2\"><span class=\"toc-item-num\">5.2&nbsp;&nbsp;</span>二叉查找树</a></span></li></ul></li></ul></div>"
   ]
  },
  {
   "cell_type": "markdown",
   "id": "b9ca8efd",
   "metadata": {},
   "source": [
    "# ACM"
   ]
  },
  {
   "cell_type": "code",
   "execution_count": 6,
   "id": "be0cb47c",
   "metadata": {},
   "outputs": [
    {
     "name": "stdout",
     "output_type": "stream",
     "text": [
      "3 4 5\n"
     ]
    },
    {
     "data": {
      "text/plain": [
       "[3, 4, 5]"
      ]
     },
     "execution_count": 6,
     "metadata": {},
     "output_type": "execute_result"
    }
   ],
   "source": [
    "# 列表(一行输入)\n",
    "list_ = list(map(int, input().strip().split()))\n",
    "list_"
   ]
  },
  {
   "cell_type": "code",
   "execution_count": 6,
   "id": "53d1ed1b",
   "metadata": {},
   "outputs": [
    {
     "name": "stdout",
     "output_type": "stream",
     "text": [
      "1\n",
      "2 3 4\n"
     ]
    },
    {
     "data": {
      "text/plain": [
       "[2, 3, 4]"
      ]
     },
     "execution_count": 6,
     "metadata": {},
     "output_type": "execute_result"
    }
   ],
   "source": [
    "# 多个/多维列表（多行输入）\n",
    "n = int(input())\n",
    "while n > 0:\n",
    "    n -= 1\n",
    "    list_ = list(map(int, input().strip().split()))\n",
    "list_"
   ]
  },
  {
   "cell_type": "code",
   "execution_count": 8,
   "id": "f79e7d39",
   "metadata": {},
   "outputs": [
    {
     "name": "stdout",
     "output_type": "stream",
     "text": [
      "[[1,2,3],[4,5,6]]\n",
      "[[1,2,3],[4,5,6]]\n"
     ]
    }
   ],
   "source": [
    "# 输入矩阵\n",
    "matrix = eval(input())\n",
    "\n",
    "# 输出矩阵（字符串形式）\n",
    "print(str(matrix).replace(' ', ''))"
   ]
  },
  {
   "cell_type": "code",
   "execution_count": null,
   "id": "ed6c249c",
   "metadata": {},
   "outputs": [],
   "source": [
    "# 连续输入\n",
    "while True:\n",
    "    try:\n",
    "        temp = input()\n",
    "        while():\n",
    "\n",
    "    except:\n",
    "        break"
   ]
  },
  {
   "cell_type": "code",
   "execution_count": null,
   "id": "0d13a8fe",
   "metadata": {},
   "outputs": [],
   "source": []
  },
  {
   "cell_type": "markdown",
   "id": "a5c27073",
   "metadata": {},
   "source": [
    "# 算法"
   ]
  },
  {
   "cell_type": "markdown",
   "id": "a32d77c1",
   "metadata": {},
   "source": [
    "## 深度优先搜索DFS"
   ]
  },
  {
   "cell_type": "markdown",
   "id": "3815edd9",
   "metadata": {},
   "source": [
    "### 题目"
   ]
  },
  {
   "cell_type": "code",
   "execution_count": null,
   "id": "88ea7883",
   "metadata": {},
   "outputs": [],
   "source": [
    "# 矩阵中匹配单词\n",
    "def exist(board, word):\n",
    "    m = len(board)\n",
    "    n = len(board[0])\n",
    "    def dfs(i,j,k):\n",
    "        if not 0<=i<m or not 0<=j<n or board[i][j]!=word[k]:\n",
    "            return False\n",
    "        if k == len(word) -1:\n",
    "            return True\n",
    "        board[i][j] = ''\n",
    "        res = dfs(i+1, j, k+1) or dfs(i-1,j,k+1) or dfs(i,j+1,k+1) or dfs(i,j-1,k+1)\n",
    "        board[i][j] = word[k]\n",
    "        return res\n",
    "    \n",
    "    for i in range(m):\n",
    "        for j in range(n):\n",
    "            if dfs(i,j,0):\n",
    "                return True\n",
    "    return False"
   ]
  },
  {
   "cell_type": "code",
   "execution_count": 24,
   "id": "48f82fcb",
   "metadata": {},
   "outputs": [
    {
     "data": {
      "text/plain": [
       "dict_items([('a', 1), ('b', 2)])"
      ]
     },
     "execution_count": 24,
     "metadata": {},
     "output_type": "execute_result"
    }
   ],
   "source": [
    "dic = {'a':1,'b':2}\n",
    "dic.items()"
   ]
  },
  {
   "cell_type": "code",
   "execution_count": null,
   "id": "5f5cbdba",
   "metadata": {},
   "outputs": [],
   "source": [
    "# 岛屿数量\n",
    "class Solution:\n",
    "    def solve(self , grid: List[List[str]]) -> int:\n",
    "        # write code here\n",
    "        m = len(grid)\n",
    "        n = len(grid[0])\n",
    "        \n",
    "        def dfs(i, j):\n",
    "            if not 0<=i<m or not 0<=j<n or grid[i][j]=='0':\n",
    "                return \n",
    "            grid[i][j]='0'\n",
    "            dfs(i+1,j)\n",
    "            dfs(i-1,j)\n",
    "            dfs(i,j+1)\n",
    "            dfs(i,j-1)\n",
    "        count = 0\n",
    "        for i in range(m):\n",
    "            for j in range(n):\n",
    "                if grid[i][j]=='1':\n",
    "                    dfs(i,j)\n",
    "                    count += 1\n",
    "        \n",
    "        return count"
   ]
  },
  {
   "cell_type": "code",
   "execution_count": null,
   "id": "32cb400f",
   "metadata": {},
   "outputs": [],
   "source": [
    "# 图像渲染\n",
    "#1.栈\n",
    "class Solution:\n",
    "    def floodFill(self, image: List[List[int]], sr: int, sc: int, newColor: int) -> List[List[int]]:\n",
    "        if newColor == image[sr][sc]: return image\n",
    "        stack, old = [(sr, sc)], image[sr][sc]\n",
    "        while stack:\n",
    "            point = stack.pop()\n",
    "            image[point[0]][point[1]] = newColor\n",
    "            for new_i, new_j in zip((point[0], point[0], point[0] + 1, point[0] - 1), (point[1] + 1, point[1] - 1, point[1], point[1])): \n",
    "                if 0 <= new_i < len(image) and 0 <= new_j < len(image[0]) and image[new_i][new_j] == old:\n",
    "                    stack.append((new_i, new_j))\n",
    "        return image\n",
    "\n",
    "#递归\n",
    "class Solution:\n",
    "    def floodFill(self, image: List[List[int]], sr: int, sc: int, newColor: int) -> List[List[int]]:\n",
    "        if image[sr][sc] != newColor:\n",
    "            old, image[sr][sc] = image[sr][sc], newColor\n",
    "            for i, j in zip((sr, sr+1, sr, sr-1), (sc+1, sc, sc-1, sc)):\n",
    "                if 0 <= i < len(image) and 0 <= j < len(image[0]) and image[i][j] == old:\n",
    "                    self.floodFill(image, i, j, newColor)\n",
    "        return image"
   ]
  },
  {
   "cell_type": "code",
   "execution_count": null,
   "id": "66aaca94",
   "metadata": {},
   "outputs": [],
   "source": [
    "# 生成括号\n",
    "class Solution:\n",
    "    def generateParenthesis(self, n: int) -> List[str]:\n",
    "        res = []\n",
    "        temp = ''\n",
    "        def dfs(temp, left, right):\n",
    "            if left==0 and right==0:\n",
    "                res.append(temp)\n",
    "                return\n",
    "            if right < left:\n",
    "                return\n",
    "            if left > 0:\n",
    "                dfs(temp + '(', left - 1, right)\n",
    "            if right > 0:\n",
    "                dfs(temp + ')', left, right - 1)\n",
    "        dfs(temp, n ,n)\n",
    "        return res"
   ]
  },
  {
   "cell_type": "markdown",
   "id": "b2bcd136",
   "metadata": {},
   "source": [
    "## 回溯"
   ]
  },
  {
   "cell_type": "markdown",
   "id": "2c14f9d1",
   "metadata": {},
   "source": [
    "### 题目"
   ]
  },
  {
   "cell_type": "code",
   "execution_count": null,
   "id": "ec62c950",
   "metadata": {},
   "outputs": [],
   "source": [
    "# 组合1～n中所有可能的k个数的组合。\n",
    "class Solution:\n",
    "    def combine(self, n: int, k: int) -> List[List[int]]:\n",
    "        def dfs(k, start):\n",
    "            if k == 0:\n",
    "                res.append(temp[:])\n",
    "                return\n",
    "            for i in range(start, n-k+2):\n",
    "                temp.append(i)\n",
    "                dfs(k-1, i+1)\n",
    "                temp.pop()\n",
    "        temp = []\n",
    "        res = []\n",
    "        dfs(k, 1)\n",
    "        return res"
   ]
  },
  {
   "cell_type": "code",
   "execution_count": null,
   "id": "4a5d60ed",
   "metadata": {},
   "outputs": [],
   "source": [
    "# 全排列\n",
    "class Solution:\n",
    "    def permute(self , num: List[int]) -> List[List[int]]:\n",
    "        # write code here\n",
    "        def dfs(x):\n",
    "            if x == n:\n",
    "                res.append(num[:])\n",
    "            for i in range(x,n):\n",
    "                num[x], num[i] = num[i], num[x]\n",
    "                dfs(x+1)\n",
    "                num[x], num[i] = num[i], num[x]\n",
    "            \n",
    "        n = len(num)\n",
    "        res = []\n",
    "        dfs(0)\n",
    "        return res"
   ]
  },
  {
   "cell_type": "code",
   "execution_count": null,
   "id": "ed846f0a",
   "metadata": {},
   "outputs": [],
   "source": [
    "# N皇后\n",
    "class Solution:\n",
    "    def Nqueen(self , n: int) -> int:\n",
    "        # write code here\n",
    "        def backtrack(col, ld, ru):\n",
    "            if len(col) == n:\n",
    "                self.res += 1\n",
    "                return\n",
    "            i = len(col)\n",
    "            for j in range(n):\n",
    "                #左斜右斜都不能同时有两个棋子\n",
    "                if j not in col and i-j not in ld and i+j not in ru:\n",
    "                    backtrack(col + [j], ld + [i-j], ru + [i+j])\n",
    "        self.res = 0\n",
    "        backtrack([],[],[])\n",
    "        return self.res"
   ]
  },
  {
   "cell_type": "markdown",
   "id": "cb7aa97f",
   "metadata": {},
   "source": [
    "## 广度优先搜索BFS"
   ]
  },
  {
   "cell_type": "markdown",
   "id": "87862500",
   "metadata": {},
   "source": [
    "### 题目"
   ]
  },
  {
   "cell_type": "code",
   "execution_count": null,
   "id": "c489906a",
   "metadata": {},
   "outputs": [],
   "source": [
    "# 图像渲染\n",
    "class Solution:\n",
    "    def floodFill(self, image: List[List[int]], sr: int, sc: int, newColor: int) -> List[List[int]]:\n",
    "        if newColor == image[sr][sc]:\n",
    "            return image\n",
    "        directions = {(1, 0), (-1, 0), (0, 1), (0, -1)}\n",
    "        queue = collections.deque()\n",
    "        queue.append((sr, sc))\n",
    "        original = image[sr][sc]                           \n",
    "        while queue:\n",
    "            point = queue.popleft()\n",
    "            image[point[0]][point[1]] = newColor\n",
    "            for direction in directions:\n",
    "                new_i = point[0] + direction[0]\n",
    "                new_j = point[1] + direction[1]\n",
    "                if 0 <= new_i < len(image) and 0 <= new_j < len(image[0]) and image[new_i][new_j] == original:\n",
    "                    queue.append((new_i, new_j))\n",
    "        return image"
   ]
  },
  {
   "cell_type": "markdown",
   "id": "2f360475",
   "metadata": {},
   "source": [
    "## 动态规划dp"
   ]
  },
  {
   "cell_type": "markdown",
   "id": "cbf30a06",
   "metadata": {},
   "source": [
    "### 题目"
   ]
  },
  {
   "cell_type": "code",
   "execution_count": null,
   "id": "2fdcb609",
   "metadata": {},
   "outputs": [],
   "source": [
    "#剪长为n的绳子为m段，乘积最大\n",
    "def cuttingRope(n: int) -> int:\n",
    "    dp = [0]*(n+1)\n",
    "    for i in range(2,n+1):\n",
    "        for j in range(i):\n",
    "            dp[i] = max(dp[i],j*(i-j),j*dp[i-j])\n",
    "    return dp[n]"
   ]
  },
  {
   "cell_type": "code",
   "execution_count": null,
   "id": "d3a894cd",
   "metadata": {},
   "outputs": [],
   "source": [
    "# 兑换零钱\n",
    "class Solution:\n",
    "    def minMoney(self , arr: List[int], aim: int) -> int:\n",
    "        # write code here\n",
    "        aim_list = [aim+1]*(aim+1)\n",
    "        aim_list[0] = 0\n",
    "        for i in range(1,aim+1,1):\n",
    "            for j in arr:\n",
    "                if j <= i:\n",
    "                    aim_list[i] = min(aim_list[i],aim_list[i-j]+1)\n",
    "        if aim_list[aim] == (aim + 1):\n",
    "            return -1\n",
    "        else:\n",
    "            return aim_list[aim]"
   ]
  },
  {
   "cell_type": "code",
   "execution_count": null,
   "id": "1fcac71d",
   "metadata": {},
   "outputs": [],
   "source": [
    "# 最长上升子序列\n",
    "class Solution:\n",
    "    def LIS(self , arr: List[int]) -> int:\n",
    "        # write code here\n",
    "        if not arr:\n",
    "            return 0\n",
    "        dp = [1 for _ in range(len(arr))]\n",
    "        for i in range(len(arr)):\n",
    "            for j in range(i):\n",
    "                if arr[i] > arr[j]:\n",
    "                    dp[i] = max(dp[i], dp[j] + 1)\n",
    "        return max(dp)"
   ]
  },
  {
   "cell_type": "code",
   "execution_count": null,
   "id": "1cb70532",
   "metadata": {
    "code_folding": []
   },
   "outputs": [],
   "source": [
    "# 最长公共子序列\n",
    "class Solution:\n",
    "    def LCS(self , s1 , s2 ):\n",
    "        # write code here\n",
    "        m, n = len(s1), len(s2)\n",
    "        dp = [[0]*(n+1) for _ in range(m+1)]\n",
    "        for i in range(1, m+1):\n",
    "            for j in range(1, n+1):\n",
    "                if s1[i-1] == s2[j-1]:\n",
    "                    dp[i][j] = dp[i-1][j-1] + 1\n",
    "                else:\n",
    "                    dp[i][j] = max(dp[i][j-1], dp[i-1][j])\n",
    "        ans = ''\n",
    "        i, j = m, n\n",
    "        while i >= 1 and j >= 1:\n",
    "            if s1[i-1] == s2[j-1]:\n",
    "                ans += s1[i-1]\n",
    "                i -= 1\n",
    "                j -= 1\n",
    "            elif dp[i][j-1] > dp[i-1][j]:\n",
    "                j -= 1\n",
    "            else: i -= 1\n",
    "        if not ans: return -1\n",
    "        return ans[::-1]"
   ]
  },
  {
   "cell_type": "code",
   "execution_count": null,
   "id": "8db39024",
   "metadata": {},
   "outputs": [],
   "source": [
    "# 完全平方数\n",
    "class Solution:\n",
    "    def numSquares(self, n: int) -> int:\n",
    "        dp = [i for i in range(n+1)]\n",
    "        for i in range(n+1):\n",
    "            j = 1\n",
    "            while j*j <= i:\n",
    "                dp[i] = min(dp[i], dp[i - j*j]+1)             \n",
    "                j += 1\n",
    "        return dp[-1]"
   ]
  },
  {
   "cell_type": "code",
   "execution_count": null,
   "id": "e48f0795",
   "metadata": {},
   "outputs": [],
   "source": [
    "# 零钱兑换\n",
    "class Solution:\n",
    "    def coinChange(self, coins: List[int], amount: int) -> int:\n",
    "        dp = [float('inf')] * (amount + 1)\n",
    "        dp[0] = 0\n",
    "\n",
    "        for coin in coins:\n",
    "            for x in range(coin, amount + 1):\n",
    "                dp[x] = min(dp[x], dp[x - coin] + 1)\n",
    "        return dp[amount] if dp[amount] != float('inf') else -1"
   ]
  },
  {
   "cell_type": "code",
   "execution_count": null,
   "id": "e8a35ab0",
   "metadata": {},
   "outputs": [],
   "source": [
    "# 丑数\n",
    "class Solution:\n",
    "    def nthUglyNumber(self, n: int) -> int:\n",
    "        dp, a, b, c = [1] * n, 0, 0, 0\n",
    "        for i in range(1, n):\n",
    "            n2, n3, n5 = dp[a] * 2, dp[b] * 3, dp[c] * 5\n",
    "            dp[i] = min(n2, n3, n5)\n",
    "            if dp[i] == n2: a += 1\n",
    "            if dp[i] == n3: b += 1\n",
    "            if dp[i] == n5: c += 1\n",
    "        return dp[-1]"
   ]
  },
  {
   "cell_type": "markdown",
   "id": "06f86f4d",
   "metadata": {},
   "source": [
    "## 位运算"
   ]
  },
  {
   "cell_type": "markdown",
   "id": "2908037d",
   "metadata": {},
   "source": [
    "- 添0，乘2 <<\n",
    "- 去末位，除2 >>\n",
    "- 末位是否为1 n&1\n",
    "    - 10101&1 -> True\n",
    "- 将最低位为1的改为0 n&(n-1)\n",
    "    - 10100&10011 -> 10000\n",
    "- 同位不同值求和 a^b\n",
    "    - 101^1010 -> 1111 (5+10=15)\n",
    "- 同位同值求和 a&b<<1\n",
    "    - 100&101<<1 -> 1000 "
   ]
  },
  {
   "cell_type": "markdown",
   "id": "31543265",
   "metadata": {},
   "source": [
    "### 题目"
   ]
  },
  {
   "cell_type": "code",
   "execution_count": null,
   "id": "ee82bda6",
   "metadata": {},
   "outputs": [],
   "source": [
    "# 数组中只出现一次的两个数字\n",
    "class Solution:\n",
    "    def FindNumsAppearOnce(self , array: List[int]) -> List[int]:\n",
    "        # write code here\n",
    "        res = 0\n",
    "        for i in array:\n",
    "            res ^= i\n",
    "        diff = 1\n",
    "        while diff & res == 0:\n",
    "            diff <<= 1\n",
    "        a, b = 0, 0\n",
    "        for i in array:\n",
    "            if i & diff == 0:\n",
    "                a ^= i\n",
    "            else:\n",
    "                b ^= i\n",
    "        return sorted([a,b])"
   ]
  },
  {
   "cell_type": "code",
   "execution_count": null,
   "id": "cba184fc",
   "metadata": {},
   "outputs": [],
   "source": [
    "# 数值的整数次方\n",
    "class Solution:\n",
    "    def myPow(self, x: float, n: int) -> float:\n",
    "        if x == 0: return 0\n",
    "        res = 1\n",
    "        if n < 0:\n",
    "            x, n = 1 / x, -n\n",
    "        while n:\n",
    "            if n & 1:\n",
    "                res *= x\n",
    "            x *= x\n",
    "            n >>= 1\n",
    "        return res"
   ]
  },
  {
   "cell_type": "markdown",
   "id": "2cfeed33",
   "metadata": {},
   "source": [
    "## 双指针"
   ]
  },
  {
   "cell_type": "code",
   "execution_count": null,
   "id": "878df846",
   "metadata": {},
   "outputs": [],
   "source": [
    "# 三数之和\n",
    "class Solution:\n",
    "    def threeSum(self, nums):\n",
    "        n = len(nums)\n",
    "        nums.sort()\n",
    "        ans = list()\n",
    "        for first in range(n):\n",
    "            if first > 0 and nums[first] == nums[first - 1]:\n",
    "                continue\n",
    "            third = n - 1\n",
    "            target = -nums[first]\n",
    "            for second in range(first + 1, n):\n",
    "                if second > first + 1 and nums[second] == nums[second - 1]:\n",
    "                    continue\n",
    "                while second < third and nums[second] + nums[third] > target:\n",
    "                    third -= 1\n",
    "                if second == third:\n",
    "                    break\n",
    "                if nums[second] + nums[third] == target:\n",
    "                    ans.append([nums[first], nums[second], nums[third]])\n",
    "        return ans"
   ]
  },
  {
   "cell_type": "code",
   "execution_count": null,
   "id": "e1355a10",
   "metadata": {},
   "outputs": [],
   "source": [
    "# 无重复字符的最长子串\n",
    "class Solution:\n",
    "    def lengthOfLongestSubstring(self, s: str) -> int:\n",
    "        exist = set()\n",
    "        r = -1\n",
    "        res = 0\n",
    "        n = len(s)\n",
    "        for l in range(n):\n",
    "            if l != 0:\n",
    "                exist.remove(s[l-1])\n",
    "            while r+1 < n and s[r+1] not in exist:\n",
    "                exist.add(s[r+1])\n",
    "                r += 1\n",
    "            res = max(res, r-l+1)\n",
    "        return res"
   ]
  },
  {
   "cell_type": "code",
   "execution_count": null,
   "id": "ae0872f5",
   "metadata": {},
   "outputs": [],
   "source": [
    "# 最长回文子串\n",
    "class Solution:\n",
    "    def getLongestPalindrome(self, A, n):\n",
    "        # write code here\n",
    "        count= []\n",
    "        flag = 1\n",
    "        for i in range(1, n+1):\n",
    "            for j in range(0, n-i+1):\n",
    "                if A[j:i+j] == A[j:i+j][::-1]:\n",
    "                    flag = i\n",
    "                else:continue\n",
    "            count.append(flag)\n",
    "        return max(count)"
   ]
  },
  {
   "cell_type": "code",
   "execution_count": null,
   "id": "12c31650",
   "metadata": {},
   "outputs": [],
   "source": [
    "# 下一个排列\n",
    "class Solution:\n",
    "    def nextPermutation(self, nums: List[int]) -> None:\n",
    "        i = len(nums) - 2\n",
    "        while i >= 0 and nums[i] >= nums[i + 1]:\n",
    "            i -= 1\n",
    "        if i >= 0:\n",
    "            j = len(nums) - 1\n",
    "            while j >= 0 and nums[i] >= nums[j]:\n",
    "                j -= 1\n",
    "            nums[i], nums[j] = nums[j], nums[i]\n",
    "        \n",
    "        left, right = i + 1, len(nums) - 1\n",
    "        while left < right:\n",
    "            nums[left], nums[right] = nums[right], nums[left]\n",
    "            left += 1\n",
    "            right -= 1"
   ]
  },
  {
   "cell_type": "markdown",
   "id": "88a8508e",
   "metadata": {},
   "source": [
    "# 数据结构"
   ]
  },
  {
   "cell_type": "markdown",
   "id": "f675c68f",
   "metadata": {},
   "source": [
    "## 链表"
   ]
  },
  {
   "cell_type": "code",
   "execution_count": null,
   "id": "d70b7e52",
   "metadata": {},
   "outputs": [],
   "source": [
    "# 单向链表\n",
    "class ListNode:\n",
    "    def __init__(self, x):\n",
    "        self.val = x\n",
    "        self.next = None"
   ]
  },
  {
   "cell_type": "code",
   "execution_count": null,
   "id": "aea907a1",
   "metadata": {},
   "outputs": [],
   "source": [
    "# 双向链表\n",
    "class Node:\n",
    "    def __init__(self, x):\n",
    "        self.val = x\n",
    "        self.next = None\n",
    "        self.prev = None"
   ]
  },
  {
   "cell_type": "markdown",
   "id": "5dca7fc2",
   "metadata": {},
   "source": [
    "### 题目"
   ]
  },
  {
   "cell_type": "code",
   "execution_count": null,
   "id": "04514ff4",
   "metadata": {},
   "outputs": [],
   "source": [
    "# 反转链表\n",
    "class Solution:\n",
    "    def ReverseList(self , head: ListNode) -> ListNode:\n",
    "        # write code here\n",
    "        if not head: return \n",
    "        if not head.next: return head\n",
    "        \n",
    "        left, mid, right = head, head, head.next\n",
    "        left.next = None\n",
    "        while right.next:\n",
    "            mid = right\n",
    "            right = right.next\n",
    "            mid.next = left\n",
    "            left = mid\n",
    "        mid = right\n",
    "        mid.next = left\n",
    "        return right"
   ]
  },
  {
   "cell_type": "code",
   "execution_count": null,
   "id": "c7a48580",
   "metadata": {},
   "outputs": [],
   "source": [
    "# 链表中的节点每k个一组翻转\n",
    "class Solution:\n",
    "    def reverseKGroup(self , head: ListNode, k: int) -> ListNode:\n",
    "        Test=ListNode(-1)\n",
    "        Test.next=head\n",
    "        lend=Test.next\n",
    "        i=0\n",
    "        while lend:\n",
    "            i=i+1\n",
    "            lend=lend.next\n",
    "        print(i)\n",
    "        pre = Test\n",
    "        cur = pre.next\n",
    "        while head and i>=k:\n",
    "            for j in range(k-1):\n",
    "                next = cur.next\n",
    "                cur.next = next.next\n",
    "                next.next = pre.next\n",
    "                pre.next = next\n",
    "            i = i-k\n",
    "            pre = cur             \n",
    "            cur = pre.next\n",
    "        return Test.next"
   ]
  },
  {
   "cell_type": "code",
   "execution_count": null,
   "id": "df9b1599",
   "metadata": {},
   "outputs": [],
   "source": [
    "# 链表中环的入口结点\n",
    "class Solution:\n",
    "    def EntryNodeOfLoop(self, pHead):\n",
    "        # write code here\n",
    "        fast, slow = pHead, pHead\n",
    "        while True:\n",
    "            if not fast or not fast.next:\n",
    "                return None\n",
    "            slow = slow.next\n",
    "            fast = fast.next.next\n",
    "            if slow == fast:\n",
    "                break\n",
    "        fast = pHead\n",
    "        while True:\n",
    "            if slow == fast:\n",
    "                return fast\n",
    "            slow = slow.next\n",
    "            fast = fast.next"
   ]
  },
  {
   "cell_type": "code",
   "execution_count": null,
   "id": "4327f840",
   "metadata": {},
   "outputs": [],
   "source": [
    "# 删除有序链表中重复的元素-II\n",
    "class Solution:\n",
    "    def deleteDuplicates(self , head: ListNode) -> ListNode:\n",
    "        # write code here\n",
    "        res = ListNode(-1)\n",
    "        res.next = head\n",
    "        pre = res\n",
    "        p = res.next\n",
    "        while p and p.next:\n",
    "            if p.val != p.next.val:\n",
    "                pre = p\n",
    "                p = p.next\n",
    "            else:\n",
    "                while p.val==p.next.val:\n",
    "                    p = p.next\n",
    "                    if not p.next:\n",
    "                        break\n",
    "                pre.next = p.next\n",
    "                p = p.next\n",
    "        return res.next"
   ]
  },
  {
   "cell_type": "code",
   "execution_count": null,
   "id": "d050d44a",
   "metadata": {},
   "outputs": [],
   "source": [
    "# LRU缓存\n",
    "class ListNode:\n",
    "    def __init__(self, key=None, value=None):\n",
    "        self.key = key\n",
    "        self.value = value\n",
    "        self.prev = None\n",
    "        self.next = None\n",
    "\n",
    "class LRUCache:\n",
    "    def __init__(self, capacity: int):\n",
    "        self.capacity = capacity\n",
    "        self.hashmap = {}\n",
    "        # 新建两个节点 head 和 tail\n",
    "        self.head = ListNode()\n",
    "        self.tail = ListNode()\n",
    "        # 初始化链表为 head <-> tail\n",
    "        self.head.next = self.tail\n",
    "        self.tail.prev = self.head\n",
    "\n",
    "    def move_node_to_tail(self, key):\n",
    "        node = self.hashmap[key]\n",
    "        node.prev.next = node.next\n",
    "        node.next.prev = node.prev\n",
    "        node.prev = self.tail.prev\n",
    "        node.next = self.tail\n",
    "        self.tail.prev.next = node\n",
    "        self.tail.prev = node\n",
    "\n",
    "    def get(self, key: int) -> int:\n",
    "        if key in self.hashmap:\n",
    "            self.move_node_to_tail(key)\n",
    "        res = self.hashmap.get(key, -1)\n",
    "        if res == -1:\n",
    "            return res\n",
    "        else:\n",
    "            return res.value\n",
    "\n",
    "    def put(self, key: int, value: int) -> None:\n",
    "        if key in self.hashmap:\n",
    "            self.hashmap[key].value = value\n",
    "            self.move_node_to_tail(key)\n",
    "        else:\n",
    "            if len(self.hashmap) == self.capacity:\n",
    "                self.hashmap.pop(self.head.next.key)\n",
    "                self.head.next = self.head.next.next\n",
    "                self.head.next.prev = self.head\n",
    "            new = ListNode(key, value)\n",
    "            self.hashmap[key] = new\n",
    "            new.prev = self.tail.prev\n",
    "            new.next = self.tail\n",
    "            self.tail.prev.next = new\n",
    "            self.tail.prev = new"
   ]
  },
  {
   "cell_type": "markdown",
   "id": "f3ea497b",
   "metadata": {},
   "source": [
    "## 二叉树"
   ]
  },
  {
   "cell_type": "code",
   "execution_count": null,
   "id": "185b5e1a",
   "metadata": {},
   "outputs": [],
   "source": [
    "class TreeNode:\n",
    "    def __init__(self, x):\n",
    "        self.val = x\n",
    "        self.left = None\n",
    "        self.right = None"
   ]
  },
  {
   "cell_type": "code",
   "execution_count": null,
   "id": "c8ddbc4f",
   "metadata": {},
   "outputs": [],
   "source": [
    "# 前序遍历\n",
    "def preOrder(root: TreeNode):\n",
    "    if not root: return []\n",
    "    return [root.val] + preOrder(root.left) + preOrder(root.right)"
   ]
  },
  {
   "cell_type": "code",
   "execution_count": null,
   "id": "df8e647e",
   "metadata": {
    "code_folding": []
   },
   "outputs": [],
   "source": [
    "# 中序遍历\n",
    "def inOrder(root: TreeNode):\n",
    "    if not root: return []\n",
    "    return inOrder(root.left) + [root.val] + inOrder(root.right)"
   ]
  },
  {
   "cell_type": "code",
   "execution_count": null,
   "id": "20ada287",
   "metadata": {},
   "outputs": [],
   "source": [
    "# 后序遍历\n",
    "def postOrder(root: TreeNode):\n",
    "    if not root: return []\n",
    "    return postOrder(root.left) + postOrder(root.right) + [root.val]"
   ]
  },
  {
   "cell_type": "code",
   "execution_count": null,
   "id": "05117a37",
   "metadata": {
    "code_folding": []
   },
   "outputs": [],
   "source": [
    "# 层序遍历\n",
    "def levelOrder(root: TreeNode):\n",
    "    if not root: return []\n",
    "    res, queue = [], collections.deque()\n",
    "    queue.append(root)\n",
    "    while queue:\n",
    "        temp = []\n",
    "        for _ in range(len(queue)):\n",
    "            node = queue.popleft()\n",
    "            temp.append(node.val)\n",
    "            if node.left: queue.append(node.left)\n",
    "            if node.right: queue.append(node.right)\n",
    "        res.append(temp)\n",
    "    return res"
   ]
  },
  {
   "cell_type": "markdown",
   "id": "49a8e207",
   "metadata": {},
   "source": [
    "### 题目"
   ]
  },
  {
   "cell_type": "code",
   "execution_count": null,
   "id": "f4e1455a",
   "metadata": {},
   "outputs": [],
   "source": [
    "# 实现二叉树先序，中序和后序遍历\n",
    "class Solution:\n",
    "    def threeOrders(self , root: TreeNode) -> List[List[int]]:\n",
    "        # write code here\n",
    "        self.res = [[],[],[]]\n",
    "        self.dfs(root)\n",
    "        return self.res\n",
    "    def dfs(self,root):\n",
    "        if not root: return\n",
    "        self.res[0].append(root.val)\n",
    "        self.dfs(root.left)\n",
    "        self.res[1].append(root.val)\n",
    "        self.dfs(root.right)\n",
    "        self.res[2].append(root.val)\n",
    "        return"
   ]
  },
  {
   "cell_type": "code",
   "execution_count": null,
   "id": "c1576f91",
   "metadata": {},
   "outputs": [],
   "source": [
    "# 二叉树中和为某一值的路径\n",
    "class Solution:\n",
    "    def pathSum(self, root: TreeNode, target: int) -> List[List[int]]:\n",
    "        res, path = [], []\n",
    "        def recur(root, tar):\n",
    "            if not root: return\n",
    "            path.append(root.val)\n",
    "            tar -= root.val\n",
    "            if tar == 0 and not root.left and not root.right:\n",
    "                res.append(path[:])#这里是复制了一个列表到res，不然path改变res也会改变\n",
    "            recur(root.left, tar)\n",
    "            recur(root.right, tar)\n",
    "            path.pop()\n",
    "\n",
    "        recur(root, target)\n",
    "        return res"
   ]
  },
  {
   "cell_type": "code",
   "execution_count": null,
   "id": "ea245b59",
   "metadata": {},
   "outputs": [],
   "source": [
    "# 二叉搜索树与双向链表\n",
    "class Solution:\n",
    "    def Convert(self , pRootOfTree):\n",
    "        # write code here\n",
    "        if not pRootOfTree: return\n",
    "        self.list_ = []\n",
    "        self.inOrder(pRootOfTree)\n",
    "        for idx, node in enumerate(self.list_[:-1]):\n",
    "            node.right = self.list_[idx+1]\n",
    "            self.list_[idx+1].left = node\n",
    "        return self.list_[0]\n",
    "     \n",
    "    def inOrder(self, root):\n",
    "        if not root: return\n",
    "        self.inOrder(root.left)\n",
    "        self.list_.append(root)\n",
    "        self.inOrder(root.right)"
   ]
  },
  {
   "cell_type": "code",
   "execution_count": null,
   "id": "8eb84fae",
   "metadata": {},
   "outputs": [],
   "source": [
    "# 在二叉树中找到两个节点的最近公共祖先\n",
    "class Solution:\n",
    "    def lowestCommonAncestor(self , root: TreeNode, o1: int, o2: int) -> int:\n",
    "        # write code here\n",
    "        def dfs(root, o1, o2):\n",
    "            if not root:\n",
    "                return root\n",
    "            if root.val==o1 or root.val==o2:\n",
    "                return root\n",
    "            left = dfs(root.left, o1, o2)\n",
    "            right = dfs(root.right, o1, o2)\n",
    "            if not left:\n",
    "                return right\n",
    "            if not right:\n",
    "                return left\n",
    "            return root\n",
    "        return dfs(root, o1, o2).val"
   ]
  },
  {
   "cell_type": "code",
   "execution_count": null,
   "id": "104533bc",
   "metadata": {},
   "outputs": [],
   "source": [
    "#根据前序遍历和中序遍历重建二叉树\n",
    "def buildTree(preorder: List[int], inorder: List[int]) -> TreeNode:\n",
    "    def recur(root, left, right):\n",
    "        if left > right: return           #!!!!!\n",
    "        node = TreeNode(preorder[root])                       \n",
    "        i = dic[preorder[root]]                               \n",
    "        node.left = recur(root + 1, left, i - 1)              \n",
    "        node.right = recur(i - left + root + 1, i + 1, right) \n",
    "        return node                                           \n",
    "\n",
    "    dic, preorder = {}, preorder\n",
    "    for i in range(len(inorder)):\n",
    "        dic[inorder[i]] = i\n",
    "    return recur(0, 0, len(inorder) - 1)"
   ]
  },
  {
   "cell_type": "markdown",
   "id": "bb19c7cd",
   "metadata": {},
   "source": [
    "## 栈&队列"
   ]
  },
  {
   "cell_type": "code",
   "execution_count": null,
   "id": "6e127050",
   "metadata": {},
   "outputs": [],
   "source": [
    "# 有效括号序列\n",
    "class Solution:\n",
    "    def isValid(self , s: str) -> bool:\n",
    "        # write code here\n",
    "        dic = {'(': ')', '[': ']', '{': '}', '1': '1'}\n",
    "        stack = ['1']\n",
    "        for i in s:\n",
    "            if i in dic:\n",
    "                stack.append(i)\n",
    "            elif dic[stack.pop()] != i:\n",
    "                return False\n",
    "        return len(stack) == 1"
   ]
  },
  {
   "cell_type": "markdown",
   "id": "e50a6da7",
   "metadata": {},
   "source": [
    "# 排序"
   ]
  },
  {
   "cell_type": "markdown",
   "id": "a6b721b5",
   "metadata": {},
   "source": [
    "## 冒泡排序"
   ]
  },
  {
   "cell_type": "code",
   "execution_count": 28,
   "id": "78436a45",
   "metadata": {},
   "outputs": [],
   "source": [
    "def bubblesort(nums):\n",
    "    n = len(nums)\n",
    "    for i in range(1, n):\n",
    "        for j in range(n-i):\n",
    "            if nums[j] > nums[j+1]:\n",
    "                nums[j], nums[j+1] = nums[j+1], nums[j]\n",
    "                \n",
    "    return nums"
   ]
  },
  {
   "cell_type": "markdown",
   "id": "7e6c70c3",
   "metadata": {},
   "source": [
    "## 选择排序"
   ]
  },
  {
   "cell_type": "code",
   "execution_count": null,
   "id": "4941f6d2",
   "metadata": {},
   "outputs": [],
   "source": [
    "def selectionsort(nums):\n",
    "    n = len(nums)\n",
    "    for i in range(n-1):\n",
    "        minIndex = i\n",
    "        for j in range(i+1, n):\n",
    "            if nums[j] < nums[minIndex]:\n",
    "                minIndex = j\n",
    "        if i != minIndex:\n",
    "            nums[i], nums[minIndex] = nums[minIndex], nums[i]\n",
    "            \n",
    "    return nums"
   ]
  },
  {
   "cell_type": "markdown",
   "id": "b6347772",
   "metadata": {},
   "source": [
    "## 插入排序"
   ]
  },
  {
   "cell_type": "code",
   "execution_count": null,
   "id": "a57dd38d",
   "metadata": {},
   "outputs": [],
   "source": [
    "def insertionsort(nums):\n",
    "    n = len(nums)\n",
    "    for i in range(n):\n",
    "        preIndex = i-1\n",
    "        cur = nums[i]\n",
    "        while preIndex >= 0 and nums[preIndex] > cur:\n",
    "            nums[preIndex+1] = nums[preIndex]\n",
    "            preIndex -= 1\n",
    "        nums[preIndex+1] = cur\n",
    "        \n",
    "    return nums"
   ]
  },
  {
   "cell_type": "markdown",
   "id": "375884d6",
   "metadata": {},
   "source": [
    "## 希尔排序"
   ]
  },
  {
   "cell_type": "code",
   "execution_count": null,
   "id": "bb635c40",
   "metadata": {},
   "outputs": [],
   "source": [
    "def shellsort(nums):\n",
    "    n = len(nums)\n",
    "    gap = 1\n",
    "    while(gap < n/3):\n",
    "        gap = gap*3 + 1\n",
    "    while gap > 0:\n",
    "        for i in range(gap, n):\n",
    "            temp = nums[i]\n",
    "            j = i - gap\n",
    "            while j >= 0 and nums[j] > temp:\n",
    "                nums[j+gap] = nums[j]\n",
    "                j -= gap\n",
    "            nums[j+gap] = temp\n",
    "        gap = gap // 3\n",
    "        \n",
    "    return nums"
   ]
  },
  {
   "cell_type": "markdown",
   "id": "ede8916b",
   "metadata": {},
   "source": [
    "## 归并排序"
   ]
  },
  {
   "cell_type": "code",
   "execution_count": null,
   "id": "29c537cd",
   "metadata": {},
   "outputs": [],
   "source": [
    "def merge(left,right):\n",
    "    result = []\n",
    "    while left and right:\n",
    "        if left[0] <= right[0]:\n",
    "            result.append(left.pop(0))\n",
    "        else:\n",
    "            result.append(right.pop(0))\n",
    "    while left:\n",
    "        result.append(left.pop(0))\n",
    "    while right:\n",
    "        result.append(right.pop(0))\n",
    "        \n",
    "    return result\n",
    "\n",
    "def mergesort(nums):\n",
    "    n = len(nums)\n",
    "    if(n < 2):\n",
    "        return nums\n",
    "    mid = n // 2\n",
    "    left, right = nums[0:mid], nums[mid:]\n",
    "    \n",
    "    return merge(mergeSort(left), mergeSort(right))"
   ]
  },
  {
   "cell_type": "code",
   "execution_count": null,
   "id": "ef898c58",
   "metadata": {},
   "outputs": [],
   "source": [
    "# 数组中的逆序对\n",
    "class Solution:\n",
    "    def InversePairs(self , data: List[int]) -> int:\n",
    "        # write code here\n",
    "        def mergesort(data):\n",
    "            n = len(data)\n",
    "            if n<=1:\n",
    "                return data,0\n",
    "            l,r = 0,0\n",
    "            mid = n//2\n",
    "            left,leftinverse = mergesort(data[:mid])\n",
    "            right,rightinverse = mergesort(data[mid:])\n",
    "            res = []#record ordered list\n",
    "            countinverse = leftinverse+rightinverse\n",
    "            while l < len(left) and r < len(right):\n",
    "                if left[l]<=right[r]:\n",
    "                    res.append(left[l])\n",
    "                    l += 1\n",
    "                else:\n",
    "                    countinverse += len(left)-l\n",
    "                    res.append(right[r])\n",
    "                    r+=1\n",
    "            res += left[l:]\n",
    "            res += right[r:]\n",
    "            return res,countinverse\n",
    "        orderlist,count = mergesort(data)\n",
    "        return count"
   ]
  },
  {
   "cell_type": "markdown",
   "id": "c2a9530a",
   "metadata": {},
   "source": [
    "## 快速排序"
   ]
  },
  {
   "cell_type": "code",
   "execution_count": null,
   "id": "99903df6",
   "metadata": {},
   "outputs": [],
   "source": [
    "def quicksort(nums):\n",
    "    if len(nums) < 2:\n",
    "        return nums\n",
    "    else:\n",
    "        pivot = nums[0]\n",
    "        less = [i for i in nums[1:] if i <= std]\n",
    "        more = [i for i in nums[1:] if i > std]\n",
    "        return quicksort(less) + [std] + quicksort(more)"
   ]
  },
  {
   "cell_type": "code",
   "execution_count": null,
   "id": "b44ad5ce",
   "metadata": {},
   "outputs": [],
   "source": [
    "def partition(nums, start, end):\n",
    "    if start > end:\n",
    "        return\n",
    "    pivot = nums[start]\n",
    "    left, right = start, end\n",
    "    \n",
    "    while left < right:\n",
    "        while left < right and nums[right] >= pivot:\n",
    "            right -= 1\n",
    "        while left < right and nums[left] <= pivot:\n",
    "            left += 1\n",
    "        if left != right:\n",
    "            nums[left], nums[right] = nums[right], nums[left]\n",
    "    nums[left],nums[start] = nums[start],nums[left]\n",
    "    partition(nums, left+1, end)\n",
    "    partition(nums, start, left-1)\n",
    "    \n",
    "def quicksort(nums):\n",
    "    partition(nums, 0, len(nums)-1)\n",
    "    return nums"
   ]
  },
  {
   "cell_type": "markdown",
   "id": "6c675234",
   "metadata": {},
   "source": [
    "## 堆排序"
   ]
  },
  {
   "cell_type": "code",
   "execution_count": null,
   "id": "18858dc3",
   "metadata": {},
   "outputs": [],
   "source": [
    "def heapify(nums, i):\n",
    "    left = 2*i + 1\n",
    "    right = 2*i + 2\n",
    "    large = i\n",
    "    if left < n and nums[left] > nums[large]:\n",
    "        large = left\n",
    "    if right < n and nums[right] > nums[large]:\n",
    "        large = right\n",
    "    if large != i:\n",
    "        nums[i], nums[large] = nums[large], nums[i]\n",
    "        heapify(nums, large)\n",
    "\n",
    "def heapsort(nums):\n",
    "    global n\n",
    "    n = len(nums)\n",
    "    for i in range(n//2, -1, -1):\n",
    "        heapify(nums, i)\n",
    "\n",
    "    for i in range(n-1,0,-1):\n",
    "        nums[i], nums[0] = nums[0], nums[i]\n",
    "        n -= 1\n",
    "        heapify(nums, 0)\n",
    "    return nums"
   ]
  },
  {
   "cell_type": "markdown",
   "id": "8c582aa4",
   "metadata": {},
   "source": [
    "## 计数排序"
   ]
  },
  {
   "cell_type": "code",
   "execution_count": null,
   "id": "d1740e52",
   "metadata": {},
   "outputs": [],
   "source": [
    "def countingsort(nums):\n",
    "    maxValue = max(nums)\n",
    "    bucketLen = maxValue + 1\n",
    "    bucket = [0] * bucketLen\n",
    "    sortedIndex = 0\n",
    "    n = len(nums)\n",
    "    for i in range(n):\n",
    "        if not bucket[nums[i]]:\n",
    "            bucket[nums[i]] = 0\n",
    "        bucket[nums[i]] += 1\n",
    "    for j in range(bucketLen):\n",
    "        while bucket[j] > 0:\n",
    "            nums[sortedIndex] = j\n",
    "            sortedIndex += 1\n",
    "            bucket[j] -= 1\n",
    "    return nums"
   ]
  },
  {
   "cell_type": "markdown",
   "id": "ba63465f",
   "metadata": {},
   "source": [
    "## 桶排序"
   ]
  },
  {
   "cell_type": "code",
   "execution_count": null,
   "id": "cc0824a5",
   "metadata": {},
   "outputs": [],
   "source": [
    "def bucketsort(nums):\n",
    "    "
   ]
  },
  {
   "cell_type": "markdown",
   "id": "32419a8c",
   "metadata": {},
   "source": [
    "## 基数排序"
   ]
  },
  {
   "cell_type": "code",
   "execution_count": null,
   "id": "e52b782d",
   "metadata": {},
   "outputs": [],
   "source": [
    "def radixsort(nums):\n",
    "    "
   ]
  },
  {
   "cell_type": "code",
   "execution_count": null,
   "id": "bd49fa0d",
   "metadata": {},
   "outputs": [],
   "source": []
  },
  {
   "cell_type": "markdown",
   "id": "44270339",
   "metadata": {},
   "source": [
    "# 查找"
   ]
  },
  {
   "cell_type": "markdown",
   "id": "6b0dcd7a",
   "metadata": {},
   "source": [
    "## 二分查找"
   ]
  },
  {
   "cell_type": "code",
   "execution_count": 22,
   "id": "6485278b",
   "metadata": {},
   "outputs": [],
   "source": [
    "class Solution:\n",
    "    def search(self , nums: List[int], target: int) -> int:\n",
    "        # write code here\n",
    "        n = len(nums)\n",
    "        left, right = 0, n-1\n",
    "        while left <= right:\n",
    "            mid = left + (right-left)//2\n",
    "            if nums[mid] == target:\n",
    "                return mid\n",
    "            elif nums[mid] > target:\n",
    "                right = mid - 1\n",
    "            else:\n",
    "                left = mid + 1\n",
    "        return -1"
   ]
  },
  {
   "cell_type": "code",
   "execution_count": null,
   "id": "39904ef4",
   "metadata": {},
   "outputs": [],
   "source": [
    "#  在旋转过的有序数组中寻找目标值\n",
    "class Solution:\n",
    "    def search(self, nums: List[int], target: int) -> int:\n",
    "        if not nums:\n",
    "            return -1\n",
    "        l, r = 0, len(nums) - 1\n",
    "        while l <= r:\n",
    "            mid = (l + r) // 2\n",
    "            if nums[mid] == target:\n",
    "                return mid\n",
    "            if nums[0] <= nums[mid]:\n",
    "                if nums[0] <= target < nums[mid]:\n",
    "                    r = mid - 1\n",
    "                else:\n",
    "                    l = mid + 1\n",
    "            else:\n",
    "                if nums[mid] < target <= nums[len(nums) - 1]:\n",
    "                    l = mid + 1\n",
    "                else:\n",
    "                    r = mid - 1\n",
    "        return -1"
   ]
  },
  {
   "cell_type": "markdown",
   "id": "bb05ae88",
   "metadata": {},
   "source": [
    "## 二叉查找树"
   ]
  },
  {
   "cell_type": "code",
   "execution_count": null,
   "id": "17c21f87",
   "metadata": {},
   "outputs": [],
   "source": []
  }
 ],
 "metadata": {
  "kernelspec": {
   "display_name": "Python 3 (ipykernel)",
   "language": "python",
   "name": "python3"
  },
  "language_info": {
   "codemirror_mode": {
    "name": "ipython",
    "version": 3
   },
   "file_extension": ".py",
   "mimetype": "text/x-python",
   "name": "python",
   "nbconvert_exporter": "python",
   "pygments_lexer": "ipython3",
   "version": "3.9.7"
  },
  "toc": {
   "base_numbering": 1,
   "nav_menu": {
    "height": "403.63970947265625px",
    "width": "233.9889678955078px"
   },
   "number_sections": true,
   "sideBar": true,
   "skip_h1_title": false,
   "title_cell": "Table of Contents",
   "title_sidebar": "Contents",
   "toc_cell": true,
   "toc_position": {
    "height": "311.3418884277344px",
    "left": "94px",
    "top": "164.47793579101562px",
    "width": "175.44117736816406px"
   },
   "toc_section_display": true,
   "toc_window_display": true
  }
 },
 "nbformat": 4,
 "nbformat_minor": 5
}
