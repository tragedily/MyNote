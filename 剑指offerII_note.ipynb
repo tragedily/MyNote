{
 "cells": [
  {
   "cell_type": "markdown",
   "id": "0a15863e",
   "metadata": {
    "toc": true
   },
   "source": [
    "<h1>Table of Contents<span class=\"tocSkip\"></span></h1>\n",
    "<div class=\"toc\"><ul class=\"toc-item\"><li><span><a href=\"#剑指offerII\" data-toc-modified-id=\"剑指offerII-1\">剑指offerII</a></span><ul class=\"toc-item\"><li><ul class=\"toc-item\"><li><span><a href=\"#1.整数除法\" data-toc-modified-id=\"1.整数除法-1.0.1\">1.整数除法</a></span></li><li><span><a href=\"#2.-二进制加法\" data-toc-modified-id=\"2.-二进制加法-1.0.2\">2. 二进制加法</a></span></li><li><span><a href=\"#3.-前-n-个数字二进制中-1-的个数\" data-toc-modified-id=\"3.-前-n-个数字二进制中-1-的个数-1.0.3\">3. 前 n 个数字二进制中 1 的个数</a></span></li><li><span><a href=\"#4.-只出现一次的数字\" data-toc-modified-id=\"4.-只出现一次的数字-1.0.4\">4. 只出现一次的数字</a></span></li></ul></li></ul></li></ul></div>"
   ]
  },
  {
   "cell_type": "markdown",
   "id": "25e1601b",
   "metadata": {},
   "source": [
    "# 剑指offerII"
   ]
  },
  {
   "cell_type": "markdown",
   "id": "284bb6d5",
   "metadata": {},
   "source": [
    "### 1.整数除法"
   ]
  },
  {
   "cell_type": "markdown",
   "id": "8fd05993",
   "metadata": {},
   "source": [
    "给定两个整数 a 和 b ，求它们的除法的商 a/b ，要求不得使用乘号 '*'、除号 '/' 以及求余符号 '%' 。"
   ]
  },
  {
   "cell_type": "markdown",
   "id": "17bd4b39",
   "metadata": {},
   "source": [
    "##### 1.位运算"
   ]
  },
  {
   "cell_type": "code",
   "execution_count": null,
   "id": "2b301e33",
   "metadata": {},
   "outputs": [],
   "source": [
    "def divide(self, a: int, b: int) -> int:\n",
    "    #32 位最大值：2^31 - 1 = 2147483647 / 32 位最小值：-2^31 = -2147483648\n",
    "    INT_MIN, INT_MAX = -2**31, 2**31 - 1  \n",
    "    if a == INT_MIN and b == -1:\n",
    "        return INT_MAX\n",
    "    \n",
    "    #查看a,b是否同号\n",
    "    sign = -1 if (a > 0) ^ (b > 0) else 1\n",
    "    \n",
    "    #使用a,b的绝对值进行计算\n",
    "    a, b = abs(a), abs(b)\n",
    "    ans = 0\n",
    "    for i in range(31, -1, -1):\n",
    "        #位运算,a右移i位,除以i个2\n",
    "        if (a >> i) - b >= 0:\n",
    "            #位运算,b左移i位,乘以i个2\n",
    "            a = a - (b << i)\n",
    "            ans += 1 << i\n",
    "    \n",
    "    # bug 修复：因为不能使用乘号，所以将乘号换成三目运算符\n",
    "    return ans if sign == 1 else -ans"
   ]
  },
  {
   "cell_type": "markdown",
   "id": "2dd0b643",
   "metadata": {},
   "source": [
    "### 2. 二进制加法"
   ]
  },
  {
   "cell_type": "markdown",
   "id": "61e7c197",
   "metadata": {},
   "source": [
    "给定两个 01 字符串 a 和 b ，请计算它们的和，并以二进制字符串的形式输出。\n",
    "\n",
    "输入为 非空 字符串且只包含数字 1 和 0。"
   ]
  },
  {
   "cell_type": "markdown",
   "id": "6a57f1cc",
   "metadata": {},
   "source": [
    "##### 1.模拟"
   ]
  },
  {
   "cell_type": "code",
   "execution_count": null,
   "id": "2762f6ab",
   "metadata": {},
   "outputs": [],
   "source": [
    "def addBinary(a, b):\n",
    "    \n",
    "    i = len(a) - 1\n",
    "    j = len(b) - 1\n",
    "    ans = ''\n",
    "    add = 0\n",
    "    \n",
    "    while i>=0 or j>=0 or add!=0:\n",
    "        x = i\n",
    "        x = int(a[i]) if x>=0 else 0\n",
    "        \n",
    "        y = j\n",
    "        y = int(b[j]) if y>=0 else 0\n",
    "            \n",
    "        result = x + y + add\n",
    "        res = str(result % 2)\n",
    "        print(res)\n",
    "        ans += res\n",
    "        add = result // 2\n",
    "        i -= 1\n",
    "        j -= 1\n",
    "        \n",
    "    ans = ans[::-1]\n",
    "    return ans"
   ]
  },
  {
   "cell_type": "code",
   "execution_count": null,
   "id": "d7a9e427",
   "metadata": {},
   "outputs": [],
   "source": [
    "#优化\n",
    "def addBinary(num1: str, num2: str) -> str:\n",
    "    res = ''\n",
    "    i1, i2, carry = len(num1) - 1, len(num2) - 1, 0\n",
    "    while i1 >= 0 or i2 >= 0:\n",
    "        x = ord(num1[i1]) - ord('0') if i1 >= 0 else 0\n",
    "        y = ord(num2[i2]) - ord('0') if i2 >= 0 else 0\n",
    "\n",
    "        sum = x + y + carry\n",
    "        res += str(sum % 2)\n",
    "        carry = sum // 2\n",
    "\n",
    "        i1, i2 = i1 - 1, i2 - 1\n",
    "    if carry != 0: res += str(carry)\n",
    "    return res[::-1]"
   ]
  },
  {
   "cell_type": "markdown",
   "id": "ede43698",
   "metadata": {},
   "source": [
    "### 3. 前 n 个数字二进制中 1 的个数"
   ]
  },
  {
   "cell_type": "markdown",
   "id": "b70377bd",
   "metadata": {},
   "source": [
    "给定一个非负整数 n ，请计算 0 到 n 之间的每个数字的二进制表示中 1 的个数，并输出一个数组。"
   ]
  },
  {
   "cell_type": "markdown",
   "id": "5887fee8",
   "metadata": {},
   "source": [
    "##### 1.模拟(除2取余+计数)"
   ]
  },
  {
   "cell_type": "code",
   "execution_count": null,
   "id": "104874ca",
   "metadata": {},
   "outputs": [],
   "source": [
    "def countBits(n):\n",
    "    def convertTocount(num):\n",
    "        List = []\n",
    "        while num != 0:\n",
    "            List.append(num % 2)\n",
    "            num = num // 2\n",
    "        return List.count(1)\n",
    "    \n",
    "    res = []\n",
    "    for i in range(n+1):\n",
    "        res.append(convertTocount(i))\n",
    "        \n",
    "    return res"
   ]
  },
  {
   "cell_type": "markdown",
   "id": "677d185f",
   "metadata": {},
   "source": [
    "### 4. 只出现一次的数字 "
   ]
  },
  {
   "cell_type": "markdown",
   "id": "3c73b595",
   "metadata": {},
   "source": [
    "给你一个整数数组 nums ，除某个元素仅出现 一次 外，其余每个元素都恰出现 三次 。请你找出并返回那个只出现了一次的元素。"
   ]
  },
  {
   "cell_type": "markdown",
   "id": "6bf81c9d",
   "metadata": {},
   "source": [
    "##### 1.暴力查找(集合)"
   ]
  },
  {
   "cell_type": "code",
   "execution_count": null,
   "id": "fa8a26b5",
   "metadata": {},
   "outputs": [],
   "source": [
    "def singleNumber(nums):\n",
    "    res = 0\n",
    "    Set = set(nums)\n",
    "    for i in Set:\n",
    "        if nums.count(i) == 1:\n",
    "            res = i\n",
    "    return res"
   ]
  },
  {
   "cell_type": "markdown",
   "id": "11acad10",
   "metadata": {},
   "source": [
    "##### 2.哈希查找"
   ]
  },
  {
   "cell_type": "code",
   "execution_count": null,
   "id": "77d9377b",
   "metadata": {},
   "outputs": [],
   "source": [
    "def singleNumber(nums) -> int:\n",
    "    freq = collections.Counter(nums)\n",
    "    ans = [num for num, occ in freq.items() if occ == 1][0]\n",
    "    return ans"
   ]
  },
  {
   "cell_type": "markdown",
   "id": "1fe0155d",
   "metadata": {},
   "source": [
    "##### 3.异或运算"
   ]
  },
  {
   "cell_type": "code",
   "execution_count": null,
   "id": "63793eac",
   "metadata": {},
   "outputs": [],
   "source": [
    "def singleNumber(nums) -> int:\n",
    "    a = b = 0\n",
    "    for num in nums:\n",
    "        b = ~a & (b ^ num)\n",
    "        a = ~b & (a ^ num)\n",
    "    return b"
   ]
  }
 ],
 "metadata": {
  "kernelspec": {
   "display_name": "Python 3 (ipykernel)",
   "language": "python",
   "name": "python3"
  },
  "language_info": {
   "codemirror_mode": {
    "name": "ipython",
    "version": 3
   },
   "file_extension": ".py",
   "mimetype": "text/x-python",
   "name": "python",
   "nbconvert_exporter": "python",
   "pygments_lexer": "ipython3",
   "version": "3.9.7"
  },
  "toc": {
   "base_numbering": 1,
   "nav_menu": {},
   "number_sections": false,
   "sideBar": true,
   "skip_h1_title": false,
   "title_cell": "Table of Contents",
   "title_sidebar": "Contents",
   "toc_cell": true,
   "toc_position": {},
   "toc_section_display": true,
   "toc_window_display": true
  }
 },
 "nbformat": 4,
 "nbformat_minor": 5
}
