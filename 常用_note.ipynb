{
 "cells": [
  {
   "cell_type": "markdown",
   "id": "6c10f764",
   "metadata": {
    "toc": true
   },
   "source": [
    "<h1>Table of Contents<span class=\"tocSkip\"></span></h1>\n",
    "<div class=\"toc\"><ul class=\"toc-item\"><li><span><a href=\"#EDA\" data-toc-modified-id=\"EDA-1\"><span class=\"toc-item-num\">1&nbsp;&nbsp;</span>EDA</a></span><ul class=\"toc-item\"><li><span><a href=\"#数据导入与导出\" data-toc-modified-id=\"数据导入与导出-1.1\"><span class=\"toc-item-num\">1.1&nbsp;&nbsp;</span>数据导入与导出</a></span></li><li><span><a href=\"#DataFrame处理\" data-toc-modified-id=\"DataFrame处理-1.2\"><span class=\"toc-item-num\">1.2&nbsp;&nbsp;</span>DataFrame处理</a></span></li><li><span><a href=\"#数据类型转换\" data-toc-modified-id=\"数据类型转换-1.3\"><span class=\"toc-item-num\">1.3&nbsp;&nbsp;</span>数据类型转换</a></span></li><li><span><a href=\"#绘图\" data-toc-modified-id=\"绘图-1.4\"><span class=\"toc-item-num\">1.4&nbsp;&nbsp;</span>绘图</a></span></li></ul></li><li><span><a href=\"#特征工程\" data-toc-modified-id=\"特征工程-2\"><span class=\"toc-item-num\">2&nbsp;&nbsp;</span>特征工程</a></span><ul class=\"toc-item\"><li><span><a href=\"#异常处理\" data-toc-modified-id=\"异常处理-2.1\"><span class=\"toc-item-num\">2.1&nbsp;&nbsp;</span>异常处理</a></span></li><li><span><a href=\"#特征归一化/标准化\" data-toc-modified-id=\"特征归一化/标准化-2.2\"><span class=\"toc-item-num\">2.2&nbsp;&nbsp;</span>特征归一化/标准化</a></span></li><li><span><a href=\"#特征编码\" data-toc-modified-id=\"特征编码-2.3\"><span class=\"toc-item-num\">2.3&nbsp;&nbsp;</span>特征编码</a></span></li><li><span><a href=\"#缺失值处理\" data-toc-modified-id=\"缺失值处理-2.4\"><span class=\"toc-item-num\">2.4&nbsp;&nbsp;</span>缺失值处理</a></span></li><li><span><a href=\"#特征构造\" data-toc-modified-id=\"特征构造-2.5\"><span class=\"toc-item-num\">2.5&nbsp;&nbsp;</span>特征构造</a></span></li><li><span><a href=\"#特征筛选\" data-toc-modified-id=\"特征筛选-2.6\"><span class=\"toc-item-num\">2.6&nbsp;&nbsp;</span>特征筛选</a></span></li><li><span><a href=\"#降维\" data-toc-modified-id=\"降维-2.7\"><span class=\"toc-item-num\">2.7&nbsp;&nbsp;</span>降维</a></span></li></ul></li><li><span><a href=\"#模型\" data-toc-modified-id=\"模型-3\"><span class=\"toc-item-num\">3&nbsp;&nbsp;</span>模型</a></span><ul class=\"toc-item\"><li><span><a href=\"#机器学习模型\" data-toc-modified-id=\"机器学习模型-3.1\"><span class=\"toc-item-num\">3.1&nbsp;&nbsp;</span>机器学习模型</a></span><ul class=\"toc-item\"><li><span><a href=\"#XGBoost\" data-toc-modified-id=\"XGBoost-3.1.1\"><span class=\"toc-item-num\">3.1.1&nbsp;&nbsp;</span>XGBoost</a></span></li><li><span><a href=\"#LightGBM\" data-toc-modified-id=\"LightGBM-3.1.2\"><span class=\"toc-item-num\">3.1.2&nbsp;&nbsp;</span>LightGBM</a></span></li><li><span><a href=\"#CatBoost\" data-toc-modified-id=\"CatBoost-3.1.3\"><span class=\"toc-item-num\">3.1.3&nbsp;&nbsp;</span>CatBoost</a></span></li></ul></li><li><span><a href=\"#模型验证\" data-toc-modified-id=\"模型验证-3.2\"><span class=\"toc-item-num\">3.2&nbsp;&nbsp;</span>模型验证</a></span><ul class=\"toc-item\"><li><span><a href=\"#留出法\" data-toc-modified-id=\"留出法-3.2.1\"><span class=\"toc-item-num\">3.2.1&nbsp;&nbsp;</span>留出法</a></span></li><li><span><a href=\"#K折\" data-toc-modified-id=\"K折-3.2.2\"><span class=\"toc-item-num\">3.2.2&nbsp;&nbsp;</span>K折</a></span></li><li><span><a href=\"#时序\" data-toc-modified-id=\"时序-3.2.3\"><span class=\"toc-item-num\">3.2.3&nbsp;&nbsp;</span>时序</a></span></li></ul></li><li><span><a href=\"#模型评估\" data-toc-modified-id=\"模型评估-3.3\"><span class=\"toc-item-num\">3.3&nbsp;&nbsp;</span>模型评估</a></span><ul class=\"toc-item\"><li><span><a href=\"#评估函数\" data-toc-modified-id=\"评估函数-3.3.1\"><span class=\"toc-item-num\">3.3.1&nbsp;&nbsp;</span>评估函数</a></span></li><li><span><a href=\"#过拟合\" data-toc-modified-id=\"过拟合-3.3.2\"><span class=\"toc-item-num\">3.3.2&nbsp;&nbsp;</span>过拟合</a></span><ul class=\"toc-item\"><li><span><a href=\"#TRICK：对抗验证\" data-toc-modified-id=\"TRICK：对抗验证-3.3.2.1\"><span class=\"toc-item-num\">3.3.2.1&nbsp;&nbsp;</span>TRICK：对抗验证</a></span></li></ul></li></ul></li><li><span><a href=\"#模型调参\" data-toc-modified-id=\"模型调参-3.4\"><span class=\"toc-item-num\">3.4&nbsp;&nbsp;</span>模型调参</a></span><ul class=\"toc-item\"><li><span><a href=\"#学习曲线\" data-toc-modified-id=\"学习曲线-3.4.1\"><span class=\"toc-item-num\">3.4.1&nbsp;&nbsp;</span>学习曲线</a></span></li><li><span><a href=\"#网格搜索\" data-toc-modified-id=\"网格搜索-3.4.2\"><span class=\"toc-item-num\">3.4.2&nbsp;&nbsp;</span>网格搜索</a></span></li><li><span><a href=\"#贝叶斯调参\" data-toc-modified-id=\"贝叶斯调参-3.4.3\"><span class=\"toc-item-num\">3.4.3&nbsp;&nbsp;</span>贝叶斯调参</a></span></li></ul></li><li><span><a href=\"#Trick\" data-toc-modified-id=\"Trick-3.5\"><span class=\"toc-item-num\">3.5&nbsp;&nbsp;</span>Trick</a></span><ul class=\"toc-item\"><li><span><a href=\"#scheduler策略——学习率调整\" data-toc-modified-id=\"scheduler策略——学习率调整-3.5.1\"><span class=\"toc-item-num\">3.5.1&nbsp;&nbsp;</span>scheduler策略——学习率调整</a></span></li><li><span><a href=\"#HPO自动调参——模型调参\" data-toc-modified-id=\"HPO自动调参——模型调参-3.5.2\"><span class=\"toc-item-num\">3.5.2&nbsp;&nbsp;</span>HPO自动调参——模型调参</a></span><ul class=\"toc-item\"><li><span><a href=\"#HEBO\" data-toc-modified-id=\"HEBO-3.5.2.1\"><span class=\"toc-item-num\">3.5.2.1&nbsp;&nbsp;</span>HEBO</a></span></li><li><span><a href=\"#Open-Box\" data-toc-modified-id=\"Open-Box-3.5.2.2\"><span class=\"toc-item-num\">3.5.2.2&nbsp;&nbsp;</span>Open-Box</a></span></li></ul></li><li><span><a href=\"#数据增强\" data-toc-modified-id=\"数据增强-3.5.3\"><span class=\"toc-item-num\">3.5.3&nbsp;&nbsp;</span>数据增强</a></span></li><li><span><a href=\"#标签平滑\" data-toc-modified-id=\"标签平滑-3.5.4\"><span class=\"toc-item-num\">3.5.4&nbsp;&nbsp;</span>标签平滑</a></span></li><li><span><a href=\"#nullImportance——特征筛选\" data-toc-modified-id=\"nullImportance——特征筛选-3.5.5\"><span class=\"toc-item-num\">3.5.5&nbsp;&nbsp;</span>nullImportance——特征筛选</a></span></li><li><span><a href=\"#伪标签\" data-toc-modified-id=\"伪标签-3.5.6\"><span class=\"toc-item-num\">3.5.6&nbsp;&nbsp;</span>伪标签</a></span></li><li><span><a href=\"#嫁接学习——线上线下数据分布不一致\" data-toc-modified-id=\"嫁接学习——线上线下数据分布不一致-3.5.7\"><span class=\"toc-item-num\">3.5.7&nbsp;&nbsp;</span>嫁接学习——线上线下数据分布不一致</a></span></li><li><span><a href=\"#知识蒸馏\" data-toc-modified-id=\"知识蒸馏-3.5.8\"><span class=\"toc-item-num\">3.5.8&nbsp;&nbsp;</span>知识蒸馏</a></span></li><li><span><a href=\"#自动搜索模型——模型选择\" data-toc-modified-id=\"自动搜索模型——模型选择-3.5.9\"><span class=\"toc-item-num\">3.5.9&nbsp;&nbsp;</span>自动搜索模型——模型选择</a></span></li><li><span><a href=\"#模型融合\" data-toc-modified-id=\"模型融合-3.5.10\"><span class=\"toc-item-num\">3.5.10&nbsp;&nbsp;</span>模型融合</a></span><ul class=\"toc-item\"><li><span><a href=\"#加权平均\" data-toc-modified-id=\"加权平均-3.5.10.1\"><span class=\"toc-item-num\">3.5.10.1&nbsp;&nbsp;</span>加权平均</a></span></li><li><span><a href=\"#投票\" data-toc-modified-id=\"投票-3.5.10.2\"><span class=\"toc-item-num\">3.5.10.2&nbsp;&nbsp;</span>投票</a></span></li><li><span><a href=\"#贪心搜索\" data-toc-modified-id=\"贪心搜索-3.5.10.3\"><span class=\"toc-item-num\">3.5.10.3&nbsp;&nbsp;</span>贪心搜索</a></span></li><li><span><a href=\"#stacking\" data-toc-modified-id=\"stacking-3.5.10.4\"><span class=\"toc-item-num\">3.5.10.4&nbsp;&nbsp;</span>stacking</a></span></li><li><span><a href=\"#blending\" data-toc-modified-id=\"blending-3.5.10.5\"><span class=\"toc-item-num\">3.5.10.5&nbsp;&nbsp;</span>blending</a></span></li></ul></li></ul></li></ul></li><li><span><a href=\"#模块\" data-toc-modified-id=\"模块-4\"><span class=\"toc-item-num\">4&nbsp;&nbsp;</span>模块</a></span></li><li><span><a href=\"#其他\" data-toc-modified-id=\"其他-5\"><span class=\"toc-item-num\">5&nbsp;&nbsp;</span>其他</a></span><ul class=\"toc-item\"><li><span><a href=\"#随机种子\" data-toc-modified-id=\"随机种子-5.1\"><span class=\"toc-item-num\">5.1&nbsp;&nbsp;</span>随机种子</a></span></li><li><span><a href=\"#减少内存\" data-toc-modified-id=\"减少内存-5.2\"><span class=\"toc-item-num\">5.2&nbsp;&nbsp;</span>减少内存</a></span></li><li><span><a href=\"#设置cuda\" data-toc-modified-id=\"设置cuda-5.3\"><span class=\"toc-item-num\">5.3&nbsp;&nbsp;</span>设置cuda</a></span></li></ul></li></ul></div>"
   ]
  },
  {
   "cell_type": "markdown",
   "id": "3fe288cf",
   "metadata": {},
   "source": [
    "# EDA"
   ]
  },
  {
   "cell_type": "markdown",
   "id": "394ba264",
   "metadata": {},
   "source": [
    "## 数据导入与导出"
   ]
  },
  {
   "cell_type": "code",
   "execution_count": null,
   "id": "f0b668bc",
   "metadata": {},
   "outputs": [],
   "source": [
    "# 查看路径\n",
    "import sys\n",
    "print(sys.path)"
   ]
  },
  {
   "cell_type": "code",
   "execution_count": null,
   "id": "5727123c",
   "metadata": {},
   "outputs": [],
   "source": [
    "for dirname, _, filenames in os.walk('\\---python---\\kaggle\\input'):\n",
    "    for filename in filenames:\n",
    "        print(os.path.join(dirname, filename))"
   ]
  },
  {
   "cell_type": "code",
   "execution_count": null,
   "id": "9e8507a7",
   "metadata": {},
   "outputs": [],
   "source": [
    "##########txt#########\n",
    "with open('.txt', encoding='utf-8') as f:\n",
    "    for line in f.readlines():\n",
    "\n",
    "\n",
    "##########csv#########\n",
    "import pandas as pd\n",
    "\n",
    "pd.read_csv('.csv')\n",
    "# - 读取的文件路径，这里需要根据改成你本地的路径，可以使用相对路径或绝对路径；\n",
    "# - 分隔符`sep`，为每列分割的字符，设置为`\\t`即可；\n",
    "# - 读取行数`nrows`，为此次读取文件的函数，是数值类型（由于数据集比较大，建议先设置为100）；\n",
    "\n",
    "pd.to_csv('.csv')\n",
    "# - 分隔符`sep`，为每列分割的字符，设置为`\\t`即可；\n",
    "# - 行索引`index`，默认为True，最好改为False\n",
    "\n",
    "\n",
    "##########xlsx#########\n",
    "#使用xlrd读取\n",
    "import xlrd\n",
    "DATA = xlrd.open_workbook('.xlsx')\n",
    "#按工作簿定位工作表\n",
    "table1 = DATA.sheet_by_name('STR')\n",
    "\n",
    "#使用pandas读取\n",
    "DATA = pd.read_excel('.xlsx', sheet_name='STR')\n",
    "\n",
    "##########pkl#########\n",
    "import pickle\n",
    "#数据保存\n",
    "with open('.pkl', 'wb') as f:\n",
    "    pickle.dump(DATA, f)\n",
    "#数据读取\n",
    "with open(\".pkl\", 'rb') as f:\n",
    "    DATA = pickle.load(f)\n",
    "    \n",
    "##########tar#########\n",
    "import os\n",
    "import tarfile  \n",
    "def un_tar(file_name):  \n",
    "    \"\"\"untar zip file\"\"\"  \n",
    "    tar = tarfile.open(file_name)  \n",
    "    names = tar.getnames()  \n",
    "    #由于解压后是许多文件，预先建立同名文件夹\n",
    "    if os.path.isdir(file_name + \"_files\"):  \n",
    "        pass  \n",
    "    else:  \n",
    "        os.mkdir(file_name + \"_files\")  \n",
    "    for name in names:  \n",
    "        tar.extract(name, file_name + \"_files/\")  \n",
    "    tar.close() \n",
    "un_tar('.tar')"
   ]
  },
  {
   "cell_type": "code",
   "execution_count": null,
   "id": "7a116c2b",
   "metadata": {},
   "outputs": [],
   "source": [
    "# 读取采样或全量数据\n",
    "# debug模式：从训练集中划出一部分数据来调试代码\n",
    "def get_all_click_sample(data_path, sample_nums=10000):\n",
    "    \"\"\"\n",
    "        训练集中采样一部分数据调试\n",
    "        data_path: 原数据的存储路径\n",
    "        sample_nums: 采样数目（这里由于机器的内存限制，可以采样用户做）\n",
    "    \"\"\"\n",
    "    all_click = pd.read_csv(data_path + 'train_click_log.csv')\n",
    "    all_user_ids = all_click.user_id.unique()\n",
    "\n",
    "    sample_user_ids = np.random.choice(all_user_ids, size=sample_nums, replace=False) \n",
    "    all_click = all_click[all_click['user_id'].isin(sample_user_ids)]\n",
    "    \n",
    "    all_click = all_click.drop_duplicates((['user_id', 'click_article_id', 'click_timestamp']))\n",
    "    return all_click\n",
    "\n",
    "# 读取点击数据，这里分成线上和线下，如果是为了获取线上提交结果应该讲测试集中的点击数据合并到总的数据中\n",
    "# 如果是为了线下验证模型的有效性或者特征的有效性，可以只使用训练集\n",
    "def get_all_click_df(data_path='./data_raw/', offline=True):\n",
    "    if offline:\n",
    "        all_click = pd.read_csv(data_path + 'train_click_log.csv')\n",
    "    else:\n",
    "        trn_click = pd.read_csv(data_path + 'train_click_log.csv')\n",
    "        tst_click = pd.read_csv(data_path + 'testA_click_log.csv')\n",
    "\n",
    "        all_click = trn_click.append(tst_click)\n",
    "    \n",
    "    all_click = all_click.drop_duplicates((['user_id', 'click_article_id', 'click_timestamp']))\n",
    "    return all_click"
   ]
  },
  {
   "cell_type": "code",
   "execution_count": null,
   "id": "1f792793",
   "metadata": {},
   "outputs": [],
   "source": [
    "#合并训练集和测试集\n",
    "data_path = os.getcwd()+'/input/'\n",
    "\n",
    "train = pd.read_csv(data_path + 'x_train.csv')\n",
    "test = pd.read_csv(data_path + 'x_test.csv')\n",
    "test['y'] = -1\n",
    "label = pd.read_csv(data_path + 'y_train.csv')\n",
    "train = train.merge(label, on='id', how='left')\n",
    "\n",
    "df = pd.concat([train, test]).reset_index(drop=True)\n",
    "\n",
    "print(df.shape)\n",
    "df['rank'] = [i for i in range(df.shape[0])]"
   ]
  },
  {
   "cell_type": "code",
   "execution_count": null,
   "id": "ae383fb4",
   "metadata": {},
   "outputs": [],
   "source": [
    "#分开训练集和测试集\n",
    "df = df.sort_values('rank').reset_index(drop=True)\n",
    "\n",
    "features = [c for c in df.columns if c != 'y']\n",
    "\n",
    "# drop_cols = [c for c in features if df[c].dtype != 'object' and df[c].std() == 0]\n",
    "# df.drop(drop_cols, axis=1, inplace=True)\n",
    "\n",
    "drop_features = ['id', 'y', 'rank'......]\n",
    "feature= [c for c in df.columns if c not in drop_features]\n",
    "X_train = df[df[\"y\"] >= 0][feature].reset_index(drop=True)\n",
    "y_train = df[df[\"y\"] < 0][\"y\"]\n",
    "X_test = df[df[\"y\"] < 0][feature].reset_index(drop=True)"
   ]
  },
  {
   "cell_type": "markdown",
   "id": "51b0328e",
   "metadata": {},
   "source": [
    "## DataFrame处理"
   ]
  },
  {
   "cell_type": "markdown",
   "id": "2ae56b59",
   "metadata": {},
   "source": [
    "- unique\n",
    "    - 返回所有唯一值\n",
    "    - A.unique()\n",
    "- nunique\n",
    "    - 返回唯一值个数\n",
    "    - A.nunique()\n",
    "- value_counts\n",
    "    - 统计个数\n",
    "    - A['l1'].value_counts(dropna=True)"
   ]
  },
  {
   "cell_type": "markdown",
   "id": "190669f0",
   "metadata": {},
   "source": [
    "- sort_index\n",
    "    - 按索引排序\n",
    "    - A.sort_index()\n",
    "- sort_values\n",
    "    - 按值排序\n",
    "    - A.sort_values('l1')"
   ]
  },
  {
   "cell_type": "markdown",
   "id": "01e8c514",
   "metadata": {},
   "source": [
    "- groupby\n",
    "    - 分组\n",
    "    - A.groupby('l1').agg(FUNC).reset_index()\n",
    "- agg\n",
    "    - 聚合操作:缩减后的标量\n",
    "    - A.groupby(['l1','l2']).agg(FUNC)\n",
    "        - *FUNC 聚合公式         \n",
    "- transform\n",
    "    - 聚合操作:原数据框大小标量\n",
    "    - A.groupby('l1')['l2'].transform(FUNC)"
   ]
  },
  {
   "cell_type": "markdown",
   "id": "a8796c6c",
   "metadata": {},
   "source": [
    "- isnull\n",
    "    - 判断是否为缺失值\n",
    "    - A.isnull()\n",
    "        - A.isnull().sum() 统计缺失值个数   \n",
    "- fillna\n",
    "    - 填充缺失值\n",
    "    - A.fillna(NUM)   \n",
    "- dropna\n",
    "    - 删除缺失值\n",
    "    - A.dropna(axis=0, how='any', subset=None, inplace=False)\n",
    "        - how \n",
    "            - 'any' 删除带有缺失值的行/列\n",
    "            - 'all' 删除一整行/列都是缺失值的行/列\n",
    "        - subset 删除特定列中包含缺失值的行/列"
   ]
  },
  {
   "cell_type": "markdown",
   "id": "b3cee08a",
   "metadata": {},
   "source": [
    "- duplicated\n",
    "    - 判断是否为重复值  \n",
    "- drop_duplicates\n",
    "    - 删除重复值\n",
    "    - A.drop_duplicates()"
   ]
  },
  {
   "cell_type": "markdown",
   "id": "8dfef6fd",
   "metadata": {},
   "source": [
    "- qcut\n",
    "    - 分箱\n",
    "    - pd.qcut(A['l1'], NUM, duplicates='drop')\n",
    "        - *NUM 分箱个数\n",
    "- cut\n",
    "    - 分箱\n",
    "    - pd.cut(A['l1'], LIST, labels=List)\n",
    "        - *LIST 分箱范围\n",
    "        - labels 分箱后的标签"
   ]
  },
  {
   "cell_type": "markdown",
   "id": "52a57dfd",
   "metadata": {},
   "source": [
    "- drop\n",
    "    - 删去行列\n",
    "    - A.drop(['l1','l2'], axis=1, inplace=False)\n",
    "        - axis 删掉列<-1\n",
    "- insert\n",
    "    - 插入一列\n",
    "    - A.insert(0, 'l1', LIST)\n",
    "- set_index\n",
    "    - 设置一列为行索引\n",
    "    - A.set_index('l1')\n",
    "- reset_index\n",
    "    - 重置索引\n",
    "    - A.reset_index(drop=True)\n",
    "        - drop 丢掉原先索引<-True\n",
    "- rename\n",
    "    - 重取行列名\n",
    "    - A.rename(columns={})\n",
    "- itertuples\n",
    "    - 组迭代\n",
    "    - for a, b, c in A.itertuples():\n",
    "- isin\n",
    "    - 判断存在\n",
    "    - A[A['l1'].isin(List)]\n",
    "- query\n",
    "    - 查询\n",
    "    - A.query('l1 == 0')\n",
    "- map\n",
    "    - 批操作\n",
    "    - A.map(Dic)\n",
    "- assign\n",
    "    - 增加新列\n",
    "    - A.assign('l4'=Series)\n",
    "- sample\n",
    "    - 采样\n",
    "    - A.sample(n=NUM, frac=NUM, replace=False)\n",
    "        - n 抽取个数\n",
    "        - frac 抽取比例\n",
    "            - A.sample(frac=1.0) 打乱，等价于shuffle\n",
    "        - replace 无放回抽样<-False\n",
    "- diff\n",
    "    - 差分\n",
    "    - A.diff(NUM)\n",
    "        - NUM 差分阶数"
   ]
  },
  {
   "cell_type": "markdown",
   "id": "894cb43a",
   "metadata": {},
   "source": [
    "- merge\n",
    "    - 合并两个数据框\n",
    "    - A.merge(B, on=['l1'], how='left')\n",
    "        - on 按此键合并\n",
    "        - how \n",
    "            - inner 交集索引\n",
    "            - outer 并集索引\n",
    "            - left 左表索引\n",
    "            - right 右表索引\n",
    "        - sort 排序\n",
    "            - False 不排序->合并速度更快\n",
    "            \n",
    "- concat\n",
    "    - 拼接两个数据框\n",
    "    - pd.concat([A,B], axis=0)\n",
    "        - axis 纵向拼接<-0"
   ]
  },
  {
   "cell_type": "markdown",
   "id": "d92bec8c",
   "metadata": {},
   "source": [
    "## 数据类型转换"
   ]
  },
  {
   "cell_type": "code",
   "execution_count": null,
   "id": "0a69f1c6",
   "metadata": {},
   "outputs": [],
   "source": [
    "List = DF.tolist() # DF => List\n",
    "Array = DF.values # DF => Array\n",
    "\n",
    "DF = pd.to_datetime(DF) # DF[Str] => DF[Timestamp]\n",
    "DF = DF.astype()"
   ]
  },
  {
   "cell_type": "markdown",
   "id": "0f4314b7",
   "metadata": {},
   "source": [
    "## 绘图"
   ]
  },
  {
   "cell_type": "code",
   "execution_count": null,
   "id": "ea567a72",
   "metadata": {},
   "outputs": [],
   "source": [
    "#缺省值\n",
    "import missingno as msno\n",
    "msno.matrix(DF)\n",
    "msno.bar(DF)"
   ]
  },
  {
   "cell_type": "code",
   "execution_count": null,
   "id": "630174cd",
   "metadata": {},
   "outputs": [],
   "source": [
    "#直方图\n",
    "sns.distplot(DF)\n",
    "#分布图\n",
    "fig = sns.kdeplot(DF,color=\"Red\",shade=True)\n",
    "fig = sns.kdeplot(DF,ax=fig,color=\"Green\",shade=True)\n",
    "fig = fig.legend([\"train\",\"test\"])\n",
    "#热图\n",
    "correlation = DF.corr()\n",
    "sns.heatmap(data=correlation.round(2))\n",
    "#回归图\n",
    "sns.regplot(x=,y=,data=DF,scatter=True,fit_reg=True)\n",
    "#箱线图\n",
    "sns.boxplot(x=,y=,data=DF)\n",
    "#小提琴图\n",
    "sns.violinplot(x=,y=,data=DF)\n",
    "#柱状图\n",
    "sns.barplot(x=,y=,data=DF)\n",
    "#频数图\n",
    "sns.countplot(x=,data=DF)\n",
    "#特征相对分布\n",
    "sns.pairplot(DF[columns],size=2,kind='scatter',diag_kind='kde')"
   ]
  },
  {
   "cell_type": "code",
   "execution_count": null,
   "id": "facc3832",
   "metadata": {},
   "outputs": [],
   "source": [
    "#子图\n",
    "LIST=[FEATURES]\n",
    "def func_plot(y, **kwargs):\n",
    "    sns.PLOT(y=y)\n",
    "    \n",
    "f = pd.melt(DF,id_vars=['y'],value_vars=LIST)\n",
    "g = sns.FacetGrid(f, col=\"variable\",col_wrap=2,sharex=False,sharey=False,size=5)\n",
    "g = g.map(func_plot, \"value\", \"y\")"
   ]
  },
  {
   "cell_type": "markdown",
   "id": "895c3b3d",
   "metadata": {},
   "source": [
    "# 特征工程"
   ]
  },
  {
   "cell_type": "markdown",
   "id": "d24033b3",
   "metadata": {},
   "source": [
    "1. 异常处理：\n",
    "    - 通过箱线图（或 3-Sigma）分析删除异常值；\n",
    "    - BOX-COX 转换（处理有偏分布）；\n",
    "    - 长尾截断（比直接删除异常值好）；\n",
    "2. 特征归一化/标准化：\n",
    "    - 标准化（转换为标准正态分布）；\n",
    "    - 归一化（抓换到 [0,1] 区间）；\n",
    "    - 针对幂律分布，可以采用公式： $log(\\frac{1+x}{1+median})$\n",
    "3. 缺失值处理：\n",
    "    - 不处理（针对类似 XGBoost 等树模型）；\n",
    "    - 删除（缺失数据太多）；\n",
    "    - 插值补全，包括均值/中位数/众数/建模预测/多重插补/压缩感知补全/矩阵补全等；\n",
    "    - 分箱，缺失值一个箱；\n",
    "4. 特征构造：\n",
    "    - 构造统计量特征，报告计数、求和、比例、标准差等；\n",
    "    - 时间特征，包括相对时间和绝对时间，节假日，双休日等；\n",
    "    - 地理信息，包括分箱，分布编码等方法；等频分桶、等距分桶、Best-KS 分桶、卡方分桶；\n",
    "    - 非线性变换，包括 log/ 平方/ 根号等；\n",
    "    - 特征组合，特征交叉。\n",
    "5. 特征筛选\n",
    "    - 过滤式（filter）：先对数据进行特征选择，然后在训练学习器，常见的方法有 Relief/方差选择发/相关系数法/卡方检验法/互信息法；\n",
    "    - 包裹式（wrapper）：直接把最终将要使用的学习器的性能作为特征子集的评价准则，常见方法有 LVM（Las Vegas Wrapper） ；\n",
    "    - 嵌入式（embedding）：结合过滤式和包裹式，学习器训练过程中自动进行了特征选择，常见的有 lasso 回归；\n",
    "6. 降维\n",
    "    - PCA/ LDA/ ICA；\n",
    "    - 特征选择也是一种降维。"
   ]
  },
  {
   "cell_type": "markdown",
   "id": "2ee9edc8",
   "metadata": {},
   "source": [
    "- 数据长短特征\n",
    "    - 数据过长->超过模型表征范围\n",
    "    - 数据过短->标签无法准确给定（关键信息存在数据中的部分位置）\n",
    "    - Solution：分组+排序（平均/求和）\n",
    "\n",
    "- 数据正负样本是否均衡\n",
    "\n",
    "- 训练集和测试集的分布重合度\n",
    "\n",
    "- 特征个数\n",
    "    - 特征数量过多\n",
    "        - Solution：PCA\n",
    "        \n",
    "- 是否为时序信息\n",
    "    - 滑动窗口的选取\n",
    "    - 测试集的预测\n",
    "        - Solution：\n",
    "            - 1.测试集第1天使用训练集的倒数windows个样本来预测；测试集第2天使用训练集倒数windows-1个样本以及第1天预测值来预测\n",
    "            - 2.LSTM建模：序列->序列\n",
    "    \n",
    "- 样本量大小\n",
    "    - 样本量过小->容易过拟合\n",
    "        - Solution：数据增强"
   ]
  },
  {
   "cell_type": "markdown",
   "id": "c345592d",
   "metadata": {},
   "source": [
    "## 异常处理"
   ]
  },
  {
   "cell_type": "code",
   "execution_count": null,
   "id": "e0f49328",
   "metadata": {},
   "outputs": [],
   "source": [
    "def outliers_proc(data, col_name, scale=3):\n",
    "    \"\"\"\n",
    "    用于清洗异常值，默认用 box_plot（scale=3）进行清洗\n",
    "    :param data: 接收 pandas 数据格式\n",
    "    :param col_name: pandas 列名\n",
    "    :param scale: 尺度\n",
    "    :return:\n",
    "    \"\"\"\n",
    "\n",
    "    def box_plot_outliers(data_ser, box_scale):\n",
    "        \"\"\"\n",
    "        利用箱线图去除异常值\n",
    "        :param data_ser: 接收 pandas.Series 数据格式\n",
    "        :param box_scale: 箱线图尺度，\n",
    "        :return:\n",
    "        \"\"\"\n",
    "        iqr = box_scale * (data_ser.quantile(0.75) - data_ser.quantile(0.25))\n",
    "        val_low = data_ser.quantile(0.25) - iqr\n",
    "        val_up = data_ser.quantile(0.75) + iqr\n",
    "        rule_low = (data_ser < val_low)\n",
    "        rule_up = (data_ser > val_up)\n",
    "        return (rule_low, rule_up), (val_low, val_up)\n",
    "\n",
    "    data_n = data.copy()\n",
    "    data_series = data_n[col_name]\n",
    "    rule, value = box_plot_outliers(data_series, box_scale=scale)\n",
    "    index = np.arange(data_series.shape[0])[rule[0] | rule[1]]\n",
    "    print(\"Delete number is: {}\".format(len(index)))\n",
    "    data_n = data_n.drop(index)\n",
    "    data_n.reset_index(drop=True, inplace=True)\n",
    "    print(\"Now column number is: {}\".format(data_n.shape[0]))\n",
    "    index_low = np.arange(data_series.shape[0])[rule[0]]\n",
    "    outliers = data_series.iloc[index_low]\n",
    "    print(\"Description of data less than the lower bound is:\")\n",
    "    print(pd.Series(outliers).describe())\n",
    "    index_up = np.arange(data_series.shape[0])[rule[1]]\n",
    "    outliers = data_series.iloc[index_up]\n",
    "    print(\"Description of data larger than the upper bound is:\")\n",
    "    print(pd.Series(outliers).describe())\n",
    "    \n",
    "    fig, ax = plt.subplots(1, 2, figsize=(10, 7))\n",
    "    sns.boxplot(y=data[col_name], data=data, palette=\"Set1\", ax=ax[0])\n",
    "    sns.boxplot(y=data_n[col_name], data=data_n, palette=\"Set1\", ax=ax[1])\n",
    "    return data_n"
   ]
  },
  {
   "cell_type": "code",
   "execution_count": null,
   "id": "89c037cb",
   "metadata": {},
   "outputs": [],
   "source": [
    "#长尾截断\n",
    "A['l1'][A['l1'] < np.quantile(A['l1'], 0.9)]"
   ]
  },
  {
   "cell_type": "markdown",
   "id": "ec19dc5a",
   "metadata": {},
   "source": [
    "## 特征归一化/标准化"
   ]
  },
  {
   "cell_type": "code",
   "execution_count": null,
   "id": "bbc27faa",
   "metadata": {},
   "outputs": [],
   "source": [
    "#归一化\n",
    "from sklearn.preprocessing import MinMaxScaler\n",
    "scaler = MinMaxScaler()\n",
    "A['l1'] = scaler.fit_transform(A['l1'])"
   ]
  },
  {
   "cell_type": "code",
   "execution_count": null,
   "id": "085e37b3",
   "metadata": {},
   "outputs": [],
   "source": [
    "#标准化\n",
    "from sklearn.preprocessing import MinMaxScaler\n",
    "scaler = MinMaxScaler()\n",
    "A['l1'] = scaler.fit_transform(A['l1'])"
   ]
  },
  {
   "cell_type": "markdown",
   "id": "4605f96c",
   "metadata": {},
   "source": [
    "## 特征编码"
   ]
  },
  {
   "cell_type": "code",
   "execution_count": null,
   "id": "de0bbdcc",
   "metadata": {},
   "outputs": [],
   "source": [
    "#独热编码\n",
    "from sklearn.preprocessing import OneHotEncoder\n",
    "onehot = OneHotEncoder()\n",
    "onehot.fit_transform()"
   ]
  },
  {
   "cell_type": "markdown",
   "id": "224e7683",
   "metadata": {},
   "source": [
    "## 缺失值处理"
   ]
  },
  {
   "cell_type": "code",
   "execution_count": null,
   "id": "6435bfb3",
   "metadata": {},
   "outputs": [],
   "source": []
  },
  {
   "cell_type": "markdown",
   "id": "546b009f",
   "metadata": {},
   "source": [
    "## 特征构造"
   ]
  },
  {
   "cell_type": "code",
   "execution_count": null,
   "id": "03b932c3",
   "metadata": {},
   "outputs": [],
   "source": [
    "#\n",
    "df_l1 = A.groupby(\"l1\")\n",
    "all_info = {}\n",
    "for kind, kind_data in df_l1:\n",
    "    info = {}\n",
    "    kind_data = kind_data[kind_data['l1'] > 0]\n",
    "    info['l1_amount'] = len(kind_data)\n",
    "    info['l1_max'] = kind_data.l1.max()\n",
    "    info['l1_median'] = kind_data.l1.median()\n",
    "    info['l1_min'] = kind_data.l1.min()\n",
    "    info['l1_sum'] = kind_data.l1.sum()\n",
    "    info['l1_std'] = kind_data.l1.std()\n",
    "    info['l1_mean'] = kind_data.l1.mean()\n",
    "    all_info[kind] = info\n",
    "temp = pd.DataFrame(all_info).T.reset_index().rename(columns={\"index\": \"l1\"})\n",
    "A = A.merge(temp, on='l1', how='left')"
   ]
  },
  {
   "cell_type": "code",
   "execution_count": null,
   "id": "56590076",
   "metadata": {},
   "outputs": [],
   "source": [
    "#时间间隔\n",
    "A['time_gap'] = (pd.to_datetime(A['time1'], format='%Y%m%d', errors='coerce') - \n",
    "                 pd.to_datetime(A['time2'], format='%Y%m%d', errors='coerce')).dt.days"
   ]
  },
  {
   "cell_type": "code",
   "execution_count": null,
   "id": "77724be9",
   "metadata": {},
   "outputs": [],
   "source": [
    "###########类别型#############\n",
    "##标签编码\n",
    "#方法一\n",
    "A['l1'].map(Dic)\n",
    "#方法二\n",
    "from sklearn.preprocessing import LabelEncoder\n",
    "encoder = LabelEncoder()\n",
    "encoder.fit(list(A['l1'].values))\n",
    "A['l1'] = encoder.transform(list(A['l1'].values))\n",
    "#A['l1'] = encoder.fit_transform(list(A['l1'].values))\n",
    "##one hot编码"
   ]
  },
  {
   "cell_type": "code",
   "execution_count": null,
   "id": "9f9b2bd3",
   "metadata": {},
   "outputs": [],
   "source": [
    "#分箱\n",
    "pd.qcut(A['l1'], NUM, duplicates='drop')\n",
    "\n",
    "pd.cut(A['l1'], LIST, labels=List)"
   ]
  },
  {
   "cell_type": "code",
   "execution_count": null,
   "id": "e496429e",
   "metadata": {},
   "outputs": [],
   "source": [
    "###########交叉特征################\n",
    "#特征交叉编码\n",
    "def cross_two('l1','l2'):\n",
    "    new_col=[]\n",
    "    encode=0\n",
    "    dic={}\n",
    "    val_1=A['l1']\n",
    "    val_2=A['l2']\n",
    "    for i in tqdm(range(len(val_1))):\n",
    "        tmp=str(val_1[i])+'_'+str(val_2[i])\n",
    "        if tmp in dic:\n",
    "            new_col.append(dic[tmp])\n",
    "        else:\n",
    "            dic[tmp]=encode\n",
    "            new_col.append(encode)\n",
    "            encode+=1\n",
    "    return new_col\n",
    "A['l1_l2'] = cross_two('l1','l2')\n",
    "\n",
    "#候选特征交叉\n",
    "cross_candidates = ['l1','l2','l3','l4']\n",
    "cross_lists = []\n",
    "cross_lists_tmp = []\n",
    "for can_i in cross_candidates:\n",
    "    df[can_i + '_count'] = df[can_i].map(df[can_i].value_counts(dropna=True, normalize=True))\n",
    "    for can_j in cross_candidates:\n",
    "        cross_name = can_i + '_' + can_j\n",
    "        if can_i != can_j and cross_name not in cross_lists_tmp:\n",
    "            cross_lists.append(cross_name)\n",
    "            cross_lists_tmp.append(can_i + '_' + can_j)\n",
    "            cross_lists_tmp.append(can_j + '_' + can_i)\n",
    "            df[cross_name] = df[can_i].astype(str) + '_' + df[can_j].astype(str)\n",
    "            df[cross_name + '_count'] = df[cross_name].map(df[cross_name].value_counts(dropna=True, normalize=True))\n",
    "\n",
    "#特征交叉            \n",
    "def group_feature(df,key,target):\n",
    "    tmp=df.groupby(key,as_index=False)[target].agg(\n",
    "        {key+'_'+target+'_nunique':'nunique',\n",
    "        }).reset_index().drop('index',axis=1)\n",
    "    LIST.append(key+'_'+target+'_nunique')\n",
    "    return tmp  \n",
    "group_feature(A,'l1','l2')"
   ]
  },
  {
   "cell_type": "markdown",
   "id": "d51d15e2",
   "metadata": {},
   "source": [
    "## 特征筛选"
   ]
  },
  {
   "cell_type": "code",
   "execution_count": null,
   "id": "6a596517",
   "metadata": {},
   "outputs": [],
   "source": [
    "############过滤法###############\n",
    "#相关性分析\n",
    "A['l1'].corr(A['y'], method='spearman')"
   ]
  },
  {
   "cell_type": "code",
   "execution_count": null,
   "id": "75e15674",
   "metadata": {},
   "outputs": [],
   "source": [
    "############包装法###############\n",
    "#顺序特征选择器\n",
    "from mlxtend.feature_selection import SequentialFeatureSelector as SFS\n",
    "from mlxtend.plotting import plot_sequential_feature_selection as plot_sfs\n",
    "from sklearn.linear_model import LinearRegression\n",
    "sfs = SFS(LinearRegression(),\n",
    "           k_features=10,\n",
    "           forward=True,\n",
    "           floating=False,\n",
    "           scoring = 'r2',\n",
    "           cv = 0)\n",
    "x = A.drop(['y'], axis=1)\n",
    "y = A['y']\n",
    "sfs.fit(x, y)\n",
    "print(sfs.k_feature_names_)\n",
    "\n",
    "fig = plot_sfs(sfs.get_metric_dict(), kind='std_dev')\n",
    "plt.grid()\n",
    "plt.show()"
   ]
  },
  {
   "cell_type": "markdown",
   "id": "ebde0ed0",
   "metadata": {},
   "source": [
    "## 降维"
   ]
  },
  {
   "cell_type": "code",
   "execution_count": null,
   "id": "c0202827",
   "metadata": {},
   "outputs": [],
   "source": [
    "#PCA\n",
    "from sklearn.decomposition import PCA\n",
    "\n",
    "pca = PCA(n_components=NUM)\n",
    "embedding = pca.fit_transform(Array)\n",
    "#接下来merge实现embedding"
   ]
  },
  {
   "cell_type": "markdown",
   "id": "b3f820c9",
   "metadata": {},
   "source": [
    "# 模型"
   ]
  },
  {
   "cell_type": "markdown",
   "id": "7b9839cb",
   "metadata": {},
   "source": [
    "## 机器学习模型"
   ]
  },
  {
   "cell_type": "markdown",
   "id": "b496b3a2",
   "metadata": {},
   "source": [
    "### XGBoost"
   ]
  },
  {
   "cell_type": "markdown",
   "id": "04ad92ab",
   "metadata": {},
   "source": [
    "https://xgboost.readthedocs.io/en/stable/#"
   ]
  },
  {
   "cell_type": "code",
   "execution_count": null,
   "id": "1b37ccc6",
   "metadata": {},
   "outputs": [],
   "source": [
    "import xgboost as xgb\n",
    "params = {\n",
    "    'max_depth':7,\n",
    "    'learning_rate':0.05,\n",
    "    'n_estimators':55,\n",
    "    'reg_alpha':0.005,\n",
    "    'n_jobs':8,\n",
    "    'importance_type':'total_cover'\n",
    "}\n",
    "MODEL = xgb.XGBClassifier(**params)\n",
    "MODEL.fit(x_train,y_train)\n",
    "y_pred = MODEL.predict(x_test)\n",
    "score = SCORE(y_test, y_pred)"
   ]
  },
  {
   "cell_type": "markdown",
   "id": "8a4a7c7f",
   "metadata": {},
   "source": [
    "### LightGBM"
   ]
  },
  {
   "cell_type": "markdown",
   "id": "cd736c9c",
   "metadata": {},
   "source": [
    "- LightGBM 调参次序：\n",
    "    - 第一步：\n",
    "        - 学习率learning_rate  (0.01, 0.2)\n",
    "        - 迭代次数n_estimators (100, 300)\n",
    "    - 第二步：\n",
    "        - 最大深度max_depth    (1, 20)\n",
    "        - 叶子个数num_leaves   (10,300)\n",
    "    - 第三步：\n",
    "        - min_child_samples   (10, 20)\n",
    "        - min_split_gain      (0.0, 1.0)\n",
    "    - 第四步：\n",
    "        - colsample_bytree    (0.5, 1.0)\n",
    "        - subsample           (0.5, 1.0)\n",
    "    - 第五步：\n",
    "        - reg_alpha           (1e-3, 1.0)\n",
    "        - reg_lambda          (1e-3, 1.0)\n",
    "    - 第六步：\n",
    "        - 降低学习率，增加迭代次数"
   ]
  },
  {
   "cell_type": "code",
   "execution_count": null,
   "id": "7aef4d32",
   "metadata": {},
   "outputs": [],
   "source": [
    "params = {\n",
    "    'boosting_type': 'gbdt',\n",
    "    'objective': 'binary',\n",
    "    'metrics':'auc',\n",
    "    'feature_fraction': 0.8,\n",
    "    'bagging_fraction': 0.8,\n",
    "    'learning_rate': 0.05, # 学习率 \n",
    "    'num_class': 1,\n",
    "    'verbose': -1,\n",
    "    'boost_from_average': True,\n",
    "    'train_metric': True,\n",
    "    'is_unbalance': True,  # 当训练数据是不平衡的，正负样本相差悬殊的时候，可以将这个属性设为true,此时会自动给少的样本赋予更高的权重\n",
    "    'num_leaves': 256,  # 叶子个数\n",
    "    'max_depth': -1,  # 最大深度\n",
    "    'min_child_samples': 15,  # 每个叶子结点最少包含的样本数量，用于正则化，避免过拟合\n",
    "    'max_bin': 200,  # 设置连续特征或大量类型的离散特征的bins的数量\n",
    "    'subsample': 1,  # Subsample ratio of the training instance.\n",
    "    'subsample_freq': 1,  # frequence of subsample, <=0 means no enable\n",
    "    'colsample_bytree': 0.5,  # Subsample ratio of columns when constructing each tree.\n",
    "    'min_child_weight': 0,  # Minimum sum of instance weight(hessian) needed in a child(leaf)\n",
    "    'subsample_for_bin': 200000,  # Number of samples for constructing bin\n",
    "    'min_split_gain': 0,  # lambda_l1, lambda_l2 and min_gain_to_split to regularization\n",
    "    'reg_alpha': 2.99,  # L1 正则化\n",
    "    'reg_lambda': 1.9,  # L2 正则化\n",
    "    'nthread': 12,      # 线程\n",
    "    'force_row_wise':True\n",
    "}"
   ]
  },
  {
   "cell_type": "code",
   "execution_count": null,
   "id": "43364323",
   "metadata": {},
   "outputs": [],
   "source": [
    "import lightgbm as lgb\n",
    "\n",
    "params = {\n",
    "    'num_leaves': 128,\n",
    "    'learning_rate': 0.01,\n",
    "    'verbose': -1,\n",
    "    'metric': 'auc',\n",
    "    'reg_alpha': 0.1,\n",
    "    'reg_lambda': 0.1,\n",
    "    'min_child_weight': 30,\n",
    "    'n_jobs': 20,\n",
    "}\n",
    "n_estimators = 10000 # 迭代次数\n",
    "num_round = 4000\n",
    "\n",
    "#######方法一#######\n",
    "x_train,x_test,y_train,y_test=train_test_split(train_data,target,test_size=0.2,random_state=0)\n",
    "train_mat = lgb.Dataset(x_train, label=y_train)\n",
    "test_mat = lgb.Dataset(x_test, label=y_test)\n",
    "MODEL = lgb.train(params,train_mat,num_round = num_round,valid_sets=test_mat,verbose_eval=200)\n",
    "print(\"\\n\".join((\"%s: %.2f\" % x) for x in list(sorted(zip(predictors, model.feature_importance(\"gain\")),key=lambda x: x[1],reverse=True))[:10]))\n",
    "y_pred = MODEL.predict(x_test, num_iteration=MODEL.best_iteration)\n",
    "score = SCORE(y_test,y_pred)\n",
    "\n",
    "#######方法二#######\n",
    "MODEL = lgb.LGBMRegressor(**params)\n",
    "MODEL.fit(x_train,y_train)\n",
    "y_pred = MODEL.predict(x_test)\n",
    "score = SCORE(y_test, y_pred)"
   ]
  },
  {
   "cell_type": "code",
   "execution_count": null,
   "id": "a05ed248",
   "metadata": {},
   "outputs": [],
   "source": [
    "# 特征重要值\n",
    "plt.figure(figsize=(18,9))\n",
    "lgb.plot_importance(MODEL, max_num_features=10)\n",
    "plt.show()\n",
    "importance=pd.DataFrame({\n",
    "        'column': x_train.columns,\n",
    "        'importance': MODEL.booster_.feature_importance(),\n",
    "    }).sort_values(by='importance')\n",
    "importance=importance.reset_index(drop=True)\n",
    "importance['column'].values[10:]"
   ]
  },
  {
   "cell_type": "markdown",
   "id": "2d1fce29",
   "metadata": {},
   "source": [
    "### CatBoost"
   ]
  },
  {
   "cell_type": "markdown",
   "id": "01422b5f",
   "metadata": {},
   "source": [
    "https://catboost.ai/en/docs/"
   ]
  },
  {
   "cell_type": "markdown",
   "id": "49c67e0d",
   "metadata": {},
   "source": [
    "## 模型验证"
   ]
  },
  {
   "cell_type": "markdown",
   "id": "f0d72342",
   "metadata": {},
   "source": [
    "### 留出法"
   ]
  },
  {
   "cell_type": "code",
   "execution_count": null,
   "id": "7d7a6a21",
   "metadata": {},
   "outputs": [],
   "source": [
    "from sklearn.model_selection import train_test_split\n",
    "\n",
    "x_train,x_val,y_train,y_val=train_test_split(data_train,label_train,\n",
    "                                             test_size=0.2, shuffle=True, \n",
    "                                             random_state=1, stratify=label_train)"
   ]
  },
  {
   "cell_type": "markdown",
   "id": "03e2b1bb",
   "metadata": {},
   "source": [
    "### K折"
   ]
  },
  {
   "cell_type": "code",
   "execution_count": null,
   "id": "4cecce83",
   "metadata": {},
   "outputs": [],
   "source": [
    "#KFlod类\n",
    "from sklearn.model_selection import KFold\n",
    "\n",
    "kf = KFold(n_splits= NUM, random_state=0)"
   ]
  },
  {
   "cell_type": "code",
   "execution_count": null,
   "id": "d7cd35bf",
   "metadata": {},
   "outputs": [],
   "source": [
    "#StratifiedKFold类\n",
    "from sklearn.model_selection import StratifiedKFold\n",
    "\n",
    "skf = StratifiedKFold(n_splits=NUM, shuffle=True, random_state=0)\n",
    "for train_idx, val_idx in skf.split(train, label):\n",
    "    x_train = train.iloc[train_idx]\n",
    "    y_train = label.iloc[train_idx]\n",
    "    x_val = train.iloc[val_idx]\n",
    "    y_val = label.iloc[val_idx]"
   ]
  },
  {
   "cell_type": "code",
   "execution_count": null,
   "id": "cc3b7165",
   "metadata": {},
   "outputs": [],
   "source": [
    "def SKFold(model,train,label):\n",
    "    score=0\n",
    "    score_train=0\n",
    "    skf = StratifiedKFold(n_splits=NUM, shuffle=True, random_state=0)\n",
    "    for train_idx, val_idx in skf.split(train, label):\n",
    "        x_train = train.iloc[train_idx]\n",
    "        y_train = label.iloc[train_idx]\n",
    "        x_val = train.iloc[val_idx]\n",
    "        y_val = label.iloc[val_idx]\n",
    "\n",
    "        model.fit(x_train, y_train)\n",
    "        \n",
    "        y_pred = model.predict(x_val)\n",
    "        weigted_score =  SCORE(y_val,y_pred)\n",
    "        score+=weigted_score/n_splits\n",
    "        \n",
    "        y_pred_train = model.predict(x_train)\n",
    "        weigted_score_train = SCORE(y_train,y_pred_train)\n",
    "        score_train+=weigted_score_train/n_splits\n",
    "    return score"
   ]
  },
  {
   "cell_type": "markdown",
   "id": "6eb60344",
   "metadata": {},
   "source": [
    "### 时序"
   ]
  },
  {
   "cell_type": "code",
   "execution_count": null,
   "id": "1e5be3ad",
   "metadata": {},
   "outputs": [],
   "source": [
    "#按时间顺序划分\n",
    "split_point = len(A) // 5 * 4\n",
    "train = A.loc[:split_point].dropna()\n",
    "val = A.loc[split_point:].dropna()"
   ]
  },
  {
   "cell_type": "code",
   "execution_count": null,
   "id": "f71287c6",
   "metadata": {},
   "outputs": [],
   "source": [
    "#######滑动窗口########"
   ]
  },
  {
   "cell_type": "markdown",
   "id": "130f45f7",
   "metadata": {},
   "source": [
    "## 模型评估"
   ]
  },
  {
   "cell_type": "markdown",
   "id": "aaf99f59",
   "metadata": {},
   "source": [
    "### 评估函数"
   ]
  },
  {
   "cell_type": "markdown",
   "id": "4090d5db",
   "metadata": {},
   "source": [
    "- from sklearn.metrics import --------\n",
    "    - 分类\n",
    "        - confusion_matrix\n",
    "            - 混淆矩阵\n",
    "        - accuracy_score\n",
    "            - 准确度\n",
    "        - precision_score\n",
    "            - 精确度\n",
    "        - recall_score\n",
    "            - 召回率\n",
    "        - f1_score\n",
    "            - f1得分\n",
    "        - fbeta_score\n",
    "            - fbeta得分\n",
    "            - f=((1+b^2)*pr)/(b^2*p+r)\n",
    "        - roc_auc_score\n",
    "            - roc曲线auc面积得分\n",
    "        - roc_curve\n",
    "            - 计算ROC曲线的横纵坐标值\n",
    "        - log_loss\n",
    "            - 交叉熵损失\n",
    "        - classification_report\n",
    "            - 分类结果分析\n",
    "        - precision_recall_fscore_support\n",
    "            - 分类结果集成\n",
    "\n",
    "    - 回归\n",
    "        - mean_squared_error\n",
    "            - 均方误差\n",
    "        - r2_score\n",
    "            - 决定系数\n",
    "        - mean_absolute_error\n",
    "            - 平均绝对误差\n",
    "        - mape\n",
    "            - 平均绝对百分误差"
   ]
  },
  {
   "cell_type": "markdown",
   "id": "a3f37b79",
   "metadata": {},
   "source": [
    "1、混淆矩阵（Confuse Matrix）\n",
    "- （1）若一个实例是正类，并且被预测为正类，即为真正类TP(True Positive )\n",
    "- （2）若一个实例是正类，但是被预测为负类，即为假负类FN(False Negative )\n",
    "- （3）若一个实例是负类，但是被预测为正类，即为假正类FP(False Positive )\n",
    "- （4）若一个实例是负类，并且被预测为负类，即为真负类TN(True Negative )\n",
    "\n",
    "2、准确率（Accuracy）\n",
    "准确率是常用的一个评价指标，但是不适合样本不均衡的情况。\n",
    "$$Accuracy = \\frac{TP + TN}{TP + TN + FP + FN}$$\n",
    "\n",
    "3、精确率（Precision）\n",
    "又称查准率，正确预测为正样本（TP）占预测为正样本(TP+FP)的百分比。\n",
    "$$Precision = \\frac{TP}{TP + FP}$$\n",
    "\n",
    "4、召回率（Recall）\n",
    "又称为查全率，正确预测为正样本（TP）占正样本(TP+FN)的百分比。\n",
    "$$Recall = \\frac{TP}{TP + FN}$$\n",
    "\n",
    "5、F1 Score\n",
    "精确率和召回率是相互影响的，精确率升高则召回率下降，召回率升高则精确率下降，如果需要兼顾二者，就需要精确率、召回率的结合F1 Score。\n",
    "$$F1-Score = \\frac{2}{\\frac{1}{Precision} + \\frac{1}{Recall}}$$\n",
    "\n",
    "6、P-R曲线（Precision-Recall Curve）\n",
    "P-R曲线是描述精确率和召回率变化的曲线\n",
    "\n",
    " <img src=\"https://img-blog.csdnimg.cn/20200913010226125.png\" width = \"300\" height = \"300\" alt=\"p-r\" align=center />\n",
    "\n",
    "\n",
    "7、ROC（Receiver Operating Characteristic）\n",
    "- ROC空间将假正例率（FPR）定义为 X 轴，真正例率（TPR）定义为 Y 轴。\n",
    "\n",
    "TPR：在所有实际为正例的样本中，被正确地判断为正例之比率。\n",
    "$$TPR = \\frac{TP}{TP + FN}$$\n",
    "FPR：在所有实际为负例的样本中，被错误地判断为正例之比率。\n",
    "$$FPR = \\frac{FP}{FP + TN}$$\n",
    "![roc.png](https://img-blog.csdnimg.cn/20200913010226124.png)\n",
    "8、AUC(Area Under Curve)\n",
    "AUC（Area Under Curve）被定义为\tROC曲线\t下与坐标轴围成的面积，显然这个面积的数值不会大于1。又由于ROC曲线一般都处于y=x这条直线的上方，所以AUC的取值范围在0.5和1之间。AUC越接近1.0，检测方法真实性越高;等于0.5时，则真实性最低，无应用价值。\n",
    "\n"
   ]
  },
  {
   "cell_type": "markdown",
   "id": "96b8f715",
   "metadata": {},
   "source": [
    "1、KS(Kolmogorov-Smirnov)\n",
    "KS统计量由两位苏联数学家A.N. Kolmogorov和N.V. Smirnov提出。在风控中，KS常用于评估模型区分度。区分度越大，说明模型的风险排序能力（ranking ability）越强。\n",
    "K-S曲线与ROC曲线类似，不同在于\n",
    "- ROC曲线将真正例率和假正例率作为横纵轴\n",
    "- K-S曲线将真正例率和假正例率都作为纵轴，横轴则由选定的阈值来充当。\n",
    "公式如下：\n",
    "$$KS=max(TPR-FPR)$$\n",
    "KS不同代表的不同情况，一般情况KS值越大，模型的区分能力越强，但是也不是越大模型效果就越好，如果KS过大，模型可能存在异常，所以当KS值过高可能需要检查模型是否过拟合。以下为KS值对应的模型情况，但此对应不是唯一的，只代表大致趋势。\n",
    "\n",
    "\n",
    "| KS（%） |     好坏区分能力     |\n",
    "| :-----: | :------------------: |\n",
    "| 20以下  |      不建议采用      |\n",
    "|  20-40  |         较好         |\n",
    "|  41-50  |         良好         |\n",
    "|  51-60  |         很强         |\n",
    "|  61-75  |        非常强        |\n",
    "| 75以上  | 过于高，疑似存在问题 |\n",
    "\n",
    "2、ROC\n",
    "\n",
    "3、AUC"
   ]
  },
  {
   "cell_type": "markdown",
   "id": "145c170d",
   "metadata": {},
   "source": [
    "### 过拟合"
   ]
  },
  {
   "cell_type": "markdown",
   "id": "3905d1b7",
   "metadata": {},
   "source": [
    "#### TRICK：对抗验证"
   ]
  },
  {
   "cell_type": "code",
   "execution_count": null,
   "id": "330c0af9",
   "metadata": {},
   "outputs": [],
   "source": [
    "df_train = train_data.copy()\n",
    "df_test = test_data.copy()\n",
    "df_train['target'] = 0\n",
    "df_test['target'] = 1\n",
    "df_all = pd.concat([df_train, df_test], axis=0)\n",
    "target = df_all['target'].values\n",
    "\n",
    "params = {\n",
    "    'num_leaves': 50,\n",
    "    'objective':'binary',\n",
    "    'max_depth': 5,\n",
    "    'learning_rate': 0.001,\n",
    "    \"boosting\": \"gbdt\",\n",
    "    \"metric\": 'auc',\n",
    "}\n",
    "\n",
    "folds = KFold(n_splits=5, shuffle=True, random_state=0)\n",
    "#out of fold\n",
    "oof = np.zeros(len(df_all))\n",
    "\n",
    "for fold_, (train_idx, val_idx) in enumerate(folds.split(df_all.values, target)):\n",
    "    print(\"fold {}\".format(fold_+1))\n",
    "    kf_train = lgb.Dataset(df_all.iloc[train_idx][FEATURES], label=target[train_idx])\n",
    "    kf_val = lgb.Dataset(df_all.iloc[val_idx][FEATURES], label=target[val_idx])\n",
    "\n",
    "    num_round = 1000\n",
    "    clf = lgb.train(params, kf_train, num_round, valid_sets = [kf_train, kf_val], verbose_eval=100, early_stopping_rounds = 100)\n",
    "    oof[val_idx] = clf.predict(df_all.iloc[val_idx][FEATURES], num_iteration=clf.best_iteration)\n",
    "print(\"finished!\")\n",
    "\n",
    "threshold = NUM\n",
    "df_all['adver'] = oof\n",
    "df_all['target'][df_all['adver']>threshold] = 1\n",
    "df_all['target'][df_all['adver']<=threshold] = 0\n",
    "train_data['target'] = df_all[:train_data.shape[0]]['target']\n",
    "print(train_data['target'].value_counts())\n",
    "train_data[['id', 'target']].to_csv('adver.csv', index=False)\n",
    "\n",
    "adver = pd.read_csv('adver.csv')\n",
    "train_data.drop(['target'],inplace=True,axis=1)\n",
    "train_data = train_data.merge(adver, how='inner', on='id')"
   ]
  },
  {
   "cell_type": "markdown",
   "id": "f14e3238",
   "metadata": {},
   "source": [
    "## 模型调参"
   ]
  },
  {
   "cell_type": "markdown",
   "id": "fe3ca454",
   "metadata": {},
   "source": [
    "### 学习曲线"
   ]
  },
  {
   "cell_type": "code",
   "execution_count": null,
   "id": "b54fc198",
   "metadata": {},
   "outputs": [],
   "source": [
    "from sklearn.model_selection import learning_curve, validation_curve\n",
    "def plot_learning_curve(estimator, title, X, y, ylim=None, cv=None,n_jobs=1, train_size=np.linspace(.1, 1.0, 5 )):  \n",
    "    plt.figure()  \n",
    "    plt.title(title)  \n",
    "    if ylim is not None:  \n",
    "        plt.ylim(*ylim)  \n",
    "    plt.xlabel('Training example')  \n",
    "    plt.ylabel('score')  \n",
    "    train_sizes, train_scores, test_scores = learning_curve(estimator, X, y, cv=cv, n_jobs=n_jobs, train_sizes=train_size, scoring = make_scorer(mean_absolute_error))  \n",
    "    train_scores_mean = np.mean(train_scores, axis=1)  \n",
    "    train_scores_std = np.std(train_scores, axis=1)  \n",
    "    test_scores_mean = np.mean(test_scores, axis=1)  \n",
    "    test_scores_std = np.std(test_scores, axis=1)  \n",
    "    plt.grid()#区域  \n",
    "    plt.fill_between(train_sizes, train_scores_mean - train_scores_std,  \n",
    "                     train_scores_mean + train_scores_std, alpha=0.1,  \n",
    "                     color=\"r\")  \n",
    "    plt.fill_between(train_sizes, test_scores_mean - test_scores_std,  \n",
    "                     test_scores_mean + test_scores_std, alpha=0.1,  \n",
    "                     color=\"g\")  \n",
    "    plt.plot(train_sizes, train_scores_mean, 'o-', color='r',  \n",
    "             label=\"Training score\")  \n",
    "    plt.plot(train_sizes, test_scores_mean,'o-',color=\"g\",  \n",
    "             label=\"Cross-validation score\")  \n",
    "    plt.legend(loc=\"best\")  \n",
    "    return plt  \n",
    "plot_learning_curve(LinearRegression(), 'Liner_model', train_X[:1000], train_y_ln[:1000], ylim=(0.0, 0.5), cv=5, n_jobs=1)  "
   ]
  },
  {
   "cell_type": "markdown",
   "id": "e5404b63",
   "metadata": {},
   "source": [
    "### 网格搜索"
   ]
  },
  {
   "cell_type": "code",
   "execution_count": null,
   "id": "d34a8936",
   "metadata": {},
   "outputs": [],
   "source": [
    "from sklearn.model_selection import GridSearchCV\n",
    "\n",
    "params = {\n",
    "    'n_estimators':[20, 50, 100],\n",
    "    'max_depth':[1, 2, 3]\n",
    "}\n",
    "clf = GridSearchCV(MODEL, params, cv=3, verbose=2)\n",
    "clf.fit(x_train, y_train)\n",
    "y_pred = clf.predict(x_test)\n",
    "score = SCORE(y_test, y_pred)\n",
    "\n",
    "print(\"test_score:\", score)\n",
    "\n",
    "print(\"最优参数:\")\n",
    "print(clf.best_params_)"
   ]
  },
  {
   "cell_type": "markdown",
   "id": "e61af8ea",
   "metadata": {},
   "source": [
    "### 贝叶斯调参"
   ]
  },
  {
   "cell_type": "code",
   "execution_count": null,
   "id": "01f9dfea",
   "metadata": {},
   "outputs": [],
   "source": [
    "from bayes_opt import BayesianOptimization\n",
    "\n",
    "#目标函数\n",
    "def FUNC(learning_rate, n_estimators, max_depth):\n",
    "    clf = GradientBoostingClassifier(\n",
    "        learning_rate=learning_rate,\n",
    "        n_estimators=n_estimators, \n",
    "        max_depth=max_depth\n",
    "    )\n",
    "    clf.fit(x_train, y_train)\n",
    "    y_pred = clf.predict(x_test)\n",
    "    return SCORE(y_test, y_pred)\n",
    "    \n",
    "#参数空间范围\n",
    "pbounds = {\n",
    "    'learning_rate': (0.01, 0.3),\n",
    "    'n_estimators': (100, 300),\n",
    "    'max_depth': (6, 12), \n",
    "}\n",
    "\n",
    "optimizer = BayesianOptimization(\n",
    "    f=FUNC,\n",
    "    pbounds=pbounds,\n",
    "    random_state=0,\n",
    ")\n",
    "\n",
    "optimizer.maximize()\n",
    "\n",
    "print(\"最优参数:\")\n",
    "print(optimizer.max)"
   ]
  },
  {
   "cell_type": "markdown",
   "id": "43c7218e",
   "metadata": {},
   "source": [
    "## Trick"
   ]
  },
  {
   "cell_type": "markdown",
   "id": "dce7e929",
   "metadata": {},
   "source": [
    "### scheduler策略——学习率调整"
   ]
  },
  {
   "cell_type": "code",
   "execution_count": null,
   "id": "13ae105b",
   "metadata": {},
   "outputs": [],
   "source": [
    "import torch.optim as optim\n",
    "from torch.optim import lr_scheduler\n",
    "\n",
    "#1.StepLR:每过step_size个epoch，做一次更新\n",
    "optimizer = optim.Adam(MODEL.parameters(), lr=0.1)\n",
    "scheduler = lr_scheduler.StepLR(optimizer, step_size=3, gamma=0.1)\n",
    "for epoch in range(num_epochs):\n",
    "    # [train]\n",
    "    optimizer.zero_grad()\n",
    "    optimizer.step()\n",
    "    print(\"第%d个epoch的学习率：%f\" % (epoch, optimizer.param_groups[0]['lr']))\n",
    "    scheduler.step()\n",
    "    \n",
    "#2.MultiStepLR:每次遇到milestones中的epoch，做一次更新\n",
    "optimizer = optim.Adam(MODEL.parameters(), lr=0.1)\n",
    "scheduler = lr_scheduler.MultiStepLR(optimizer, milestones=[3, 7], gamma=0.1)\n",
    "\n",
    "#3.ExponentialLR:每个epoch都做一次更新\n",
    "optimizer = optim.Adam(MODEL.parameters(), lr=0.1)\n",
    "scheduler = lr_scheduler.MultiStepLR(optimizer, gamma=0.1)\n",
    "\n",
    "#4.CosineAnnealingLR:让lr随着epoch的变化图类似于cos函数\n",
    "optimizer = optim.Adam(MODEL.parameters(), lr=0.1)\n",
    "scheduler = lr_scheduler.CosineAnnealingLR(optimizer, T_max=20)"
   ]
  },
  {
   "cell_type": "code",
   "execution_count": null,
   "id": "09f505f2",
   "metadata": {},
   "outputs": [],
   "source": [
    "#余弦预热\n",
    "from torch.optim.lr_scheduler import LambdaLR\n",
    "\n",
    "def warm_up(warm_up_epochs=NUM):\n",
    "    warm_up_with_cosine_lr = lambda epoch: (epoch+1)/warm_up_epochs if epoch<warm_up_epochs \\\n",
    "        else 0.5*(math.cos((epoch-warm_up_epochs)/(max_num_epochs-warm_up_epochs)*math.pi)+1)\n",
    "    return warm_up_with_cosine_lr\n",
    "\n",
    "scheduler = lr_scheduler.LambdaLR(optimizer,lr_lambda=warm_up(NUM))"
   ]
  },
  {
   "cell_type": "markdown",
   "id": "2c8e632e",
   "metadata": {},
   "source": [
    "### HPO自动调参——模型调参"
   ]
  },
  {
   "cell_type": "markdown",
   "id": "d0c6acc3",
   "metadata": {},
   "source": [
    "#### HEBO"
   ]
  },
  {
   "cell_type": "code",
   "execution_count": null,
   "id": "b2146c17",
   "metadata": {},
   "outputs": [],
   "source": [
    "from sklearn.datasets import load_boston\n",
    "from sklearn.ensemble import RandomForestRegressor\n",
    "from sklearn.metrics import r2_score, mean_squared_error\n",
    "from hebo.sklearn_tuner import sklearn_tuner\n",
    "space_cfg = [\n",
    "        {'name' : 'max_depth',        'type' : 'int', 'lb' : 1, 'ub' : 20},\n",
    "        {'name' : 'min_samples_leaf', 'type' : 'pow', 'lb' : 1e-4, 'ub' : 0.5},\n",
    "        {'name' : 'max_features',     'type' : 'cat', 'categories' : ['auto', 'sqrt', 'log2']},\n",
    "        {'name' : 'bootstrap',        'type' : 'bool'},\n",
    "        {'name' : 'min_impurity_decrease', 'type' : 'pow', 'lb' : 1e-4, 'ub' : 1.0},\n",
    "        ]\n",
    "X, y   = load_boston(return_X_y = True)\n",
    "result = sklearn_tuner(RandomForestRegressor, space_cfg, X, y, metric = r2_score, max_iter = 16)"
   ]
  },
  {
   "cell_type": "markdown",
   "id": "4b1fed50",
   "metadata": {},
   "source": [
    "#### Open-Box"
   ]
  },
  {
   "cell_type": "code",
   "execution_count": null,
   "id": "067e2049",
   "metadata": {},
   "outputs": [],
   "source": [
    "import numpy as np\n",
    "from openbox import Optimizer, sp\n",
    "\n",
    "# Define Search Space\n",
    "space = sp.Space()\n",
    "x1 = sp.Real(\"x1\", -5, 10, default_value=0)\n",
    "x2 = sp.Real(\"x2\", 0, 15, default_value=0)\n",
    "space.add_variables([x1, x2])\n",
    "\n",
    "# Define Objective Function\n",
    "def branin(config):\n",
    "    x1, x2 = config['x1'], config['x2']\n",
    "    y = (x2-5.1/(4*np.pi**2)*x1**2+5/np.pi*x1-6)**2+10*(1-1/(8*np.pi))*np.cos(x1)+10\n",
    "    return y\n",
    "\n",
    "# Run\n",
    "if __name__ == '__main__':\n",
    "    opt = Optimizer(branin, space, max_runs=50, task_id='quick_start')\n",
    "    history = opt.run()\n",
    "    print(history)"
   ]
  },
  {
   "cell_type": "markdown",
   "id": "33a27c5f",
   "metadata": {},
   "source": [
    "### 数据增强"
   ]
  },
  {
   "cell_type": "code",
   "execution_count": null,
   "id": "33b6e1d4",
   "metadata": {},
   "outputs": [],
   "source": [
    "from torchvision import transforms as T\n",
    "#train\n",
    "self.transforms = T.Compose([  \n",
    "                T.Resize((input_size,input_size)),  \n",
    "                T.RandomHorizontalFlip(p=0.5),  \n",
    "                T.RandomVerticalFlip(p=0.25),  \n",
    "                T.RandomRotation(degrees=(-20,20)),\n",
    "                transforms.ColorJitter(0.2,0.2),  \n",
    "                transforms.ToTensor(),  \n",
    "                transforms.Normalize(mean=(0.5, 0.5, 0.5), std=(0.5, 0.5, 0.5))\n",
    "            ])\n",
    "#test\n",
    "#1.不做数据增强\n",
    "infer_transforms=transforms.Compose([  \n",
    "                transforms.Resize((opt.input_size,opt.input_size)),  \n",
    "                transforms.ToTensor(),  \n",
    "                transforms.Normalize(mean=(0.5, 0.5, 0.5), std=(0.5, 0.5, 0.5))  \n",
    "            ])\n",
    "#2.TTA（测试时数据增强）"
   ]
  },
  {
   "cell_type": "markdown",
   "id": "f1753a5c",
   "metadata": {},
   "source": [
    "### 标签平滑"
   ]
  },
  {
   "cell_type": "markdown",
   "id": "beec075e",
   "metadata": {},
   "source": [
    "### nullImportance——特征筛选"
   ]
  },
  {
   "cell_type": "code",
   "execution_count": null,
   "id": "91e4c6bf",
   "metadata": {},
   "outputs": [],
   "source": [
    "#核心思想就是打乱数据标签，训练树模型，得到重要度，该过程可以训练多轮，然后将得到的重要度和为未打乱的数据训练得到的重要度进行一个比较。\n",
    "#如果一个特征在打乱前重要度和打乱后的重要性差距很大，说明这是一个重要且靠谱的特征。\n",
    "def nullImportant(df_train,features):\n",
    "    #未打乱重要性\n",
    "    train=df_train[features]\n",
    "    target=df_train['y']\n",
    "    \n",
    "    x_train,x_val,y_train,y_val=train_test_split(train,target,test_size=0.2,random_state=0)\n",
    "    train_mat = lgb.Dataset(x_train, label=y_train)\n",
    "    val_mat = lgb.Dataset(x_val, label=y_val)\n",
    "    model = lightgbm.train(params,train_mat,num_boost_round=1000,early_stopping_rounds=100,valid_sets=val_mat,verbose_eval=200)\n",
    "    \n",
    "    important_normal=sorted(zip(list(x_train.columns), model.feature_importance(\"gain\")),key=lambda x: x[0],reverse=True)\n",
    "    \n",
    "    #打乱重要性\n",
    "    list_neg=[]\n",
    "    len_round=NUM\n",
    "    for round_i in range(len_round):\n",
    "        train_data=train_df[select_frts]\n",
    "        re_label=train_df[\"label\"].values\n",
    "        random.shuffle(re_label)\n",
    "        train_df[\"label\"]=re_label\n",
    "        target=train_df['label']\n",
    "        \n",
    "        x_train,x_val,y_train,y_val=train_test_split(train_data,target,test_size=0.2,random_state=0)\n",
    "        train_mat = lgb.Dataset(x_train, label=y_train)\n",
    "        val_mat = lgb.Dataset(x_val, label=y_val)\n",
    "        model = lgb.train(params,train_mat,num_boost_round=1000,early_stopping_rounds=100,valid_sets=val_mat,verbose_eval=200)\n",
    "        list_neg.append(sorted(zip(list(x_train.columns), model.feature_importance(\"gain\")),key=lambda x: x[0],reverse=True))\n",
    "        \n",
    "    #比较重要性\n",
    "    important_no=[]\n",
    "    vv=list_neg[0]\n",
    "    for i in range(len(vv)):\n",
    "        key=vv[i][0]\n",
    "        value=vv[i][1]/len_round\n",
    "        for j in range(1,len_round):\n",
    "            value+=list_neg[j][i][1]/len_round\n",
    "        important_no.append((key,value))\n",
    "    #\n",
    "    diff_list=[]\n",
    "    for i in range(len(important_normal)):\n",
    "        diff_list.append((important_normal[i][0],important_normal[i][1]-important_no[i][1]))\n",
    "    importance_last=sorted(diff_list,key=lambda x: x[1],reverse=True)\n",
    "    selected_feature = [i[0] for i in importance_last if i[1] > 0]\n",
    "\n",
    "    return selected_feature"
   ]
  },
  {
   "cell_type": "markdown",
   "id": "efcf26c8",
   "metadata": {},
   "source": [
    "### 伪标签"
   ]
  },
  {
   "cell_type": "code",
   "execution_count": null,
   "id": "ea967916",
   "metadata": {},
   "outputs": [],
   "source": [
    "# 1. 使用标记数据训练有监督模型M\n",
    "# 2. 使用有监督模型M对无标签数据进行预测，得出预测概率P\n",
    "# 3. 通过预测概率P筛选高置信度样本\n",
    "# 4. 使用有标记数据以及伪标签数据训练新模型M’\n",
    "pseudo_train=train.drop(['id','label'],axis=1)\n",
    "label=train['label']\n",
    "pseudo_name=[]\n",
    "pseudo_label={'id':[],'label':[]}\n",
    "pseudo_df=pd.read_csv('SUBMIT.csv')\n",
    "for index,name,score in pseudo_df.itertuples():\n",
    "    if score>0.9 or score<0.05:\n",
    "        pseudo_label['id'].append(name)\n",
    "        if score>0.9 :\n",
    "            pseudo_label['label'].append(1)\n",
    "        else:\n",
    "            pseudo_label['label'].append(0)\n",
    "        pseudo_name.append(name)\n",
    "len(pseudo_name)\n",
    "pseudo_data=test[test.id.isin(pseudo_name)].reset_index(drop=True)\n",
    "pseudo_data=pseudo_data.merge(pd.DataFrame(pseudo_label))\n",
    "#\n",
    "train=pd.concat((train,pseudo_data)).reset_index(drop=True)\n",
    "train_data=train_df.drop(['id','label'],axis=1)\n",
    "kind=train_df['label']\n",
    "print(train_data.shape,test_data.shape)"
   ]
  },
  {
   "cell_type": "markdown",
   "id": "63e91773",
   "metadata": {},
   "source": [
    "### 嫁接学习——线上线下数据分布不一致"
   ]
  },
  {
   "cell_type": "code",
   "execution_count": null,
   "id": "43308c59",
   "metadata": {},
   "outputs": [],
   "source": [
    "# 使用老数据训练modelA\n",
    "# 使用modelA对新数据进行预测，将预测结果作为一个新特征加入新数据\n",
    "# 带新特征的新数据训练modelB\n",
    "# 使用modelB预测训练集"
   ]
  },
  {
   "cell_type": "markdown",
   "id": "d57c576c",
   "metadata": {},
   "source": [
    "### 知识蒸馏"
   ]
  },
  {
   "cell_type": "markdown",
   "id": "c98b3cb6",
   "metadata": {},
   "source": [
    "### 自动搜索模型——模型选择"
   ]
  },
  {
   "cell_type": "code",
   "execution_count": null,
   "id": "48ef6dc3",
   "metadata": {},
   "outputs": [],
   "source": [
    "from auto_ml import Predictor\n",
    "from auto_ml.utils import get_boston_dataset\n",
    "\n",
    "df_train, df_test = get_boston_dataset()\n",
    "\n",
    "column_descriptions = {\n",
    "    'MEDV': 'output',\n",
    "    'CHAS': 'categorical'\n",
    "}\n",
    "\n",
    "ml_predictor = Predictor(type_of_estimator='regressor', column_descriptions=column_descriptions)\n",
    "\n",
    "ml_predictor.train(df_train)\n",
    "\n",
    "ml_predictor.score(df_test, df_test.MEDV)"
   ]
  },
  {
   "cell_type": "markdown",
   "id": "ad51cdfd",
   "metadata": {},
   "source": [
    "### 模型融合"
   ]
  },
  {
   "cell_type": "markdown",
   "id": "f5217fc3",
   "metadata": {},
   "source": [
    "1.  简单加权融合:\n",
    "    - 回归（分类概率）：算术平均融合（Arithmetic mean），几何平均融合（Geometric mean）；\n",
    "    - 分类：投票（Voting)\n",
    "    - 综合：排序融合(Rank averaging)，log融合\n",
    "\n",
    "\n",
    "2.  stacking/blending:\n",
    "    - 构建多层模型，并利用预测结果再拟合预测。\n",
    "\n",
    "\n",
    "3.  boosting/bagging（在xgboost，Adaboost,GBDT中已经用到）:\n",
    "    - 多树的提升方法"
   ]
  },
  {
   "cell_type": "markdown",
   "id": "14bcefd1",
   "metadata": {},
   "source": [
    "- MODEL模型A,B,C,D\n",
    "    - A = xgb.XGBClassifier(PARAMS)\n",
    "    - B = lgb.LGBMClassifier(PARAMS)\n",
    "    - C = cab.CatBoostClassifier(PARAMS)\n",
    "    - D = RandomForestClassifier(PARAMS)"
   ]
  },
  {
   "cell_type": "markdown",
   "id": "e680b9b7",
   "metadata": {},
   "source": [
    "#### 加权平均"
   ]
  },
  {
   "cell_type": "code",
   "execution_count": null,
   "id": "5d062c2f",
   "metadata": {},
   "outputs": [],
   "source": [
    "prob_A = A.predict_proba(x_test)\n",
    "prob_B = B.predict_proba(x_test)\n",
    "prob_C = C.predict_proba(x_test)\n",
    "prob_D = D.predict_proba(x_test)\n",
    "weight = np.arange(0, 1.05, 0.1)\n",
    "ijkl = []\n",
    "for i, item1 in enumerate(weight):\n",
    "    for j, item2 in enumerate(weight[weight <= (1-item1)]):\n",
    "        for k, item3 in enumerate(weight[weight <= (1-item1-item2)]):\n",
    "            prob_end = prob_A*item1 + prob_B*item2 + prob_C*item3 + prob_D*(1-item1-item2-item3)\n",
    "            #prob_end = np.sqrt(prob_A**2*item1 + prob_B**2*item2 + prob_C**2*item3 + prob_D**2*(1-item1-item2-item3))\n",
    "            #......SCORE.....\n",
    "            ijkl.append((item1, item2, item3, 1-item1-item2-item3))\n",
    "\n",
    "ii = ijkl[np.argmax(scores)][0]\n",
    "jj = ijkl[np.argmax(scores)][1]\n",
    "kk = ijkl[np.argmax(scores)][2]\n",
    "ll = ijkl[np.argmax(scores)][3]\n",
    "\n",
    "test_prob_A = A.predict_proba(test_data)\n",
    "test_prob_B = B.predict_proba(test_data)\n",
    "test_prob_C = C.predict_proba(test_data)\n",
    "test_prob_D = D.predict_proba(test_data)\n",
    "ans = test_prob_A*ii + test_prob_B*jj + test_prob_C*kk + test_prob_D*ll"
   ]
  },
  {
   "cell_type": "markdown",
   "id": "c078b043",
   "metadata": {},
   "source": [
    "#### 投票"
   ]
  },
  {
   "cell_type": "code",
   "execution_count": null,
   "id": "c825623e",
   "metadata": {},
   "outputs": [],
   "source": [
    "sub_1=pd.read_csv(\"A_sub.csv\")\n",
    "sub_2=pd.read_csv(\"B_sub.csv\")\n",
    "sub_3=pd.read_csv(\"C_sub.csv\")\n",
    "sub_4=pd.read_csv(\"D_sub.csv\")\n",
    "\n",
    "sub_value_1=sub_1['label'].values\n",
    "sub_value_2=sub_2['label'].values\n",
    "sub_value_3=sub_3['label'].values\n",
    "sub_value_4=sub_4['label'].values\n",
    "cls=sub_1['label'].unique()\n",
    "most_list=[]\n",
    "for i in range(len(sub_value_1)):\n",
    "    vote=[sub_value_1[i],sub_value_2[i],sub_value_3[i],sub_value_4[i],sub_value_5[i]]\n",
    "    tmp={}\n",
    "    for k in cls:\n",
    "        tmp[k]=0\n",
    "    for j in vote:\n",
    "        tmp[j]+=1\n",
    "    most = sorted(tmp.items(), key=lambda item: item[1])[-1][0]\n",
    "    most_list.append(most)\n",
    "sub_1['label']=most_list\n",
    "sub_1.to_csv(\"vote.csv\",index=False)"
   ]
  },
  {
   "cell_type": "code",
   "execution_count": null,
   "id": "70e78bd7",
   "metadata": {},
   "outputs": [],
   "source": [
    "from sklearn.ensemble import VotingClassifier\n",
    "'''\n",
    "硬投票：对多个模型直接进行投票，不区分模型结果的相对重要度，最终投票数最多的类为最终被预测的类。\n",
    "'''\n",
    "eclf = VotingClassifier(estimators=[('xgb', clf1), ('rf', clf2), ('svc', clf3)], voting='hard')\n",
    "for clf, label in zip([clf1, clf2, clf3, eclf], ['XGBBoosting', 'Random Forest', 'SVM', 'Ensemble']):\n",
    "    scores = cross_val_score(clf, x, y, cv=5, scoring='accuracy')\n",
    "    print(\"Accuracy: %0.2f (+/- %0.2f) [%s]\" % (scores.mean(), scores.std(), label))\n",
    "\n",
    "'''\n",
    "软投票：和硬投票原理相同，增加了设置权重的功能，可以为不同模型设置不同权重，进而区别模型不同的重要度。\n",
    "'''\n",
    "eclf = VotingClassifier(estimators=[('xgb', clf1), ('rf', clf2), ('svc', clf3)], voting='soft', weights=[2, 1, 1])\n",
    "for clf, label in zip([clf1, clf2, clf3, eclf], ['XGBBoosting', 'Random Forest', 'SVM', 'Ensemble']):\n",
    "    scores = cross_val_score(clf, x, y, cv=5, scoring='accuracy')\n",
    "    print(\"Accuracy: %0.2f (+/- %0.2f) [%s]\" % (scores.mean(), scores.std(), label))"
   ]
  },
  {
   "cell_type": "markdown",
   "id": "ffae7f45",
   "metadata": {},
   "source": [
    "#### 贪心搜索"
   ]
  },
  {
   "cell_type": "markdown",
   "id": "ae27b906",
   "metadata": {},
   "source": [
    "#### stacking"
   ]
  },
  {
   "cell_type": "markdown",
   "id": "396936aa",
   "metadata": {},
   "source": [
    "Stacking有时对于如果训练集和测试集分布不那么一致的情况下是有一点问题的，其问题在于用初始模型训练的标签再利用真实标签进行再训练，毫无疑问会导致一定的模型过拟合训练集，这样或许模型在测试集上的泛化能力或者说效果会有一定的下降，因此现在的问题变成了如何降低再训练的过拟合性，这里我们一般有两种方法。\n",
    "* 1. 次级模型尽量选择简单的线性模型\n",
    "* 2. 利用K折交叉验证"
   ]
  },
  {
   "attachments": {
    "20170915114447314.jpeg": {
     "image/jpeg": "[encoded data removed]"
    }
   },
   "cell_type": "markdown",
   "id": "14397f66",
   "metadata": {},
   "source": [
    "![20170915114447314.jpeg](attachment:20170915114447314.jpeg)"
   ]
  },
  {
   "cell_type": "code",
   "execution_count": null,
   "id": "c5fa60fd",
   "metadata": {},
   "outputs": [],
   "source": [
    "'''\n",
    "5-Fold Stacking\n",
    "'''\n",
    "#模型融合中使用到的各个单模型\n",
    "clfs = [LogisticRegression(solver='lbfgs'),\n",
    "        RandomForestClassifier(n_estimators=5, n_jobs=-1, criterion='gini'),\n",
    "        ExtraTreesClassifier(n_estimators=5, n_jobs=-1, criterion='gini'),\n",
    "        ExtraTreesClassifier(n_estimators=5, n_jobs=-1, criterion='entropy'),\n",
    "        GradientBoostingClassifier(learning_rate=0.05, subsample=0.5, max_depth=6, n_estimators=5)]\n",
    " \n",
    "#切分一部分数据作为测试集\n",
    "X, X_predict, y, y_predict = train_test_split(data, target, test_size=0.3, random_state=2020)\n",
    "\n",
    "dataset_blend_train = np.zeros((X.shape[0], len(clfs)))\n",
    "dataset_blend_test = np.zeros((X_predict.shape[0], len(clfs)))\n",
    "\n",
    "#5折stacking\n",
    "n_splits = 5\n",
    "skf = StratifiedKFold(n_splits)\n",
    "skf = skf.split(X, y)\n",
    "\n",
    "for j, clf in enumerate(clfs):\n",
    "    #依次训练各个单模型\n",
    "    dataset_blend_test_j = np.zeros((X_predict.shape[0], 5))\n",
    "    for i, (train, test) in enumerate(skf):\n",
    "        #5-Fold交叉训练，使用第i个部分作为预测，剩余的部分来训练模型，获得其预测的输出作为第i部分的新特征。\n",
    "        X_train, y_train, X_test, y_test = X[train], y[train], X[test], y[test]\n",
    "        clf.fit(X_train, y_train)\n",
    "        y_submission = clf.predict_proba(X_test)[:, 1]\n",
    "        dataset_blend_train[test, j] = y_submission\n",
    "        dataset_blend_test_j[:, i] = clf.predict_proba(X_predict)[:, 1]\n",
    "    #对于测试集，直接用这k个模型的预测值均值作为新的特征。\n",
    "    dataset_blend_test[:, j] = dataset_blend_test_j.mean(1)\n",
    "    print(\"val auc Score: %f\" % roc_auc_score(y_predict, dataset_blend_test[:, j]))\n",
    "\n",
    "clf = LogisticRegression(solver='lbfgs')\n",
    "clf.fit(dataset_blend_train, y)\n",
    "y_submission = clf.predict_proba(dataset_blend_test)[:, 1]\n",
    "\n",
    "print(\"Val auc Score of Stacking: %f\" % (roc_auc_score(y_predict, y_submission)))"
   ]
  },
  {
   "cell_type": "code",
   "execution_count": null,
   "id": "f5f50ca1",
   "metadata": {},
   "outputs": [],
   "source": [
    "from mlxtend.classifier import StackingClassifier\n",
    "from mlxtend.plotting import plot_learning_curves, plot_decision_regions\n",
    "import matplotlib.gridspec as gridspec\n",
    "\n",
    "clf1 = KNeighborsClassifier(n_neighbors=1)\n",
    "clf2 = RandomForestClassifier(random_state=1)\n",
    "clf3 = GaussianNB()\n",
    "lr = LogisticRegression()\n",
    "sclf = StackingClassifier(classifiers=[clf1, clf2, clf3], \n",
    "                          meta_classifier=lr)\n",
    "\n",
    "label = ['KNN', 'Random Forest', 'Naive Bayes', 'Stacking Classifier']\n",
    "clf_list = [clf1, clf2, clf3, sclf]\n",
    "\n",
    "fig = plt.figure(figsize=(10,8))\n",
    "gs = gridspec.GridSpec(2, 2)\n",
    "grid = itertools.product([0,1],repeat=2)\n",
    "\n",
    "clf_cv_mean = []\n",
    "clf_cv_std = []\n",
    "for clf, label, grd in zip(clf_list, label, grid):\n",
    "        \n",
    "    scores = cross_val_score(clf, X, y, cv=3, scoring='accuracy')\n",
    "    print(\"Accuracy: %.2f (+/- %.2f) [%s]\" %(scores.mean(), scores.std(), label))\n",
    "    clf_cv_mean.append(scores.mean())\n",
    "    clf_cv_std.append(scores.std())\n",
    "        \n",
    "    clf.fit(X, y)\n",
    "    ax = plt.subplot(gs[grd[0], grd[1]])\n",
    "    fig = plot_decision_regions(X=X, y=y, clf=clf)\n",
    "    plt.title(label)\n",
    "\n",
    "plt.show()"
   ]
  },
  {
   "cell_type": "markdown",
   "id": "875dd4fd",
   "metadata": {},
   "source": [
    "#### blending"
   ]
  },
  {
   "cell_type": "markdown",
   "id": "7ee4a5d3",
   "metadata": {},
   "source": [
    "Blending，其实和Stacking是一种类似的多层模型融合的形式\n",
    "\n",
    "> 其主要思路是把原始的训练集先分成两部分，比如70%的数据作为新的训练集，剩下30%的数据作为测试集。\n",
    "\n",
    "> 在第一层，我们在这70%的数据上训练多个模型，然后去预测那30%数据的label，同时也预测test集的label。\n",
    "\n",
    "> 在第二层，我们就直接用这30%数据在第一层预测的结果做为新特征继续训练，然后用test集第一层预测的label做特征，用第二层训练的模型做进一步预测\n",
    "\n",
    "其优点在于：\n",
    "* 1.比stacking简单（因为不用进行k次的交叉验证来获得stacker feature）\n",
    "* 2.避开了一个信息泄露问题：generlizers和stacker使用了不一样的数据集\n",
    "\n",
    "缺点在于：\n",
    "* 1.使用了很少的数据（第二阶段的blender只使用training set10%的量）\n",
    "* 2.blender可能会过拟合\n",
    "* 3.stacking使用多次的交叉验证会比较稳健"
   ]
  },
  {
   "cell_type": "code",
   "execution_count": null,
   "id": "ba62f076",
   "metadata": {},
   "outputs": [],
   "source": [
    "'''\n",
    "Blending\n",
    "'''\n",
    "#模型融合中使用到的各个单模型\n",
    "clfs = [LogisticRegression(solver='lbfgs'),\n",
    "        RandomForestClassifier(n_estimators=5, n_jobs=-1, criterion='gini'),\n",
    "        RandomForestClassifier(n_estimators=5, n_jobs=-1, criterion='entropy'),\n",
    "        ExtraTreesClassifier(n_estimators=5, n_jobs=-1, criterion='gini'),\n",
    "        #ExtraTreesClassifier(n_estimators=5, n_jobs=-1, criterion='entropy'),\n",
    "        GradientBoostingClassifier(learning_rate=0.05, subsample=0.5, max_depth=6, n_estimators=5)]\n",
    " \n",
    "#切分一部分数据作为测试集\n",
    "X, X_predict, y, y_predict = train_test_split(data, target, test_size=0.3, random_state=2020)\n",
    "\n",
    "#切分训练数据集为d1,d2两部分\n",
    "X_d1, X_d2, y_d1, y_d2 = train_test_split(X, y, test_size=0.5, random_state=2020)\n",
    "dataset_d1 = np.zeros((X_d2.shape[0], len(clfs)))\n",
    "dataset_d2 = np.zeros((X_predict.shape[0], len(clfs)))\n",
    " \n",
    "for j, clf in enumerate(clfs):\n",
    "    #依次训练各个单模型\n",
    "    clf.fit(X_d1, y_d1)\n",
    "    y_submission = clf.predict_proba(X_d2)[:, 1]\n",
    "    dataset_d1[:, j] = y_submission\n",
    "    #对于测试集，直接用这k个模型的预测值作为新的特征。\n",
    "    dataset_d2[:, j] = clf.predict_proba(X_predict)[:, 1]\n",
    "    print(\"val auc Score: %f\" % roc_auc_score(y_predict, dataset_d2[:, j]))\n",
    "\n",
    "#融合使用的模型\n",
    "clf = GradientBoostingClassifier(learning_rate=0.02, subsample=0.5, max_depth=6, n_estimators=30)\n",
    "clf.fit(dataset_d1, y_d2)\n",
    "y_submission = clf.predict_proba(dataset_d2)[:, 1]\n",
    "print(\"Val auc Score of Blending: %f\" % (roc_auc_score(y_predict, y_submission)))"
   ]
  },
  {
   "cell_type": "markdown",
   "id": "0044cc2a",
   "metadata": {},
   "source": [
    "# 模块"
   ]
  },
  {
   "cell_type": "code",
   "execution_count": null,
   "id": "f1d49397",
   "metadata": {},
   "outputs": [],
   "source": [
    "import os\n",
    "import numpy as np\n",
    "import pandas as pd\n",
    "import matplotlib.pyplot as plt\n",
    "%matplotlib inline\n",
    "plt.rcParams['font.family'] = 'Heiti TC'  # 用来正常显示中文标签\n",
    "plt.rcParams['axes.unicode_minus'] = False # 用来正常显示负号\n",
    "import seaborn as sns\n",
    "import time\n",
    "from datetime import datetime\n",
    "import warnings\n",
    "warnings.filterwarnings('ignore')\n",
    "import gc"
   ]
  },
  {
   "cell_type": "markdown",
   "id": "a4ff8ca5",
   "metadata": {},
   "source": [
    "- tqdm\n",
    "    - 显示进度条\n",
    "        - from tqdm import tqdm\n",
    "          for i in tqdm(range(n)):\n",
    "- gc\n",
    "    - 垃圾回收\n",
    "        - gc.collect()\n",
    "        - 返回垃圾回收个数\n",
    "        \n",
    "- os\n",
    "    - 操作系统\n",
    "        - os.path.exists(Str)\n",
    "            - 是否存在该路径\n",
    "        - os.mkdir(Str)\n",
    "            - 创建目录\n",
    "        - os.path.join(Str)\n",
    "            - 添加路径\n",
    "- xlrd\n",
    "    - 读取excel\n",
    "        - open_workbook(Str)\n",
    "            \n",
    "    \n",
    "- logging\n",
    "    - 日志\n",
    "    - logging.basicConfig(level=logging.INFO, format='%(asctime)-15s %(levelname)s: %(message)s')\n",
    "        - logging.basicConfig(level=logging.INFO, format=LOG_FORMAT)\n",
    "            - level\n",
    "                - 日志级别\n",
    "                - CRITICAL > ERROR > WARNING > INFO > DEBUG\n",
    "                - INFO：确认一切按预期运行级别\n",
    "                - NOTSET：低于WARNING级别的内容\n",
    "            - format\n",
    "                - 日志格式\n",
    "                - LOG_FORMAT = \"%(asctime)s - %(levelname)s - %(message)s\"\n",
    "        - logger = logging,getlogger()\n",
    "        \n",
    "        \n",
    "        \n",
    "- glob\n",
    "    - 查找符合特定规则的文件路径名\n",
    "        - glob.glob(r'../*.py')\n",
    "\n",
    "- PIL\n",
    "    - 图像处理\n",
    "        - from PIL import Image\n",
    "            - Image.open('.jpg')\n",
    "                - 打开图像\n",
    "\n",
    "- argparse\n",
    "    - 命令行\n",
    "        - parser = argparse.ArgumentParser()\n",
    "        - parser.add_argument('--FUNC', type=TYPE, default=)\n",
    "\n",
    "- geopy\n",
    "    - 地理编码\n",
    "        - from geopy.distance import geodesic\n",
    "        - DISTANCE = geodesic((x[i-1],y[i-1]), (x[i],y[i])).km\n",
    "            - 地理距离\n",
    "\n",
    "- pdb\n",
    "    - 调试\n",
    "        - pdb.set_trace()"
   ]
  },
  {
   "cell_type": "markdown",
   "id": "e73036d6",
   "metadata": {},
   "source": [
    "# 其他"
   ]
  },
  {
   "cell_type": "markdown",
   "id": "cce5c491",
   "metadata": {},
   "source": [
    "## 随机种子"
   ]
  },
  {
   "cell_type": "code",
   "execution_count": null,
   "id": "cca30570",
   "metadata": {},
   "outputs": [],
   "source": [
    "def setting_seed(seed=1):\n",
    "    seed = int(seed)\n",
    "    os.environ['PYTHONHASHSEED'] = str(seed)\n",
    "    random.seed(seed)\n",
    "    np.random.seed(seed)\n",
    "    torch.cuda.manual_seed(seed)\n",
    "    torch.manual_seed(seed)\n",
    "    \n",
    "setting_seed(2022)"
   ]
  },
  {
   "cell_type": "markdown",
   "id": "e2c8bc48",
   "metadata": {},
   "source": [
    "## 减少内存"
   ]
  },
  {
   "cell_type": "code",
   "execution_count": null,
   "id": "5f491bdd",
   "metadata": {},
   "outputs": [],
   "source": [
    "# 节约内存的一个标配函数\n",
    "def reduce_mem(df):\n",
    "    starttime = time.time()\n",
    "    numerics = ['int16', 'int32', 'int64', 'float16', 'float32', 'float64']\n",
    "    start_mem = df.memory_usage().sum() / 1024**2\n",
    "    for col in df.columns:\n",
    "        col_type = df[col].dtypes\n",
    "        if col_type in numerics:\n",
    "            c_min = df[col].min()\n",
    "            c_max = df[col].max()\n",
    "            if pd.isnull(c_min) or pd.isnull(c_max):\n",
    "                continue\n",
    "            if str(col_type)[:3] == 'int':\n",
    "                if c_min > np.iinfo(np.int8).min and c_max < np.iinfo(np.int8).max:\n",
    "                    df[col] = df[col].astype(np.int8)\n",
    "                elif c_min > np.iinfo(np.int16).min and c_max < np.iinfo(np.int16).max:\n",
    "                    df[col] = df[col].astype(np.int16)\n",
    "                elif c_min > np.iinfo(np.int32).min and c_max < np.iinfo(np.int32).max:\n",
    "                    df[col] = df[col].astype(np.int32)\n",
    "                elif c_min > np.iinfo(np.int64).min and c_max < np.iinfo(np.int64).max:\n",
    "                    df[col] = df[col].astype(np.int64)\n",
    "            else:\n",
    "                if c_min > np.finfo(np.float16).min and c_max < np.finfo(np.float16).max:\n",
    "                    df[col] = df[col].astype(np.float16)\n",
    "                elif c_min > np.finfo(np.float32).min and c_max < np.finfo(np.float32).max:\n",
    "                    df[col] = df[col].astype(np.float32)\n",
    "                else:\n",
    "                    df[col] = df[col].astype(np.float64)\n",
    "    end_mem = df.memory_usage().sum() / 1024**2\n",
    "    print('-- Mem. usage decreased to {:5.2f} Mb ({:.1f}% reduction),time spend:{:2.2f} min'\\\n",
    "          .format(end_mem, 100*(start_mem-end_mem)/start_mem, (time.time()-starttime)/60))\n",
    "    return df"
   ]
  },
  {
   "cell_type": "markdown",
   "id": "e7b65bfd",
   "metadata": {},
   "source": [
    "## 设置cuda"
   ]
  },
  {
   "cell_type": "code",
   "execution_count": null,
   "id": "46aba416",
   "metadata": {},
   "outputs": [],
   "source": [
    "gpu = 0\n",
    "use_cuda = gpu >= 0 and torch.cuda.is_available()\n",
    "if use_cuda:\n",
    "    torch.cuda.set_device(gpu)\n",
    "    device = torch.device(\"cuda\", gpu)\n",
    "else:\n",
    "    device = torch.device(\"cpu\")\n",
    "logging.info(\"Use cuda: %s, gpu id: %d.\", use_cuda, gpu)"
   ]
  }
 ],
 "metadata": {
  "kernelspec": {
   "display_name": "Python 3 (ipykernel)",
   "language": "python",
   "name": "python3"
  },
  "language_info": {
   "codemirror_mode": {
    "name": "ipython",
    "version": 3
   },
   "file_extension": ".py",
   "mimetype": "text/x-python",
   "name": "python",
   "nbconvert_exporter": "python",
   "pygments_lexer": "ipython3",
   "version": "3.9.7"
  },
  "toc": {
   "base_numbering": 1,
   "nav_menu": {},
   "number_sections": true,
   "sideBar": true,
   "skip_h1_title": false,
   "title_cell": "Table of Contents",
   "title_sidebar": "Contents",
   "toc_cell": true,
   "toc_position": {
    "height": "calc(100% - 180px)",
    "left": "10px",
    "top": "150px",
    "width": "222.05882263183594px"
   },
   "toc_section_display": true,
   "toc_window_display": true
  }
 },
 "nbformat": 4,
 "nbformat_minor": 5
}
